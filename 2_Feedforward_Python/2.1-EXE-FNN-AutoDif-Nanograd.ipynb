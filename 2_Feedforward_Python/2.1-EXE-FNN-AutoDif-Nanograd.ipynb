{
  "cells": [
    {
      "cell_type": "markdown",
      "metadata": {
        "id": "HAva8TnYFtFu"
      },
      "source": [
        "# Contents and why we need this lab\n",
        "\n",
        "This lab is about implementing neural networks yourself before we start using other frameworks that hide some of the computation from you. It builds on the first lab, where you derived the equations for neural network forward and backward propagation and gradient descent parameter updates.\n",
        "\n",
        "All the frameworks for deep learning you will meet from now on use automatic differentiation (autodiff), so you do not have to code the backward step yourself. In this version of this lab, you will develop your own autodif implementation. We also have an optional [version](https://github.com/DeepLearningDTU/02456-deep-learning-with-PyTorch/blob/master/2_Feedforward_Python/2.2-FNN-NumPy.ipynb) of this lab where you have to code the backward pass explicitly in Numpy."
      ]
    },
    {
      "cell_type": "markdown",
      "metadata": {
        "id": "sCa7HzwpFtFy"
      },
      "source": [
        "# External sources of information\n",
        "\n",
        "1. Jupyter notebook. You can find more information about Jupyter notebooks [here](https://jupyter.org/). It will come as part of the [Anaconda](https://www.anaconda.com/) Python installation.\n",
        "2. [NumPy](https://numpy.org/). Part of Anaconda distribution.  If you already know how to program, most things about Python and NumPy can be found with Google searches.\n",
        "3. [Nanograd](https://github.com/rasmusbergpalm/nanograd) is a minimalistic version of autodiff developed by Rasmus Berg Palm that we use for our framework.\n"
      ]
    },
    {
      "cell_type": "markdown",
      "metadata": {
        "id": "1SjiIp-TFtF0"
      },
      "source": [
        "# This notebook will follow the next steps:\n",
        "\n",
        "1. Nanograd automatic differentiation framework\n",
        "2. Finite difference method\n",
        "3. Data generation\n",
        "4. Defining and initializing the network\n",
        "5. Forward pass\n",
        "6. Training loop\n",
        "7. Testing your model\n",
        "8. Further extensions"
      ]
    },
    {
      "cell_type": "markdown",
      "metadata": {
        "id": "OyXeAA-HuT7s"
      },
      "source": [
        "# Nanograd automatic differention framework"
      ]
    },
    {
      "cell_type": "markdown",
      "metadata": {
        "id": "k6UWKCLKubgA"
      },
      "source": [
        "The [Nanograd](https://github.com/rasmusbergpalm/nanograd) framework defines a class Var which both holds a value and gradient value that we can use to store the intermediate values when we apply the chain rule of differentiation."
      ]
    },
    {
      "cell_type": "code",
      "execution_count": 2,
      "metadata": {
        "id": "Jd4CoEBNzNWS"
      },
      "outputs": [],
      "source": [
        "# Copy and pasted from https://github.com/rasmusbergpalm/nanograd/blob/3a1bf9e9e724da813bfccf91a6f309abdade9f39/nanograd.py\n",
        "\n",
        "from math import exp, log\n",
        "\n",
        "class Var:\n",
        "    \"\"\"\n",
        "    A variable which holds a float and enables gradient computations.\n",
        "    \"\"\"\n",
        "\n",
        "    def __init__(self, val: float, grad_fn=lambda: []):\n",
        "        assert type(val) == float\n",
        "        self.v = val\n",
        "        self.grad_fn = grad_fn\n",
        "        self.grad = 0.0\n",
        "\n",
        "    def backprop(self, bp):\n",
        "        self.grad += bp\n",
        "        for input, grad in self.grad_fn():\n",
        "            input.backprop(grad * bp)\n",
        "\n",
        "    def backward(self):\n",
        "        self.backprop(1.0)\n",
        "\n",
        "    def __add__(self: 'Var', other: 'Var') -> 'Var':\n",
        "        return Var(self.v + other.v, lambda: [(self, 1.0), (other, 1.0)])\n",
        "\n",
        "    def __mul__(self: 'Var', other: 'Var') -> 'Var':\n",
        "        return Var(self.v * other.v, lambda: [(self, other.v), (other, self.v)])\n",
        "\n",
        "    def __pow__(self, power):\n",
        "        assert type(power) in {float, int}, \"power must be float or int\"\n",
        "        return Var(self.v ** power, lambda: [(self, power * self.v ** (power - 1))])\n",
        "\n",
        "    def __neg__(self: 'Var') -> 'Var':\n",
        "        return Var(-1.0) * self\n",
        "\n",
        "    def __sub__(self: 'Var', other: 'Var') -> 'Var':\n",
        "        return self + (-other)\n",
        "\n",
        "    def __truediv__(self: 'Var', other: 'Var') -> 'Var':\n",
        "        return self * other ** -1\n",
        "\n",
        "    def __repr__(self):\n",
        "        return \"Var(v=%.4f, grad=%.4f)\" % (self.v, self.grad)\n",
        "\n",
        "    def relu(self):\n",
        "        return Var(self.v if self.v > 0.0 else 0.0, lambda: [(self, 1.0 if self.v > 0.0 else 0.0)])"
      ]
    },
    {
      "cell_type": "markdown",
      "metadata": {
        "id": "yDX67D6jzcte"
      },
      "source": [
        "A few examples illustrate how we can use this:"
      ]
    },
    {
      "cell_type": "code",
      "execution_count": 3,
      "metadata": {
        "colab": {
          "base_uri": "https://localhost:8080/"
        },
        "id": "xk6PeLc3zwPT",
        "outputId": "4f32562e-6193-468d-8afd-ae06fbfe31cd"
      },
      "outputs": [
        {
          "output_type": "stream",
          "name": "stdout",
          "text": [
            "Var(v=3.0000, grad=5.0000)\n",
            "Var(v=5.0000, grad=3.0000)\n",
            "Var(v=15.0000, grad=1.0000)\n"
          ]
        }
      ],
      "source": [
        "a = Var(3.0)\n",
        "b = Var(5.0)\n",
        "f = a * b\n",
        "\n",
        "f.backward()\n",
        "\n",
        "for v in [a, b, f]:\n",
        "    print(v)"
      ]
    },
    {
      "cell_type": "code",
      "execution_count": 4,
      "metadata": {
        "colab": {
          "base_uri": "https://localhost:8080/"
        },
        "id": "JmKhYgsY0g_o",
        "outputId": "d997a469-0983-4979-bd97-28f775acad72"
      },
      "outputs": [
        {
          "output_type": "stream",
          "name": "stdout",
          "text": [
            "Var(v=3.0000, grad=14.0000)\n",
            "Var(v=5.0000, grad=3.0000)\n",
            "Var(v=15.0000, grad=1.0000)\n",
            "Var(v=9.0000, grad=3.0000)\n",
            "Var(v=27.0000, grad=1.0000)\n",
            "Var(v=42.0000, grad=1.0000)\n"
          ]
        }
      ],
      "source": [
        "a = Var(3.0)\n",
        "b = Var(5.0)\n",
        "c = a * b\n",
        "d = Var(9.0)\n",
        "e = a * d\n",
        "f = c + e\n",
        "\n",
        "f.backward()\n",
        "\n",
        "for v in [a, b, c, d, e, f]:\n",
        "    print(v)"
      ]
    },
    {
      "cell_type": "markdown",
      "metadata": {
        "id": "Fe3B6uEH140p"
      },
      "source": [
        "## Exercise a) What is being calculated?\n",
        "\n",
        "Explain briefly the output of the code? What is the expression we differentiate and with respect to what variables?\n",
        "\n",
        "### Answer\n",
        "The code utilises the product rule to break down differentials into their partial components. After calling f.backward(), the outputs given are the partial differentials of the function f with regards to all variables in [a, b, f] and [a, b, c, d, e, f]."
      ]
    },
    {
      "cell_type": "markdown",
      "metadata": {
        "id": "q8_Q0t2I3Ruj"
      },
      "source": [
        "## Exercise b) How does the backward function work?\n",
        "\n",
        "You need to understand how the backward function calculates the gradients. We can use the two examples above to help with that.\n",
        "\n",
        "Go through the following four steps and answer the questions on the way:\n",
        "\n",
        "1. We represent the two expressions as graphs as shown below. Fill in the missing expressions for the different derivatives.\n",
        "\n",
        "2. In the remainder consider the first expression. Make a schematic of the data structure which is generated when we define the expression for f.\n",
        "\n",
        "3. Then execute the backward function by hand to convince yourself that it indeed calculates the gradients with respect to the variables.\n",
        "\n",
        "4. Write down the sequence of calls to backprop.\n",
        "\n",
        "### Answers\n",
        "1. In code.\n",
        "\n",
        "2. Computational graph already given by code.\n",
        "\n",
        "3. On paper.\n",
        "4.\n",
        "f.backward()\\\n",
        "f.backprop(1.0)\\\n",
        "a.backprop(5.0 * 1.0)\\\n",
        "b.backprop(3.0 * 1.0)"
      ]
    },
    {
      "cell_type": "code",
      "execution_count": 5,
      "metadata": {
        "id": "idGr71jYXl26"
      },
      "outputs": [],
      "source": [
        "# import logging\n",
        "import graphviz\n",
        "\n",
        "#logging.basicConfig(format='[%(levelname)s@%(name)s] %(message)s', level=logging.DEBUG)\n",
        "\n",
        "#graphviz.__version__, graphviz.version()"
      ]
    },
    {
      "cell_type": "code",
      "execution_count": 6,
      "metadata": {
        "colab": {
          "base_uri": "https://localhost:8080/",
          "height": 152
        },
        "id": "KPe30Q2QXzeG",
        "outputId": "0f670fa4-f847-4b58-eb38-a7cbcc33e21f"
      },
      "outputs": [
        {
          "output_type": "execute_result",
          "data": {
            "image/svg+xml": "<?xml version=\"1.0\" encoding=\"UTF-8\" standalone=\"no\"?>\n<!DOCTYPE svg PUBLIC \"-//W3C//DTD SVG 1.1//EN\"\n \"http://www.w3.org/Graphics/SVG/1.1/DTD/svg11.dtd\">\n<!-- Generated by graphviz version 2.43.0 (0)\n -->\n<!-- Title: first expression Pages: 1 -->\n<svg width=\"185pt\" height=\"98pt\"\n viewBox=\"0.00 0.00 185.00 98.00\" xmlns=\"http://www.w3.org/2000/svg\" xmlns:xlink=\"http://www.w3.org/1999/xlink\">\n<g id=\"graph0\" class=\"graph\" transform=\"scale(1 1) rotate(0) translate(4 94)\">\n<title>first expression</title>\n<polygon fill=\"white\" stroke=\"transparent\" points=\"-4,4 -4,-94 181,-94 181,4 -4,4\"/>\n<!-- a -->\n<g id=\"node1\" class=\"node\">\n<title>a</title>\n<ellipse fill=\"none\" stroke=\"black\" cx=\"18\" cy=\"-72\" rx=\"18\" ry=\"18\"/>\n<text text-anchor=\"middle\" x=\"18\" y=\"-68.3\" font-family=\"Times,serif\" font-size=\"14.00\">a</text>\n</g>\n<!-- f -->\n<g id=\"node2\" class=\"node\">\n<title>f</title>\n<ellipse fill=\"none\" stroke=\"black\" cx=\"159\" cy=\"-45\" rx=\"18\" ry=\"18\"/>\n<text text-anchor=\"middle\" x=\"159\" y=\"-41.3\" font-family=\"Times,serif\" font-size=\"14.00\">f</text>\n</g>\n<!-- a&#45;&gt;f -->\n<g id=\"edge1\" class=\"edge\">\n<title>a&#45;&gt;f</title>\n<path fill=\"none\" stroke=\"black\" d=\"M35.77,-68.74C59.46,-64.14 102.98,-55.69 131.19,-50.21\"/>\n<polygon fill=\"black\" stroke=\"black\" points=\"132.02,-53.61 141.17,-48.27 130.69,-46.74 132.02,-53.61\"/>\n<text text-anchor=\"middle\" x=\"88.5\" y=\"-67.8\" font-family=\"Times,serif\" font-size=\"14.00\">df/da=b=5.0</text>\n</g>\n<!-- b -->\n<g id=\"node3\" class=\"node\">\n<title>b</title>\n<ellipse fill=\"none\" stroke=\"black\" cx=\"18\" cy=\"-18\" rx=\"18\" ry=\"18\"/>\n<text text-anchor=\"middle\" x=\"18\" y=\"-14.3\" font-family=\"Times,serif\" font-size=\"14.00\">b</text>\n</g>\n<!-- b&#45;&gt;f -->\n<g id=\"edge2\" class=\"edge\">\n<title>b&#45;&gt;f</title>\n<path fill=\"none\" stroke=\"black\" d=\"M36.12,-19.48C56.88,-21.5 92.85,-25.73 123,-33 126.02,-33.73 129.16,-34.61 132.25,-35.57\"/>\n<polygon fill=\"black\" stroke=\"black\" points=\"131.21,-38.91 141.81,-38.74 133.42,-32.27 131.21,-38.91\"/>\n<text text-anchor=\"middle\" x=\"88.5\" y=\"-36.8\" font-family=\"Times,serif\" font-size=\"14.00\">df/db=a=3.0</text>\n</g>\n</g>\n</svg>\n",
            "text/plain": [
              "<graphviz.graphs.Digraph at 0x7c15c818a230>"
            ]
          },
          "metadata": {},
          "execution_count": 6
        }
      ],
      "source": [
        "e1 = graphviz.Digraph('first expression', filename='fsm.gv')\n",
        "\n",
        "e1.attr(rankdir='LR', size='8,5')\n",
        "\n",
        "e1.attr('node', shape='circle')\n",
        "e1.edge('a', 'f', label='df/da=b=5.0')\n",
        "e1.edge('b', 'f', label='df/db=a=3.0')\n",
        "\n",
        "e1"
      ]
    },
    {
      "cell_type": "code",
      "execution_count": 7,
      "metadata": {
        "colab": {
          "base_uri": "https://localhost:8080/",
          "height": 232
        },
        "id": "0nittR-mZFeX",
        "outputId": "1f8b47b2-80f4-4587-e60e-c8ece30dd958"
      },
      "outputs": [
        {
          "output_type": "execute_result",
          "data": {
            "image/svg+xml": "<?xml version=\"1.0\" encoding=\"UTF-8\" standalone=\"no\"?>\n<!DOCTYPE svg PUBLIC \"-//W3C//DTD SVG 1.1//EN\"\n \"http://www.w3.org/Graphics/SVG/1.1/DTD/svg11.dtd\">\n<!-- Generated by graphviz version 2.43.0 (0)\n -->\n<!-- Title: second expression Pages: 1 -->\n<svg width=\"312pt\" height=\"158pt\"\n viewBox=\"0.00 0.00 312.00 158.00\" xmlns=\"http://www.w3.org/2000/svg\" xmlns:xlink=\"http://www.w3.org/1999/xlink\">\n<g id=\"graph0\" class=\"graph\" transform=\"scale(1 1) rotate(0) translate(4 154)\">\n<title>second expression</title>\n<polygon fill=\"white\" stroke=\"transparent\" points=\"-4,4 -4,-154 308,-154 308,4 -4,4\"/>\n<!-- a -->\n<g id=\"node1\" class=\"node\">\n<title>a</title>\n<ellipse fill=\"none\" stroke=\"black\" cx=\"18\" cy=\"-75\" rx=\"18\" ry=\"18\"/>\n<text text-anchor=\"middle\" x=\"18\" y=\"-71.3\" font-family=\"Times,serif\" font-size=\"14.00\">a</text>\n</g>\n<!-- c -->\n<g id=\"node2\" class=\"node\">\n<title>c</title>\n<ellipse fill=\"none\" stroke=\"black\" cx=\"160\" cy=\"-102\" rx=\"18\" ry=\"18\"/>\n<text text-anchor=\"middle\" x=\"160\" y=\"-98.3\" font-family=\"Times,serif\" font-size=\"14.00\">c</text>\n</g>\n<!-- a&#45;&gt;c -->\n<g id=\"edge1\" class=\"edge\">\n<title>a&#45;&gt;c</title>\n<path fill=\"none\" stroke=\"black\" d=\"M35.74,-78.14C56.47,-82.04 92.86,-88.92 124,-95 126.7,-95.53 129.52,-96.08 132.33,-96.64\"/>\n<polygon fill=\"black\" stroke=\"black\" points=\"131.78,-100.1 142.27,-98.62 133.15,-93.23 131.78,-100.1\"/>\n<text text-anchor=\"middle\" x=\"89\" y=\"-98.8\" font-family=\"Times,serif\" font-size=\"14.00\">dc/da=b=5.0</text>\n</g>\n<!-- e -->\n<g id=\"node4\" class=\"node\">\n<title>e</title>\n<ellipse fill=\"none\" stroke=\"black\" cx=\"160\" cy=\"-48\" rx=\"18\" ry=\"18\"/>\n<text text-anchor=\"middle\" x=\"160\" y=\"-44.3\" font-family=\"Times,serif\" font-size=\"14.00\">e</text>\n</g>\n<!-- a&#45;&gt;e -->\n<g id=\"edge3\" class=\"edge\">\n<title>a&#45;&gt;e</title>\n<path fill=\"none\" stroke=\"black\" d=\"M34.79,-68.28C40.72,-65.99 47.58,-63.6 54,-62 79.95,-55.54 110.3,-51.9 131.68,-49.96\"/>\n<polygon fill=\"black\" stroke=\"black\" points=\"132.01,-53.45 141.68,-49.12 131.43,-46.47 132.01,-53.45\"/>\n<text text-anchor=\"middle\" x=\"89\" y=\"-65.8\" font-family=\"Times,serif\" font-size=\"14.00\">de/da=d=9.0</text>\n</g>\n<!-- f -->\n<g id=\"node6\" class=\"node\">\n<title>f</title>\n<ellipse fill=\"none\" stroke=\"black\" cx=\"286\" cy=\"-75\" rx=\"18\" ry=\"18\"/>\n<text text-anchor=\"middle\" x=\"286\" y=\"-71.3\" font-family=\"Times,serif\" font-size=\"14.00\">f</text>\n</g>\n<!-- c&#45;&gt;f -->\n<g id=\"edge5\" class=\"edge\">\n<title>c&#45;&gt;f</title>\n<path fill=\"none\" stroke=\"black\" d=\"M177.72,-98.36C198.34,-93.87 233.64,-86.18 258.09,-80.86\"/>\n<polygon fill=\"black\" stroke=\"black\" points=\"259.12,-84.22 268.15,-78.67 257.63,-77.38 259.12,-84.22\"/>\n<text text-anchor=\"middle\" x=\"223\" y=\"-97.8\" font-family=\"Times,serif\" font-size=\"14.00\">df/dc=1.0</text>\n</g>\n<!-- b -->\n<g id=\"node3\" class=\"node\">\n<title>b</title>\n<ellipse fill=\"none\" stroke=\"black\" cx=\"18\" cy=\"-132\" rx=\"18\" ry=\"18\"/>\n<text text-anchor=\"middle\" x=\"18\" y=\"-128.3\" font-family=\"Times,serif\" font-size=\"14.00\">b</text>\n</g>\n<!-- b&#45;&gt;c -->\n<g id=\"edge2\" class=\"edge\">\n<title>b&#45;&gt;c</title>\n<path fill=\"none\" stroke=\"black\" d=\"M35.75,-128.59C56.49,-124.34 92.89,-116.81 124,-110 126.7,-109.41 129.52,-108.78 132.34,-108.15\"/>\n<polygon fill=\"black\" stroke=\"black\" points=\"133.3,-111.52 142.28,-105.89 131.75,-104.69 133.3,-111.52\"/>\n<text text-anchor=\"middle\" x=\"89\" y=\"-127.8\" font-family=\"Times,serif\" font-size=\"14.00\">dc/db=a=3.0</text>\n</g>\n<!-- e&#45;&gt;f -->\n<g id=\"edge6\" class=\"edge\">\n<title>e&#45;&gt;f</title>\n<path fill=\"none\" stroke=\"black\" d=\"M177.9,-50.01C195.93,-52.35 225.24,-56.71 250,-63 253.02,-63.77 256.14,-64.67 259.23,-65.64\"/>\n<polygon fill=\"black\" stroke=\"black\" points=\"258.19,-68.98 268.79,-68.82 260.41,-62.34 258.19,-68.98\"/>\n<text text-anchor=\"middle\" x=\"223\" y=\"-66.8\" font-family=\"Times,serif\" font-size=\"14.00\">df/de=1.0</text>\n</g>\n<!-- d -->\n<g id=\"node5\" class=\"node\">\n<title>d</title>\n<ellipse fill=\"none\" stroke=\"black\" cx=\"18\" cy=\"-18\" rx=\"18\" ry=\"18\"/>\n<text text-anchor=\"middle\" x=\"18\" y=\"-14.3\" font-family=\"Times,serif\" font-size=\"14.00\">d</text>\n</g>\n<!-- d&#45;&gt;e -->\n<g id=\"edge4\" class=\"edge\">\n<title>d&#45;&gt;e</title>\n<path fill=\"none\" stroke=\"black\" d=\"M36.08,-18.4C57.15,-19.28 93.88,-22.09 124,-31 127.65,-32.08 131.38,-33.51 134.99,-35.08\"/>\n<polygon fill=\"black\" stroke=\"black\" points=\"133.57,-38.28 144.1,-39.42 136.59,-31.96 133.57,-38.28\"/>\n<text text-anchor=\"middle\" x=\"89\" y=\"-34.8\" font-family=\"Times,serif\" font-size=\"14.00\">de/dd=a=3.0</text>\n</g>\n</g>\n</svg>\n",
            "text/plain": [
              "<graphviz.graphs.Digraph at 0x7c15c8188790>"
            ]
          },
          "metadata": {},
          "execution_count": 7
        }
      ],
      "source": [
        "e2 = graphviz.Digraph('second expression', filename='fsm.gv')\n",
        "\n",
        "e2.attr(rankdir='LR', size='8,5')\n",
        "\n",
        "e2.attr('node', shape='circle')\n",
        "e2.edge('a', 'c', label='dc/da=b=5.0')\n",
        "e2.edge('b', 'c', label='dc/db=a=3.0')\n",
        "e2.edge('a', 'e', label='de/da=d=9.0')\n",
        "e2.edge('d', 'e', label='de/dd=a=3.0')\n",
        "e2.edge('c', 'f', label='df/dc=1.0')\n",
        "e2.edge('e', 'f', label='df/de=1.0')\n",
        "\n",
        "e2"
      ]
    },
    {
      "cell_type": "markdown",
      "metadata": {
        "id": "A5oi21W4gpeM"
      },
      "source": [
        "## Exercise c) What happens if we run backward again?\n",
        "\n",
        "Try to execute the code below. Explain what happens.\n",
        "\n",
        "### Answer\n",
        "In the backprop method, the gradient for f is updated from 1.0 to 2.0 due to f.grad += bp, where the backward method causes bp to be 1.0. This change in the backpropagated gradient is passed down along all child branches, thus multiplying them by 2."
      ]
    },
    {
      "cell_type": "code",
      "execution_count": 8,
      "metadata": {
        "colab": {
          "base_uri": "https://localhost:8080/"
        },
        "id": "DCtpJyr-gyX1",
        "outputId": "a3ac739c-0790-418f-a8d2-015e2574cdf0"
      },
      "outputs": [
        {
          "output_type": "stream",
          "name": "stdout",
          "text": [
            "Var(v=3.0000, grad=28.0000)\n",
            "Var(v=5.0000, grad=6.0000)\n",
            "Var(v=15.0000, grad=2.0000)\n",
            "Var(v=9.0000, grad=6.0000)\n",
            "Var(v=27.0000, grad=2.0000)\n",
            "Var(v=42.0000, grad=2.0000)\n"
          ]
        }
      ],
      "source": [
        "f.backward()\n",
        "\n",
        "for v in [a, b, c, d, e, f]:\n",
        "    print(v)"
      ]
    },
    {
      "cell_type": "markdown",
      "metadata": {
        "id": "e8bPVq2VhsP-"
      },
      "source": [
        "## Exercise d) Zero gradient\n",
        "\n",
        "We can zero the gradient by backpropagating a -1.0 as is shown in the example below. (If you have run backward multiple time then you also have to run the cell below an equal amount of times.) Explain what is going on.\n",
        "\n",
        "### Answer\n",
        "The Var 'a' is being reset to have a.v = 2.0 and a.grad = 0.0.\n",
        "\n",
        "In the backprop method, the line f.grad += bp with bp = -1.0 results in 0.0 when applied to bp = 1.0. The 0 backpropagated gradient is multiplied to all the child node gradients, rendering them 0. On following calls of the function, f.grad keeps decreasing by 1.0, and the gradients all go negative."
      ]
    },
    {
      "cell_type": "code",
      "execution_count": 9,
      "metadata": {
        "colab": {
          "base_uri": "https://localhost:8080/"
        },
        "id": "OnyPDQx9lJe0",
        "outputId": "ccd8a15e-da31-46eb-b869-94751dfa8c6c"
      },
      "outputs": [
        {
          "output_type": "stream",
          "name": "stdout",
          "text": [
            "Var(v=2.0000, grad=0.0000)\n",
            "Var(v=5.0000, grad=6.0000)\n",
            "Var(v=15.0000, grad=2.0000)\n",
            "Var(v=9.0000, grad=6.0000)\n",
            "Var(v=27.0000, grad=2.0000)\n",
            "Var(v=42.0000, grad=2.0000)\n",
            "Var(v=2.0000, grad=0.0000)\n",
            "Var(v=5.0000, grad=3.0000)\n",
            "Var(v=15.0000, grad=1.0000)\n",
            "Var(v=9.0000, grad=3.0000)\n",
            "Var(v=27.0000, grad=1.0000)\n",
            "Var(v=42.0000, grad=1.0000)\n"
          ]
        }
      ],
      "source": [
        "a = Var(2.0)\n",
        "\n",
        "for v in [a, b, c, d, e, f]:\n",
        "    print(v)\n",
        "\n",
        "f.backprop(-1.0)\n",
        "\n",
        "for v in [a, b, c, d, e, f]:\n",
        "    print(v)"
      ]
    },
    {
      "cell_type": "markdown",
      "metadata": {
        "id": "U4057_ljNvWB"
      },
      "source": [
        "## Exercise e) Test correctness of derivatives with the finite difference method\n",
        "\n",
        "Write a small function that uses [the finite difference method](https://en.wikipedia.org/wiki/Finite_difference_method) to numerically test that backpropation implementation is working. In short we will use\n",
        "$$\n",
        "\\frac{\\partial f(a)}{\\partial a} \\approx \\frac{f(a+da)-f(a)}{da}\n",
        "$$\n",
        "for $da \\ll 1$.\n",
        "\n",
        "As an example, we could approximate the derivative of the function $f(a)=a^2$ in e.g. the value $a=4$ using the finite difference method. This amounts to inserting the relevant values and approximating the gradient $f'(4)$ with the fraction above.\n"
      ]
    },
    {
      "cell_type": "code",
      "execution_count": 3,
      "metadata": {
        "colab": {
          "base_uri": "https://localhost:8080/"
        },
        "id": "9TGil92lSXDN",
        "outputId": "c217f531-3134-4d88-9a07-6c7063f3d5cc"
      },
      "outputs": [
        {
          "output_type": "stream",
          "name": "stdout",
          "text": [
            "Var(v=4.0000, grad=8.0000)\n",
            "Var(v=5.0000, grad=0.0000)\n",
            "Var(v=16.0000, grad=1.0000)\n",
            "8.000000661922968\n"
          ]
        }
      ],
      "source": [
        "# f function - try to change the code to test other types of functions as well (such as different polynomials etc.)\n",
        "def f_function(a):\n",
        "  a = Var(a)\n",
        "  b = Var(5.0)\n",
        "  f = a ** 2.0\n",
        "  f.backward()\n",
        "  return a,b,f\n",
        "\n",
        "for v in f_function(4.0):\n",
        "  print(v)\n",
        "\n",
        "# Insert your finite difference code here\n",
        "def finite_difference(da=1e-10):\n",
        "    \"\"\"\n",
        "    This function compute the finite difference between\n",
        "\n",
        "    Input:\n",
        "    da:          The finite difference                           (float)\n",
        "\n",
        "    Output:\n",
        "    finite_difference: numerical approximation to the derivative (float)\n",
        "    \"\"\"\n",
        "    a = 4.0\n",
        "    fa_da = (a + da) ** 2.0           # <- Insert correct expression\n",
        "    fa = a ** 2.0              # <- Insert correct expression\n",
        "\n",
        "    finite_difference = (fa_da - fa) / da\n",
        "\n",
        "    return finite_difference\n",
        "\n",
        "print(finite_difference())"
      ]
    },
    {
      "cell_type": "markdown",
      "metadata": {
        "id": "6pZar5RKaUkg"
      },
      "source": [
        "# Create an artificial dataset to play with\n",
        "\n",
        "We create a non-linear 1d regression task. The generator supports various noise levels and it creates train, validation and test sets. You can modify it yourself if you want more or less challenging tasks."
      ]
    },
    {
      "cell_type": "code",
      "execution_count": 11,
      "metadata": {
        "id": "Y6yfMAQ8aduj"
      },
      "outputs": [],
      "source": [
        "import numpy as np\n",
        "import matplotlib.pyplot as plt\n",
        "\n",
        "np.random.seed(42)"
      ]
    },
    {
      "cell_type": "code",
      "execution_count": 12,
      "metadata": {
        "id": "4YabfD43ajNh"
      },
      "outputs": [],
      "source": [
        "def data_generator(noise=0.1, n_samples=300, D1=True):\n",
        "    # Create covariates and response variable\n",
        "    if D1:\n",
        "        X = np.linspace(-3, 3, num=n_samples).reshape(-1,1) # 1-D\n",
        "        np.random.shuffle(X)\n",
        "        y = np.random.normal((0.5*np.sin(X[:,0]*3) + X[:,0]), noise) # 1-D with trend\n",
        "    else:\n",
        "        X = np.random.multivariate_normal(np.zeros(3), noise*np.eye(3), size = n_samples) # 3-D\n",
        "        np.random.shuffle(X)\n",
        "        y = np.sin(X[:,0]) - 5*(X[:,1]**2) + 0.5*X[:,2] # 3-D\n",
        "\n",
        "    # Stack them together vertically to split data set\n",
        "    data_set = np.vstack((X.T,y)).T\n",
        "\n",
        "    train, validation, test = np.split(data_set, [int(0.35*n_samples), int(0.7*n_samples)], axis=0)\n",
        "\n",
        "    # Standardization of the data, remember we do the standardization with the training set mean and standard deviation\n",
        "    train_mu = np.mean(train, axis=0)\n",
        "    train_sigma = np.std(train, axis=0)\n",
        "\n",
        "    train = (train-train_mu)/train_sigma\n",
        "    validation = (validation-train_mu)/train_sigma\n",
        "    test = (test-train_mu)/train_sigma\n",
        "\n",
        "    x_train, x_validation, x_test = train[:,:-1], validation[:,:-1], test[:,:-1]\n",
        "    y_train, y_validation, y_test = train[:,-1], validation[:,-1], test[:,-1]\n",
        "\n",
        "    return x_train, y_train,  x_validation, y_validation, x_test, y_test"
      ]
    },
    {
      "cell_type": "code",
      "execution_count": 13,
      "metadata": {
        "id": "u1oDngHLapIz"
      },
      "outputs": [],
      "source": [
        "D1 = True\n",
        "x_train, y_train,  x_validation, y_validation, x_test, y_test = data_generator(noise=0.5, D1=D1)"
      ]
    },
    {
      "cell_type": "code",
      "execution_count": 14,
      "metadata": {
        "colab": {
          "base_uri": "https://localhost:8080/",
          "height": 430
        },
        "id": "Ysfa3FsBavlm",
        "outputId": "76adeb5b-1fcf-497b-976d-861f711a2cc1"
      },
      "outputs": [
        {
          "output_type": "display_data",
          "data": {
            "text/plain": [
              "<Figure size 640x480 with 1 Axes>"
            ],
            "image/png": "[encoded data removed]"
          },
          "metadata": {}
        }
      ],
      "source": [
        "if D1:\n",
        "    plt.scatter(x_train[:,0], y_train);\n",
        "    plt.scatter(x_validation[:,0], y_validation);\n",
        "    plt.scatter(x_test[:,0], y_test);\n",
        "else:\n",
        "    plt.scatter(x_train[:,1], y_train);\n",
        "    plt.scatter(x_validation[:,1], y_validation);\n",
        "    plt.scatter(x_test[:,1], y_test);\n",
        "plt.show()"
      ]
    },
    {
      "cell_type": "code",
      "execution_count": 15,
      "metadata": {
        "id": "zac2HHNlgbpm"
      },
      "outputs": [],
      "source": [
        "# convert from nparray to Var\n",
        "def nparray_to_Var(x):\n",
        "  if x.ndim==1:\n",
        "    y = [[Var(float(x[i]))] for i in range(x.shape[0])] # always work with list of list\n",
        "  else:\n",
        "    y = [[Var(float(x[i,j])) for j in range(x.shape[1])] for i in range(x.shape[0])]\n",
        "  return y\n",
        "\n",
        "x_train = nparray_to_Var(x_train)\n",
        "y_train = nparray_to_Var(y_train)\n",
        "x_validation = nparray_to_Var(x_validation)\n",
        "y_validation = nparray_to_Var(y_validation)\n",
        "x_test = nparray_to_Var(x_test)\n",
        "y_test = nparray_to_Var(y_test)\n"
      ]
    },
    {
      "cell_type": "code",
      "source": [
        "print(x_train)"
      ],
      "metadata": {
        "colab": {
          "base_uri": "https://localhost:8080/"
        },
        "id": "IgQ7PMiI64Yp",
        "outputId": "1bda88da-7001-459e-d1cb-277441de00c2"
      },
      "execution_count": 16,
      "outputs": [
        {
          "output_type": "stream",
          "name": "stdout",
          "text": [
            "[[Var(v=0.7213, grad=0.0000)], [Var(v=1.4497, grad=0.0000)], [Var(v=0.1316, grad=0.0000)], [Var(v=-1.5219, grad=0.0000)], [Var(v=1.0682, grad=0.0000)], [Var(v=0.9872, grad=0.0000)], [Var(v=0.6403, grad=0.0000)], [Var(v=-0.3656, grad=0.0000)], [Var(v=-1.5681, grad=0.0000)], [Var(v=0.3975, grad=0.0000)], [Var(v=1.1144, grad=0.0000)], [Var(v=-0.9669, grad=0.0000)], [Var(v=0.8947, grad=0.0000)], [Var(v=-1.1056, grad=0.0000)], [Var(v=0.4785, grad=0.0000)], [Var(v=0.9294, grad=0.0000)], [Var(v=1.7157, grad=0.0000)], [Var(v=0.8138, grad=0.0000)], [Var(v=0.0853, grad=0.0000)], [Var(v=0.2819, grad=0.0000)], [Var(v=-0.7240, grad=0.0000)], [Var(v=-0.3193, grad=0.0000)], [Var(v=1.2532, grad=0.0000)], [Var(v=1.2647, grad=0.0000)], [Var(v=-0.4234, grad=0.0000)], [Var(v=-1.1403, grad=0.0000)], [Var(v=1.6232, grad=0.0000)], [Var(v=1.7851, grad=0.0000)], [Var(v=0.1894, grad=0.0000)], [Var(v=1.1260, grad=0.0000)], [Var(v=-1.4294, grad=0.0000)], [Var(v=0.2703, grad=0.0000)], [Var(v=-1.2444, grad=0.0000)], [Var(v=-1.3484, grad=0.0000)], [Var(v=0.8600, grad=0.0000)], [Var(v=-0.2500, grad=0.0000)], [Var(v=-1.5450, grad=0.0000)], [Var(v=-0.5853, grad=0.0000)], [Var(v=-1.0940, grad=0.0000)], [Var(v=-0.7819, grad=0.0000)], [Var(v=-0.5506, grad=0.0000)], [Var(v=-0.7472, grad=0.0000)], [Var(v=1.6810, grad=0.0000)], [Var(v=-0.9322, grad=0.0000)], [Var(v=-0.7356, grad=0.0000)], [Var(v=-0.8975, grad=0.0000)], [Var(v=1.0797, grad=0.0000)], [Var(v=1.0219, grad=0.0000)], [Var(v=-0.3425, grad=0.0000)], [Var(v=1.0450, grad=0.0000)], [Var(v=0.4553, grad=0.0000)], [Var(v=0.0391, grad=0.0000)], [Var(v=1.1375, grad=0.0000)], [Var(v=-0.7587, grad=0.0000)], [Var(v=1.8082, grad=0.0000)], [Var(v=1.5885, grad=0.0000)], [Var(v=-0.5044, grad=0.0000)], [Var(v=-0.5622, grad=0.0000)], [Var(v=0.5941, grad=0.0000)], [Var(v=-1.3369, grad=0.0000)], [Var(v=1.0566, grad=0.0000)], [Var(v=-0.9437, grad=0.0000)], [Var(v=-1.5566, grad=0.0000)], [Var(v=0.5132, grad=0.0000)], [Var(v=0.3744, grad=0.0000)], [Var(v=-1.2790, grad=0.0000)], [Var(v=-1.3715, grad=0.0000)], [Var(v=1.3341, grad=0.0000)], [Var(v=-0.9784, grad=0.0000)], [Var(v=0.5247, grad=0.0000)], [Var(v=-0.3772, grad=0.0000)], [Var(v=-0.1690, grad=0.0000)], [Var(v=1.0335, grad=0.0000)], [Var(v=0.6057, grad=0.0000)], [Var(v=-0.1343, grad=0.0000)], [Var(v=1.6347, grad=0.0000)], [Var(v=-0.6778, grad=0.0000)], [Var(v=-0.6547, grad=0.0000)], [Var(v=-0.8628, grad=0.0000)], [Var(v=1.7041, grad=0.0000)], [Var(v=0.2588, grad=0.0000)], [Var(v=0.1547, grad=0.0000)], [Var(v=-1.4062, grad=0.0000)], [Var(v=-0.1922, grad=0.0000)], [Var(v=-0.7125, grad=0.0000)], [Var(v=-0.3078, grad=0.0000)], [Var(v=-0.2615, grad=0.0000)], [Var(v=-0.7934, grad=0.0000)], [Var(v=-1.4525, grad=0.0000)], [Var(v=-1.5103, grad=0.0000)], [Var(v=0.6172, grad=0.0000)], [Var(v=-0.4581, grad=0.0000)], [Var(v=-0.8397, grad=0.0000)], [Var(v=0.9641, grad=0.0000)], [Var(v=-1.1981, grad=0.0000)], [Var(v=-1.4409, grad=0.0000)], [Var(v=0.4438, grad=0.0000)], [Var(v=0.0738, grad=0.0000)], [Var(v=1.5422, grad=0.0000)], [Var(v=-0.8512, grad=0.0000)], [Var(v=1.0104, grad=0.0000)], [Var(v=-0.8281, grad=0.0000)], [Var(v=-1.2675, grad=0.0000)], [Var(v=0.4900, grad=0.0000)], [Var(v=1.4382, grad=0.0000)]]\n"
          ]
        }
      ]
    },
    {
      "cell_type": "markdown",
      "metadata": {
        "id": "VbjrqcpVFtGe"
      },
      "source": [
        "# Defining and initializing the network\n",
        "\n",
        "The steps to create a feed forward neural network are the following:\n",
        "\n",
        "1. **Number of hidden layer and hidden units**. We have to define the number of hidden units in each layer. The number of features in X and the output dimensionality (the size of Y) are given but the numbers in between are set by the researcher. Remember that for each unit in each layer beside in the input has a bias term.\n",
        "2. **Activation functions** for each hidden layer. Each hidden layer in your list must have an activation function (it can also be the linear activation which is equivalent to identity function). The power of neural networks comes from non-linear activation functions that learn representations (features) from the data allowing us to learn from it.\n",
        "3. **Parameter initialization**. We will initialize the weights to have random values. This is done in practice by drawing pseudo random numbers from a Gaussian or uniform distribution. It turns out that for deeper models we have to be careful about how we scale the random numbers. This will be the topic of the exercise below. For now we will just use unit variance Gaussians.  \n",
        "\n",
        "In order to make life easier for ourselves we define a DenseLayer class that takes care of initialization and the forward pass. We can also extend it later with print and advanced initialization capabilities. For the latter we have introduced a Initializer class.\n",
        "\n",
        "Note that we use Sequence in the code below. A Sequence is an ordered list. This means the order we insert and access items are the same."
      ]
    },
    {
      "cell_type": "code",
      "execution_count": 17,
      "metadata": {
        "id": "ij_ieRsAt7Xt"
      },
      "outputs": [],
      "source": [
        "class Initializer:\n",
        "\n",
        "  def init_weights(self, n_in, n_out):\n",
        "    raise NotImplementedError\n",
        "\n",
        "  def init_bias(self, n_out):\n",
        "    raise NotImplementedError"
      ]
    },
    {
      "cell_type": "code",
      "execution_count": 18,
      "metadata": {
        "id": "eb18N5phuIha"
      },
      "outputs": [],
      "source": [
        "import random\n",
        "\n",
        "class NormalInitializer(Initializer):\n",
        "\n",
        "  def __init__(self, mean=0, std=0.1):\n",
        "    self.mean = mean\n",
        "    self.std = std\n",
        "\n",
        "  def init_weights(self, n_in, n_out):\n",
        "    return [[Var(random.gauss(self.mean, self.std)) for _ in range(n_out)] for _ in range(n_in)]\n",
        "\n",
        "  def init_bias(self, n_out):\n",
        "    return [Var(0.0) for _ in range(n_out)]\n",
        "\n",
        "class ConstantInitializer(Initializer):\n",
        "\n",
        "  def __init__(self, weight=1.0, bias=0.0):\n",
        "    self.weight = weight\n",
        "    self.bias = bias\n",
        "\n",
        "  def init_weights(self, n_in, n_out):\n",
        "    return [[Var(self.weight) for _ in range(n_out)] for _ in range(n_in)]\n",
        "\n",
        "  def init_bias(self, n_out):\n",
        "    return [Var(self.bias) for _ in range(n_out)]"
      ]
    },
    {
      "cell_type": "code",
      "execution_count": 45,
      "metadata": {
        "id": "jOLYGnZKuM6W"
      },
      "outputs": [],
      "source": [
        "from typing import Sequence\n",
        "\n",
        "class DenseLayer:\n",
        "    def __init__(self, n_in: int, n_out: int, act_fn, initializer = NormalInitializer()):\n",
        "        self.weights = initializer.init_weights(n_in, n_out)\n",
        "        self.bias = initializer.init_bias(n_out)\n",
        "        self.act_fn = act_fn\n",
        "\n",
        "    def __repr__(self):\n",
        "        return 'Weights: ' + repr(self.weights) + ' Biases: ' + repr(self.bias)\n",
        "\n",
        "    def parameters(self) -> Sequence[Var]:\n",
        "      params = []\n",
        "      for r in self.weights:\n",
        "        params += r\n",
        "\n",
        "      return params + self.bias\n",
        "\n",
        "    def forward(self, single_input: Sequence[Var]) -> Sequence[Var]:\n",
        "        # self.weights is a matrix with dimension n_in x n_out. We check that the dimensionality of the input\n",
        "        # to the current layer matches the number of nodes in the current layer\n",
        "        assert len(self.weights) == len(single_input), f\"weights: {self.weights} and single_input: {single_input} must match in first dimension\"\n",
        "        weights = self.weights\n",
        "        out = []\n",
        "        # For some given data point single_input, we now want to calculate the resulting value in each node in the current layer\n",
        "        # We therefore loop over the (number of) nodes in the current layer:\n",
        "        for j in range(len(weights[0])):\n",
        "            # Initialize the node value depending on its corresponding parameters.\n",
        "            node = self.bias[j] # <- Insert code\n",
        "            # We now finish the linear transformation corresponding to the parameters of the currently considered node.\n",
        "            for i in range(len(single_input)):\n",
        "                node += weights[i][j] * single_input[i]  # <- Insert code\n",
        "            node = self.act_fn(node)\n",
        "            out.append(node)\n",
        "\n",
        "        return out"
      ]
    },
    {
      "cell_type": "markdown",
      "metadata": {
        "id": "jpIZPBpNI0pO"
      },
      "source": [
        "## Exercise f) Add more activation functions\n",
        "\n",
        "To have a full definition of the neural network, we must define an activation function for every layer. Several activation functions have been proposed and have different characteristics. In the Var class we have already defined the rectified linear init (relu).\n",
        "\n",
        "Implement the following activation functions in the Var class:\n",
        "\n",
        "* Identity: $$\\mathrm{identity}(x) = x$$\n",
        "* Hyperbolic tangent: $$\\tanh(x)$$\n",
        "* Sigmoid (or logistic function): $$\\mathrm{sigmoid}(x) = \\frac{1}{1.0 + \\exp(-x ) }$$  Hint: $\\mathrm{sigmoid}'(x)= \\mathrm{sigmoid}(x)(1-\\mathrm{sigmoid}(x))$.  \n",
        "\n",
        "Hint: You can seek inspiration in the relu method in the Var class."
      ]
    },
    {
      "cell_type": "code",
      "execution_count": 33,
      "metadata": {
        "id": "p3WdVDBA4adr"
      },
      "outputs": [],
      "source": [
        "# Copy and pasted from https://github.com/rasmusbergpalm/nanograd/blob/3a1bf9e9e724da813bfccf91a6f309abdade9f39/nanograd.py\n",
        "\n",
        "from math import exp, log\n",
        "\n",
        "class Var:\n",
        "    \"\"\"\n",
        "    A variable which holds a float and enables gradient computations.\n",
        "    \"\"\"\n",
        "\n",
        "    def __init__(self, val: float, grad_fn=lambda: []):\n",
        "        assert type(val) == float\n",
        "        self.v = val\n",
        "        self.grad_fn = grad_fn\n",
        "        self.grad = 0.0\n",
        "\n",
        "    def backprop(self, bp):\n",
        "        self.grad += bp\n",
        "        for input, grad in self.grad_fn():\n",
        "            input.backprop(grad * bp)\n",
        "\n",
        "    def backward(self):\n",
        "        self.backprop(1.0)\n",
        "\n",
        "    def __add__(self: 'Var', other: 'Var') -> 'Var':\n",
        "        return Var(self.v + other.v, lambda: [(self, 1.0), (other, 1.0)])\n",
        "\n",
        "    def __mul__(self: 'Var', other: 'Var') -> 'Var':\n",
        "        return Var(self.v * other.v, lambda: [(self, other.v), (other, self.v)])\n",
        "\n",
        "    def __pow__(self, power):\n",
        "        assert type(power) in {float, int}, \"power must be float or int\"\n",
        "        return Var(self.v ** power, lambda: [(self, power * self.v ** (power - 1))])\n",
        "\n",
        "    def __neg__(self: 'Var') -> 'Var':\n",
        "        return Var(-1.0) * self\n",
        "\n",
        "    def __sub__(self: 'Var', other: 'Var') -> 'Var':\n",
        "        return self + (-other)\n",
        "\n",
        "    def __truediv__(self: 'Var', other: 'Var') -> 'Var':\n",
        "        return self * other ** -1\n",
        "\n",
        "    def __repr__(self):\n",
        "        return \"Var(v=%.4f, grad=%.4f)\" % (self.v, self.grad)\n",
        "\n",
        "    def relu(self):\n",
        "        return Var(self.v if self.v > 0.0 else 0.0, lambda: [(self, 1.0 if self.v > 0.0 else 0.0)])\n",
        "\n",
        "    def identity(self):\n",
        "        return self\n",
        "\n",
        "    def tanh(self):\n",
        "        return Var((exp(self.v) - exp(-1.0 * self.v)) / (exp(self.v) + exp(-1.0 * self.v)), lambda: [self, 1.0 - self.v ** 2.0])\n",
        "\n",
        "    def sigmoid(self):\n",
        "        sig = lambda a: 1.0 / (1.0 + exp(a))\n",
        "        return Var(sig(self.v), lambda: [sig(self.v) * (1.0 - sig(self.v))])"
      ]
    },
    {
      "cell_type": "markdown",
      "metadata": {
        "id": "p_8n_SKnIW2F"
      },
      "source": [
        "## Exercise g) Complete the forward pass\n",
        "\n",
        "In the code below we initialize a 1-5-1 network and pass the training set through it. *The forward method in DenseLayer is **not** complete*. It just outputs zeros right now. The method forward should perform an [affine transformation](https://en.wikipedia.org/wiki/Affine_transformation) on the input followed by an application of the activation function."
      ]
    },
    {
      "cell_type": "code",
      "execution_count": 21,
      "metadata": {
        "colab": {
          "base_uri": "https://localhost:8080/"
        },
        "id": "xDEjtePxE7Mv",
        "outputId": "596eb2e6-f9e2-4700-9ffa-9ffa09f79519"
      },
      "outputs": [
        {
          "output_type": "stream",
          "name": "stdout",
          "text": [
            "[[Var(v=-0.0006, grad=0.0000)], [Var(v=-0.0013, grad=0.0000)], [Var(v=-0.0001, grad=0.0000)], [Var(v=0.0161, grad=0.0000)], [Var(v=-0.0009, grad=0.0000)], [Var(v=-0.0009, grad=0.0000)], [Var(v=-0.0006, grad=0.0000)], [Var(v=0.0039, grad=0.0000)], [Var(v=0.0166, grad=0.0000)], [Var(v=-0.0004, grad=0.0000)], [Var(v=-0.0010, grad=0.0000)], [Var(v=0.0102, grad=0.0000)], [Var(v=-0.0008, grad=0.0000)], [Var(v=0.0117, grad=0.0000)], [Var(v=-0.0004, grad=0.0000)], [Var(v=-0.0008, grad=0.0000)], [Var(v=-0.0015, grad=0.0000)], [Var(v=-0.0007, grad=0.0000)], [Var(v=-0.0001, grad=0.0000)], [Var(v=-0.0002, grad=0.0000)], [Var(v=0.0076, grad=0.0000)], [Var(v=0.0034, grad=0.0000)], [Var(v=-0.0011, grad=0.0000)], [Var(v=-0.0011, grad=0.0000)], [Var(v=0.0045, grad=0.0000)], [Var(v=0.0120, grad=0.0000)], [Var(v=-0.0014, grad=0.0000)], [Var(v=-0.0016, grad=0.0000)], [Var(v=-0.0002, grad=0.0000)], [Var(v=-0.0010, grad=0.0000)], [Var(v=0.0151, grad=0.0000)], [Var(v=-0.0002, grad=0.0000)], [Var(v=0.0131, grad=0.0000)], [Var(v=0.0142, grad=0.0000)], [Var(v=-0.0008, grad=0.0000)], [Var(v=0.0026, grad=0.0000)], [Var(v=0.0163, grad=0.0000)], [Var(v=0.0062, grad=0.0000)], [Var(v=0.0116, grad=0.0000)], [Var(v=0.0083, grad=0.0000)], [Var(v=0.0058, grad=0.0000)], [Var(v=0.0079, grad=0.0000)], [Var(v=-0.0015, grad=0.0000)], [Var(v=0.0098, grad=0.0000)], [Var(v=0.0078, grad=0.0000)], [Var(v=0.0095, grad=0.0000)], [Var(v=-0.0010, grad=0.0000)], [Var(v=-0.0009, grad=0.0000)], [Var(v=0.0036, grad=0.0000)], [Var(v=-0.0009, grad=0.0000)], [Var(v=-0.0004, grad=0.0000)], [Var(v=-0.0000, grad=0.0000)], [Var(v=-0.0010, grad=0.0000)], [Var(v=0.0080, grad=0.0000)], [Var(v=-0.0016, grad=0.0000)], [Var(v=-0.0014, grad=0.0000)], [Var(v=0.0053, grad=0.0000)], [Var(v=0.0059, grad=0.0000)], [Var(v=-0.0005, grad=0.0000)], [Var(v=0.0141, grad=0.0000)], [Var(v=-0.0009, grad=0.0000)], [Var(v=0.0100, grad=0.0000)], [Var(v=0.0164, grad=0.0000)], [Var(v=-0.0005, grad=0.0000)], [Var(v=-0.0003, grad=0.0000)], [Var(v=0.0135, grad=0.0000)], [Var(v=0.0145, grad=0.0000)], [Var(v=-0.0012, grad=0.0000)], [Var(v=0.0103, grad=0.0000)], [Var(v=-0.0005, grad=0.0000)], [Var(v=0.0040, grad=0.0000)], [Var(v=0.0018, grad=0.0000)], [Var(v=-0.0009, grad=0.0000)], [Var(v=-0.0005, grad=0.0000)], [Var(v=0.0014, grad=0.0000)], [Var(v=-0.0014, grad=0.0000)], [Var(v=0.0072, grad=0.0000)], [Var(v=0.0069, grad=0.0000)], [Var(v=0.0091, grad=0.0000)], [Var(v=-0.0015, grad=0.0000)], [Var(v=-0.0002, grad=0.0000)], [Var(v=-0.0001, grad=0.0000)], [Var(v=0.0149, grad=0.0000)], [Var(v=0.0020, grad=0.0000)], [Var(v=0.0075, grad=0.0000)], [Var(v=0.0033, grad=0.0000)], [Var(v=0.0028, grad=0.0000)], [Var(v=0.0084, grad=0.0000)], [Var(v=0.0153, grad=0.0000)], [Var(v=0.0160, grad=0.0000)], [Var(v=-0.0005, grad=0.0000)], [Var(v=0.0048, grad=0.0000)], [Var(v=0.0089, grad=0.0000)], [Var(v=-0.0009, grad=0.0000)], [Var(v=0.0127, grad=0.0000)], [Var(v=0.0152, grad=0.0000)], [Var(v=-0.0004, grad=0.0000)], [Var(v=-0.0001, grad=0.0000)], [Var(v=-0.0014, grad=0.0000)], [Var(v=0.0090, grad=0.0000)], [Var(v=-0.0009, grad=0.0000)], [Var(v=0.0087, grad=0.0000)], [Var(v=0.0134, grad=0.0000)], [Var(v=-0.0004, grad=0.0000)], [Var(v=-0.0013, grad=0.0000)]]\n"
          ]
        }
      ],
      "source": [
        "NN = [\n",
        "    DenseLayer(1, 5, lambda x: x.relu()),\n",
        "    DenseLayer(5, 1, lambda x: x.identity())\n",
        "]\n",
        "\n",
        "def forward(input, network):\n",
        "\n",
        "  def forward_single(x, network):\n",
        "    for layer in network:\n",
        "        x = layer.forward(x)\n",
        "    return x\n",
        "\n",
        "  output = [ forward_single(input[n], network) for n in range(len(input))]\n",
        "  return output\n",
        "\n",
        "print(forward(x_train, NN))\n"
      ]
    },
    {
      "cell_type": "markdown",
      "metadata": {
        "id": "oLrGJytZFtGm"
      },
      "source": [
        "## Exercise h) Print all network parameters\n",
        "\n",
        "Make a function that prints all the parameters of the network (weights and biases) with information about in which layer the appear. In the object oriented spirit you should introduce a method in the DenseLayer class to print the parameters of a layer. Hint: You can take inspiration from the corresponding method in Var."
      ]
    },
    {
      "cell_type": "code",
      "execution_count": 22,
      "metadata": {
        "id": "iac-VwYGFtGm"
      },
      "outputs": [],
      "source": [
        "# Insert code here and in the DenseLayer class\n",
        "def __repr__(self):\n",
        "        return \"Var(weights = %.4f, biases = %.4f, act_fn = %.4f)\" % (self.weights, self.biases, self.act_fn)"
      ]
    },
    {
      "cell_type": "markdown",
      "metadata": {
        "id": "_79HOAXrFtHK"
      },
      "source": [
        "## Visualization\n",
        "\n",
        "Now that we have defined our activation functions we can visualize them to see what they look like:"
      ]
    },
    {
      "cell_type": "code",
      "execution_count": 23,
      "metadata": {
        "id": "1FcylHqLTl-Z",
        "colab": {
          "base_uri": "https://localhost:8080/",
          "height": 447
        },
        "outputId": "ff341fd0-8a18-49b9-8165-c3f3209e0948"
      },
      "outputs": [
        {
          "output_type": "execute_result",
          "data": {
            "text/plain": [
              "[<matplotlib.lines.Line2D at 0x7c15a96a53f0>]"
            ]
          },
          "metadata": {},
          "execution_count": 23
        },
        {
          "output_type": "display_data",
          "data": {
            "text/plain": [
              "<Figure size 640x480 with 1 Axes>"
            ],
            "image/png": "[encoded data removed]"
          },
          "metadata": {}
        }
      ],
      "source": [
        "x = np.linspace(-6, 6, 100)\n",
        "\n",
        "# convert from Var to ndarray\n",
        "def Var_to_nparray(x):\n",
        "  y = np.zeros((len(x),len(x[0])))\n",
        "  for i in range(len(x)):\n",
        "    for j in range(len(x[0])):\n",
        "      y[i,j] = x[i][j].v\n",
        "  return y\n",
        "\n",
        "# define 1-1 network with weight = 1 and relu activation\n",
        "NN = [ DenseLayer(1, 1, lambda x: x.relu(), initializer = ConstantInitializer(1.0)) ]\n",
        "y = Var_to_nparray(forward(nparray_to_Var(x), NN))\n",
        "\n",
        "#y = Var_to_nparray(relu(nparray_to_Var(x)))\n",
        "plt.plot(x,y)"
      ]
    },
    {
      "cell_type": "code",
      "execution_count": 24,
      "metadata": {
        "id": "oOL2UolJFtHL",
        "colab": {
          "base_uri": "https://localhost:8080/",
          "height": 476
        },
        "outputId": "c6dab5e7-e15b-44a7-d225-88ebd0440d67"
      },
      "outputs": [
        {
          "output_type": "display_data",
          "data": {
            "text/plain": [
              "<Figure size 500x500 with 1 Axes>"
            ],
            "image/png": "[encoded data removed]"
          },
          "metadata": {}
        }
      ],
      "source": [
        "# Testing all activation layers\n",
        "\n",
        "x = np.linspace(-6, 6, 100)\n",
        "units = {\n",
        "    \"identity\": lambda x: x.identity(),\n",
        "    \"sigmoid\": lambda x: x.sigmoid(),\n",
        "    \"relu\": lambda x: x.relu(),\n",
        "    \"tanh\": lambda x: x.tanh()\n",
        "}\n",
        "\n",
        "plt.figure(figsize=(5, 5))\n",
        "[plt.plot(x, Var_to_nparray(forward(nparray_to_Var(x), [DenseLayer(1, 1, unit, initializer = ConstantInitializer(1.0))]) ), label=unit_name, lw=2) for unit_name, unit in units.items()] # unit(nparray_to_Var(x))), label=unit_name, lw=2) for unit_name, unit in units.items()]\n",
        "plt.legend(loc=2, fontsize=16)\n",
        "plt.title('Our activation functions', fontsize=20)\n",
        "plt.ylim([-2, 5])\n",
        "plt.xlim([-6, 6])\n",
        "plt.show()"
      ]
    },
    {
      "cell_type": "markdown",
      "metadata": {
        "id": "b-jdEl-7FtGs"
      },
      "source": [
        "# Advanced initialization schemes\n",
        "\n",
        "If we are not careful with initialization, the signals we propagate forward ($a^{(l)}$, $l=1,\\ldots,L$) and backward ($\\delta^l$, $l=L,L-1,\\ldots,1$) can blow up or shrink to zero. A statistical analysis of the variance of the signals for different activation functions can be found in these two papers: [Glorot initialization](http://proceedings.mlr.press/v9/glorot10a/glorot10a.pdf) and [He initialization](https://arxiv.org/pdf/1502.01852v1.pdf).\n",
        "\n",
        "The result of the analyses are proposals for how to make the initialization such that the variance of the signals (forward and backward) are kept approxmimatly constant when propagating from layer to layer. The exact expressions depend upon the non-linear activation function used. In Glorot initialization, the aim is to keep both the forward and backward variances constant whereas He only aims at keeping the variance in the forward pass constant.\n",
        "\n",
        "We define $n_{in}$ and $n_{out}$ as the number of input units and output units of a particular layer.\n",
        "\n",
        "The Glorot initialization has the form:\n",
        "\n",
        "$$w_{ij} \\sim N \\bigg( 0, \\, \\frac{2 \\alpha }{n_{in} + n_{out}} \\bigg) \\ . $$\n",
        "\n",
        "where $N(\\mu,\\sigma^2)$ is a Gaussian distribution with mean $\\mu$ and variance $\\sigma^2$ and $\\alpha$ is a parameter that depends upon the activation function used. For $\\tanh$, $\\alpha=1$ and for Rectified Linear Unit (ReLU) activations, $\\alpha=2$. (It is also possible to use a uniform distribution for initialization, see [this blog post](https://mmuratarat.github.io/2019-02-25/xavier-glorot-he-weight-init).)\n",
        "\n",
        "The He initialization is very similar\n",
        "\n",
        "$$w_{ij} \\sim N \\bigg( 0, \\, \\frac{\\alpha}{n_{in}} \\bigg) \\ . $$"
      ]
    },
    {
      "cell_type": "markdown",
      "metadata": {
        "id": "mqeyab9qFtGs"
      },
      "source": [
        "## Exercise i) Glorot and He initialization\n",
        "\n",
        "Using the Initializer class, implement functions that implement Glorot and He\n",
        "\n",
        "Explain briefly how you would test numerically that these initializations have the sought after property. Hint: See plots in Glorot paper.\n",
        "\n",
        "Comment: If you want to be more advanced then try to make a universal initializer taking both the activation function and type (Glorot or He) as argument."
      ]
    },
    {
      "cell_type": "code",
      "execution_count": 25,
      "metadata": {
        "id": "Qyk01CgaFtGt"
      },
      "outputs": [],
      "source": [
        "class NormalInitializer(Initializer):\n",
        "\n",
        "  def __init__(self, mean=0, std=0.1):\n",
        "    self.mean = mean\n",
        "    self.std = std\n",
        "\n",
        "  def init_weights(self, n_in, n_out):\n",
        "    return [[Var(random.gauss(self.mean, self.std)) for _ in range(n_out)] for _ in range(n_in)]\n",
        "\n",
        "  def init_bias(self, n_out):\n",
        "    return [Var(0.0) for _ in range(n_out)]\n",
        "\n",
        "## Glorot\n",
        "def DenseLayer_Glorot_tanh(n_in: int, n_out: int):\n",
        "  std = (0.0, 2.0 / (n_in + n_out)) # <- replace with proper initialization\n",
        "  return DenseLayer(n_in, n_out, lambda x: x.tanh(), initializer = NormalInitializer(std))\n",
        "\n",
        "## He\n",
        "def DenseLayer_He_relu(n_in: int, n_out: int):\n",
        "  std = (0.0, 2.0 / n_in) # <- replace with proper initialization\n",
        "  return DenseLayer(n_in, n_out, lambda x: x.relu(), initializer = NormalInitializer(std))"
      ]
    },
    {
      "cell_type": "markdown",
      "metadata": {
        "id": "-XyXBD37FtHk"
      },
      "source": [
        "## Exercise j) Forward pass unit test\n",
        "\n",
        "Write a bit of code to make a unit test that the forward pass works. This can be done by defining a simple network with for example all weights equal to one (using the ConstantInitializer method) and identity activation functions.\n",
        "\n",
        "Hints: Use the [assert](https://www.w3schools.com/python/ref_keyword_assert.asp), the nparray_to_Var and the Var_to_nparray commands."
      ]
    },
    {
      "cell_type": "code",
      "execution_count": 49,
      "metadata": {
        "id": "k0miqRUAFtHl",
        "colab": {
          "base_uri": "https://localhost:8080/"
        },
        "outputId": "14ea9079-c9de-4a60-ef5f-c9c53bbcfba3"
      },
      "outputs": [
        {
          "output_type": "stream",
          "name": "stdout",
          "text": [
            "[[Var(v=1.0000, grad=0.0000), Var(v=2.0000, grad=0.0000)]]\n",
            "Forward pass test passed!\n"
          ]
        }
      ],
      "source": [
        "# Insert code here\n",
        "def test_forward_pass():\n",
        "    input_data = np.array([[1.0, 2.0]])\n",
        "    input_var_sequence = nparray_to_Var(input_data)\n",
        "    print(input_var_sequence)\n",
        "    # input_var_sequence = [input_var_sequence[0][0], input_var_sequence[1][0]] # Why do I have to do this for this test but not for the NN test run??\n",
        "\n",
        "    layer = [DenseLayer(2, 2, lambda x: x.identity(), initializer=ConstantInitializer(1.0))]\n",
        "\n",
        "    output_var_sequence = forward(input_var_sequence, layer)\n",
        "    # output_var_sequence = [[output_var_sequence[0]], [output_var_sequence[1]]] # Why do I have to do this for this test but not for the NN test run??\n",
        "    output_data = Var_to_nparray(output_var_sequence)\n",
        "\n",
        "    expected_output = np.array([3.0, 3.0])  # (1*1 + 2*1 + 1 for bias for each neuron)\n",
        "    assert np.allclose(output_data, expected_output)\n",
        "\n",
        "    print(\"Forward pass test passed!\")\n",
        "\n",
        "test_forward_pass()\n"
      ]
    },
    {
      "cell_type": "markdown",
      "metadata": {
        "id": "faCxhfFnFtHp"
      },
      "source": [
        "# Loss functions\n",
        "\n",
        "We are only missing a loss function to we need to define a loss function and its derivative with respect to the output of the neural network $y$"
      ]
    },
    {
      "cell_type": "code",
      "execution_count": 190,
      "metadata": {
        "id": "I2eDYKvAFtHq"
      },
      "outputs": [],
      "source": [
        "def squared_loss(t, y):\n",
        "\n",
        "  # add check that sizes agree\n",
        "\n",
        "  def squared_loss_single(t, y):\n",
        "    Loss = Var(0.0)\n",
        "    for i in range(len(t)): # sum over outputs\n",
        "      Loss += (t[i]-y[i]) ** 2\n",
        "    return Loss\n",
        "\n",
        "  Loss = Var(0.0)\n",
        "  for n in range(len(t)): # sum over training data\n",
        "    Loss += squared_loss_single(t[n],y[n])\n",
        "  return Loss"
      ]
    },
    {
      "cell_type": "markdown",
      "metadata": {
        "id": "SrwSJ2UWFtHu"
      },
      "source": [
        "## Exercise k) Implement cross entropy loss\n",
        "\n",
        "Insert code below to implement cross-entropy loss for general dimensionality of $t$. Use a logits formulation:\n",
        "$$\n",
        "\\rm{Loss} = - \\sum_i t_i \\, log \\, p_i\n",
        "$$\n",
        "with $p$ given by the the softmax function in terms of the logits $h$:\n",
        "$$\n",
        "p_i = \\frac{\\exp(h_i)}{\\sum_{i'} \\exp(h_{i'})} .\n",
        "$$\n",
        "Inserting $p$ in the expression for the loss gives\n",
        "$$\n",
        "\\rm{Loss} = - \\sum_i t_i h_i + \\rm{LogSumExp}(h) \\ ,\n",
        "$$\n",
        "where\n",
        "$$\n",
        "\\rm{LogSumExp}(h) = \\log \\sum_i \\exp h_i \\ .\n",
        "$$\n",
        "This is true for $t$ being a one-hot vector.\n",
        "\n",
        "Call the function to convince yourself it works.\n",
        "\n",
        "In practice you want to implement a [numerically stable](https://leimao.github.io/blog/LogSumExp/) version of LogSumExp. But we will not bother about that here.\n",
        "\n",
        "Help: You can add these methods in the Var class:\n",
        "\n",
        "    def exp(self):\n",
        "        return Var(exp(self.v), lambda: [(self, exp(self.v))])\n",
        "    \n",
        "    def log(self):\n",
        "        return Var(log(self.v), lambda: [(self, self.v ** -1)])"
      ]
    },
    {
      "cell_type": "code",
      "execution_count": 191,
      "metadata": {
        "id": "6nMuxyfzFtHv"
      },
      "outputs": [],
      "source": [
        "def cross_entropy_loss(t, h):\n",
        "    a = 0.0\n",
        "    for i in range(len(t)):\n",
        "        a += t[i] * h[i]\n",
        "    b = 0.0\n",
        "    for i in range(len(h)):\n",
        "        exp_sum += math.exp(h[i])\n",
        "    Loss = -1.0 * a + log(b)    # Insert code here\n",
        "    return Loss"
      ]
    },
    {
      "cell_type": "markdown",
      "metadata": {
        "id": "8fAF5ew4FtHy"
      },
      "source": [
        "# Backward pass\n",
        "\n",
        "Now the magic happens! We get the calculation of the gradients for free. Just do:"
      ]
    },
    {
      "cell_type": "code",
      "execution_count": 192,
      "metadata": {
        "id": "iHyfPPI9Qqwu"
      },
      "outputs": [],
      "source": [
        "NN = [\n",
        "    DenseLayer(1, 5, lambda x: x.relu()),\n",
        "    DenseLayer(5, 1, lambda x: x.identity())\n",
        "]\n",
        "\n",
        "output = forward(x_train, NN)\n",
        "\n",
        "Loss = squared_loss(y_train,output)\n",
        "Loss.backward()"
      ]
    },
    {
      "cell_type": "markdown",
      "metadata": {
        "id": "49biIAYKQ1oG"
      },
      "source": [
        "and the gradients will be calculated:"
      ]
    },
    {
      "cell_type": "code",
      "execution_count": 193,
      "metadata": {
        "id": "_rGt1bq_Q7uk",
        "colab": {
          "base_uri": "https://localhost:8080/"
        },
        "outputId": "dc3e1b41-8b65-43ff-cf41-59d6afbaebbc"
      },
      "outputs": [
        {
          "output_type": "stream",
          "name": "stdout",
          "text": [
            "Layer 0 \n",
            " Weights: [[Var(v=-0.0290, grad=-9.6294), Var(v=-0.0937, grad=-6.5551), Var(v=-0.2412, grad=1.4534), Var(v=0.0387, grad=-8.1078), Var(v=0.0768, grad=5.7748)]] Biases: [Var(v=0.0000, grad=0.0000), Var(v=0.0000, grad=0.0000), Var(v=0.0000, grad=0.0000), Var(v=0.0000, grad=0.0000), Var(v=0.0000, grad=0.0000)]\n",
            "Layer 1 \n",
            " Weights: [[Var(v=0.0997, grad=2.8033)], [Var(v=0.0679, grad=9.0453)], [Var(v=-0.0150, grad=23.2981)], [Var(v=0.0797, grad=-3.9397)], [Var(v=-0.0568, grad=-7.8120)]] Biases: [Var(v=0.0000, grad=0.0000)]\n"
          ]
        },
        {
          "output_type": "execute_result",
          "data": {
            "text/plain": [
              "[None, None]"
            ]
          },
          "metadata": {},
          "execution_count": 193
        }
      ],
      "source": [
        "[print('Layer', i, '\\n', NN[i]) for i in range(len(NN))]"
      ]
    },
    {
      "cell_type": "markdown",
      "metadata": {
        "id": "D7d7qK0uFtH9"
      },
      "source": [
        "# Backward pass unit test\n",
        "\n",
        "Above we used finite differences to test that Nanograd is actually doing what it is supposed to do. We can in principle try the same for the neural network. But we will trust that the test above is enough."
      ]
    },
    {
      "cell_type": "markdown",
      "metadata": {
        "id": "WgBi8GOSFtIN"
      },
      "source": [
        "# Training and validation\n",
        "\n",
        "We are ready to train some neural networks!\n",
        "\n",
        "We initialize again:"
      ]
    },
    {
      "cell_type": "code",
      "execution_count": 194,
      "metadata": {
        "id": "01ePmzBzRtdh"
      },
      "outputs": [],
      "source": [
        "NN = [\n",
        "    DenseLayer(1, 15, lambda x: x.relu()),\n",
        "    DenseLayer(15, 50, lambda x: x.relu()),\n",
        "    DenseLayer(50, 1, lambda x: x.identity())\n",
        "]\n",
        "\n",
        "output = forward(x_train, NN)\n",
        "\n",
        "Loss = squared_loss(y_train,output)\n",
        "Loss.backward()"
      ]
    },
    {
      "cell_type": "markdown",
      "metadata": {
        "id": "10iRPiQ1ISHw"
      },
      "source": [
        "and make an update:\n",
        "\n",
        "We introduce a help function parameters to have a handle in all parameters in the network."
      ]
    },
    {
      "cell_type": "code",
      "execution_count": 195,
      "metadata": {
        "id": "dhAI7eyeznia",
        "colab": {
          "base_uri": "https://localhost:8080/"
        },
        "outputId": "0a8c3c20-b37f-4361-b6eb-08667502a967"
      },
      "outputs": [
        {
          "output_type": "stream",
          "name": "stdout",
          "text": [
            "Network before update:\n",
            "Layer 0 \n",
            " Weights: [[Var(v=0.0081, grad=-4.8603), Var(v=-0.2129, grad=-2.6075), Var(v=-0.0980, grad=-5.2694), Var(v=0.0322, grad=-7.2373), Var(v=-0.1254, grad=8.9486), Var(v=-0.0767, grad=-7.6019), Var(v=-0.1188, grad=-13.7488), Var(v=0.1413, grad=-3.2532), Var(v=0.1232, grad=-4.0086), Var(v=0.0291, grad=0.0374), Var(v=-0.1299, grad=2.4181), Var(v=-0.0621, grad=-4.4874), Var(v=0.0530, grad=2.0140), Var(v=-0.0033, grad=-0.4722), Var(v=0.0136, grad=0.0788)]] Biases: [Var(v=0.0000, grad=0.0000), Var(v=0.0000, grad=0.0000), Var(v=0.0000, grad=0.0000), Var(v=0.0000, grad=0.0000), Var(v=0.0000, grad=0.0000), Var(v=0.0000, grad=0.0000), Var(v=0.0000, grad=0.0000), Var(v=0.0000, grad=0.0000), Var(v=0.0000, grad=0.0000), Var(v=0.0000, grad=0.0000), Var(v=0.0000, grad=0.0000), Var(v=0.0000, grad=0.0000), Var(v=0.0000, grad=0.0000), Var(v=0.0000, grad=0.0000), Var(v=0.0000, grad=0.0000)]\n",
            "Layer 1 \n",
            " Weights: [[Var(v=-0.0049, grad=0.0724), Var(v=-0.0026, grad=-0.1314), Var(v=-0.0192, grad=0.0000), Var(v=-0.0192, grad=-0.0375), Var(v=-0.2508, grad=-0.0308), Var(v=0.0023, grad=-0.2121), Var(v=-0.0556, grad=-0.0835), Var(v=-0.0632, grad=0.0000), Var(v=-0.0762, grad=0.0000), Var(v=-0.0677, grad=0.0000), Var(v=0.0901, grad=-0.1483), Var(v=0.0658, grad=0.0000), Var(v=-0.2536, grad=0.0000), Var(v=-0.0027, grad=0.0849), Var(v=0.0704, grad=0.0000), Var(v=-0.0486, grad=-0.0136), Var(v=0.0381, grad=0.0415), Var(v=-0.1105, grad=0.0000), Var(v=0.1810, grad=0.0000), Var(v=-0.0908, grad=0.0000), Var(v=-0.1048, grad=-0.0393), Var(v=-0.0373, grad=0.0000), Var(v=0.1457, grad=0.0000), Var(v=0.0022, grad=0.0000), Var(v=0.0297, grad=0.0000), Var(v=0.0739, grad=0.0000), Var(v=0.1094, grad=0.0000), Var(v=0.0907, grad=0.0000), Var(v=0.1029, grad=-0.0618), Var(v=-0.0632, grad=0.1489), Var(v=-0.1387, grad=0.0000), Var(v=-0.1321, grad=0.0000), Var(v=0.0460, grad=0.0000), Var(v=0.0741, grad=-0.0308), Var(v=0.0881, grad=0.0000), Var(v=0.1574, grad=0.0000), Var(v=-0.0328, grad=0.0000), Var(v=0.1225, grad=-0.0124), Var(v=0.1984, grad=-0.0292), Var(v=0.1418, grad=-0.1442), Var(v=0.1591, grad=0.0000), Var(v=-0.1362, grad=0.0331), Var(v=-0.1754, grad=-0.0222), Var(v=0.0618, grad=0.0444), Var(v=-0.0558, grad=0.0212), Var(v=0.0889, grad=-0.1003), Var(v=-0.1603, grad=0.0000), Var(v=-0.2364, grad=0.0000), Var(v=-0.0782, grad=0.0445), Var(v=-0.1277, grad=-0.0967)], [Var(v=0.0687, grad=-1.8549), Var(v=0.0471, grad=0.0000), Var(v=-0.2623, grad=0.0000), Var(v=-0.0148, grad=0.9610), Var(v=0.1355, grad=0.7885), Var(v=-0.1360, grad=0.0000), Var(v=-0.4210, grad=0.0000), Var(v=0.1278, grad=0.0000), Var(v=0.0836, grad=0.9977), Var(v=-0.0178, grad=-1.9551), Var(v=0.3288, grad=3.7966), Var(v=-0.1804, grad=0.0000), Var(v=0.0076, grad=-2.9442), Var(v=-0.1196, grad=0.0000), Var(v=-0.0160, grad=0.0000), Var(v=0.0174, grad=0.3485), Var(v=0.1460, grad=-1.0629), Var(v=-0.0687, grad=0.0000), Var(v=0.0140, grad=4.4153), Var(v=-0.1046, grad=0.0000), Var(v=-0.0475, grad=0.0000), Var(v=-0.1374, grad=0.0000), Var(v=0.0376, grad=-4.4995), Var(v=-0.1933, grad=0.0000), Var(v=0.0488, grad=1.0609), Var(v=-0.0113, grad=0.0000), Var(v=-0.0351, grad=0.0000), Var(v=0.0321, grad=2.5277), Var(v=-0.1415, grad=0.0000), Var(v=0.1924, grad=-3.8124), Var(v=-0.1187, grad=0.0000), Var(v=0.0541, grad=0.0000), Var(v=0.0705, grad=3.2953), Var(v=0.0923, grad=0.0000), Var(v=0.0323, grad=0.0000), Var(v=-0.0282, grad=0.0000), Var(v=-0.1164, grad=0.0000), Var(v=0.0519, grad=0.3167), Var(v=-0.1795, grad=0.0000), Var(v=-0.0502, grad=3.6934), Var(v=-0.0026, grad=-4.5465), Var(v=0.0577, grad=-0.8481), Var(v=-0.1434, grad=0.5686), Var(v=-0.0459, grad=0.0000), Var(v=-0.1133, grad=0.0000), Var(v=0.0555, grad=0.0000), Var(v=0.0122, grad=-2.1740), Var(v=-0.1975, grad=0.0000), Var(v=0.0847, grad=-1.1386), Var(v=0.1135, grad=2.4763)], [Var(v=-0.0860, grad=-0.8536), Var(v=-0.0988, grad=0.0000), Var(v=0.0816, grad=0.0000), Var(v=0.1646, grad=0.4422), Var(v=0.1036, grad=0.3628), Var(v=0.1578, grad=0.0000), Var(v=-0.0802, grad=0.0000), Var(v=-0.0388, grad=0.0000), Var(v=0.0394, grad=0.4591), Var(v=-0.0176, grad=-0.8997), Var(v=0.1144, grad=1.7471), Var(v=0.1749, grad=0.0000), Var(v=0.0895, grad=-1.3548), Var(v=0.0229, grad=0.0000), Var(v=-0.0169, grad=0.0000), Var(v=0.0771, grad=0.1604), Var(v=-0.0716, grad=-0.4891), Var(v=0.1115, grad=0.0000), Var(v=0.1806, grad=2.0318), Var(v=-0.0181, grad=0.0000), Var(v=-0.0703, grad=0.0000), Var(v=0.2188, grad=0.0000), Var(v=-0.0123, grad=-2.0706), Var(v=-0.0439, grad=0.0000), Var(v=0.0165, grad=0.4882), Var(v=0.1411, grad=0.0000), Var(v=-0.0037, grad=0.0000), Var(v=-0.0117, grad=1.1632), Var(v=0.1793, grad=0.0000), Var(v=0.0397, grad=-1.7543), Var(v=0.0638, grad=0.0000), Var(v=0.0008, grad=0.0000), Var(v=-0.1922, grad=1.5164), Var(v=0.0035, grad=0.0000), Var(v=0.0703, grad=0.0000), Var(v=-0.1618, grad=0.0000), Var(v=0.0440, grad=0.0000), Var(v=-0.1361, grad=0.1457), Var(v=-0.0391, grad=0.0000), Var(v=-0.0960, grad=1.6996), Var(v=-0.1979, grad=-2.0922), Var(v=0.0478, grad=-0.3903), Var(v=-0.1752, grad=0.2616), Var(v=-0.2637, grad=0.0000), Var(v=0.0619, grad=0.0000), Var(v=-0.0988, grad=0.0000), Var(v=0.0221, grad=-1.0004), Var(v=0.0729, grad=0.0000), Var(v=0.0145, grad=-0.5240), Var(v=0.0085, grad=1.1395)], [Var(v=0.0705, grad=0.2867), Var(v=-0.0045, grad=-0.5199), Var(v=0.0056, grad=0.0000), Var(v=-0.0533, grad=-0.1485), Var(v=0.0694, grad=-0.1219), Var(v=0.0515, grad=-0.8392), Var(v=0.0502, grad=-0.3306), Var(v=-0.1290, grad=0.0000), Var(v=0.0230, grad=0.0000), Var(v=-0.1175, grad=0.0000), Var(v=-0.0377, grad=-0.5867), Var(v=0.0249, grad=0.0000), Var(v=-0.0360, grad=0.0000), Var(v=-0.0590, grad=0.3359), Var(v=0.0914, grad=0.0000), Var(v=-0.0151, grad=-0.0539), Var(v=-0.0396, grad=0.1643), Var(v=0.1054, grad=0.0000), Var(v=-0.0531, grad=0.0000), Var(v=0.1541, grad=0.0000), Var(v=0.0262, grad=-0.1556), Var(v=-0.0406, grad=0.0000), Var(v=0.1419, grad=0.0000), Var(v=0.0986, grad=0.0000), Var(v=-0.1359, grad=0.0000), Var(v=-0.0602, grad=0.0000), Var(v=0.0117, grad=0.0000), Var(v=0.1146, grad=0.0000), Var(v=0.0059, grad=-0.2446), Var(v=0.0066, grad=0.5892), Var(v=0.2175, grad=0.0000), Var(v=0.0983, grad=0.0000), Var(v=-0.1242, grad=0.0000), Var(v=0.0021, grad=-0.1220), Var(v=-0.0886, grad=0.0000), Var(v=-0.0500, grad=0.0000), Var(v=-0.0372, grad=0.0000), Var(v=0.0588, grad=-0.0489), Var(v=0.0053, grad=-0.1154), Var(v=0.0567, grad=-0.5708), Var(v=-0.0246, grad=0.0000), Var(v=-0.0648, grad=0.1311), Var(v=0.0558, grad=-0.0879), Var(v=-0.0254, grad=0.1757), Var(v=-0.0091, grad=0.0838), Var(v=0.1663, grad=-0.3967), Var(v=0.0178, grad=0.0000), Var(v=-0.0809, grad=0.0000), Var(v=-0.0439, grad=0.1760), Var(v=0.1611, grad=-0.3827)], [Var(v=-0.1552, grad=-1.0927), Var(v=-0.1405, grad=0.0000), Var(v=0.1070, grad=0.0000), Var(v=0.1069, grad=0.5661), Var(v=0.0376, grad=0.4645), Var(v=-0.0727, grad=0.0000), Var(v=-0.1690, grad=0.0000), Var(v=-0.0789, grad=0.0000), Var(v=0.0533, grad=0.5877), Var(v=0.1408, grad=-1.1517), Var(v=-0.2137, grad=2.2366), Var(v=-0.0425, grad=0.0000), Var(v=0.1443, grad=-1.7344), Var(v=-0.0609, grad=0.0000), Var(v=0.0857, grad=0.0000), Var(v=0.1969, grad=0.2053), Var(v=0.0708, grad=-0.6261), Var(v=-0.0648, grad=0.0000), Var(v=-0.0075, grad=2.6010), Var(v=0.0735, grad=0.0000), Var(v=-0.0207, grad=0.0000), Var(v=-0.0250, grad=0.0000), Var(v=0.0645, grad=-2.6506), Var(v=0.0972, grad=0.0000), Var(v=0.0211, grad=0.6250), Var(v=-0.0013, grad=0.0000), Var(v=-0.1140, grad=0.0000), Var(v=0.1198, grad=1.4891), Var(v=-0.0093, grad=0.0000), Var(v=0.0668, grad=-2.2458), Var(v=0.0155, grad=0.0000), Var(v=-0.1110, grad=0.0000), Var(v=0.1592, grad=1.9412), Var(v=-0.1855, grad=0.0000), Var(v=-0.0732, grad=0.0000), Var(v=-0.1667, grad=0.0000), Var(v=-0.0051, grad=0.0000), Var(v=-0.0000, grad=0.1866), Var(v=0.0027, grad=0.0000), Var(v=-0.0011, grad=2.1757), Var(v=0.1752, grad=-2.6783), Var(v=0.0397, grad=-0.4996), Var(v=0.2018, grad=0.3349), Var(v=0.1391, grad=0.0000), Var(v=-0.2490, grad=0.0000), Var(v=0.0246, grad=0.0000), Var(v=0.0881, grad=-1.2807), Var(v=-0.1129, grad=0.0000), Var(v=0.0701, grad=-0.6708), Var(v=-0.0573, grad=1.4588)], [Var(v=0.0746, grad=-0.6682), Var(v=-0.0711, grad=0.0000), Var(v=-0.0667, grad=0.0000), Var(v=0.2154, grad=0.3462), Var(v=0.0198, grad=0.2841), Var(v=-0.1247, grad=0.0000), Var(v=0.0730, grad=0.0000), Var(v=0.0224, grad=0.0000), Var(v=-0.0603, grad=0.3594), Var(v=0.0414, grad=-0.7043), Var(v=0.0959, grad=1.3677), Var(v=-0.0250, grad=0.0000), Var(v=0.0208, grad=-1.0606), Var(v=0.0908, grad=0.0000), Var(v=-0.0746, grad=0.0000), Var(v=-0.0497, grad=0.1256), Var(v=0.0089, grad=-0.3829), Var(v=-0.0280, grad=0.0000), Var(v=-0.1046, grad=1.5906), Var(v=0.0254, grad=0.0000), Var(v=-0.0805, grad=0.0000), Var(v=0.0591, grad=0.0000), Var(v=-0.2019, grad=-1.6209), Var(v=0.0824, grad=0.0000), Var(v=-0.1540, grad=0.3822), Var(v=-0.0593, grad=0.0000), Var(v=0.0066, grad=0.0000), Var(v=0.1690, grad=0.9106), Var(v=-0.2461, grad=0.0000), Var(v=-0.0985, grad=-1.3734), Var(v=-0.0180, grad=0.0000), Var(v=0.0749, grad=0.0000), Var(v=-0.0572, grad=1.1871), Var(v=-0.1980, grad=0.0000), Var(v=0.0181, grad=0.0000), Var(v=0.1082, grad=0.0000), Var(v=-0.1011, grad=0.0000), Var(v=-0.0401, grad=0.1141), Var(v=-0.1916, grad=0.0000), Var(v=0.2118, grad=1.3305), Var(v=0.0406, grad=-1.6378), Var(v=0.0263, grad=-0.3055), Var(v=0.0843, grad=0.2048), Var(v=0.0383, grad=0.0000), Var(v=0.0532, grad=0.0000), Var(v=-0.2183, grad=0.0000), Var(v=0.0340, grad=-0.7832), Var(v=0.0663, grad=0.0000), Var(v=0.0026, grad=-0.4102), Var(v=-0.0128, grad=0.8921)], [Var(v=-0.0372, grad=-1.0352), Var(v=-0.0401, grad=0.0000), Var(v=0.0626, grad=0.0000), Var(v=0.0314, grad=0.5363), Var(v=0.0735, grad=0.4401), Var(v=0.1133, grad=0.0000), Var(v=-0.1487, grad=0.0000), Var(v=-0.0946, grad=0.0000), Var(v=0.1277, grad=0.5568), Var(v=-0.0255, grad=-1.0911), Var(v=0.0225, grad=2.1189), Var(v=-0.0041, grad=0.0000), Var(v=-0.0675, grad=-1.6431), Var(v=-0.1049, grad=0.0000), Var(v=0.0010, grad=0.0000), Var(v=0.0323, grad=0.1945), Var(v=0.0341, grad=-0.5932), Var(v=-0.0369, grad=0.0000), Var(v=0.0990, grad=2.4642), Var(v=0.0892, grad=0.0000), Var(v=-0.0364, grad=0.0000), Var(v=-0.0375, grad=0.0000), Var(v=0.0866, grad=-2.5112), Var(v=0.0910, grad=0.0000), Var(v=0.0803, grad=0.5921), Var(v=-0.2286, grad=0.0000), Var(v=0.0629, grad=0.0000), Var(v=0.0571, grad=1.4107), Var(v=-0.0670, grad=0.0000), Var(v=-0.0488, grad=-2.1276), Var(v=0.0059, grad=0.0000), Var(v=-0.0366, grad=0.0000), Var(v=0.0676, grad=1.8391), Var(v=0.0191, grad=0.0000), Var(v=-0.1960, grad=0.0000), Var(v=-0.0823, grad=0.0000), Var(v=-0.1212, grad=0.0000), Var(v=0.0964, grad=0.1767), Var(v=-0.0816, grad=0.0000), Var(v=0.1158, grad=2.0612), Var(v=-0.1270, grad=-2.5373), Var(v=0.0271, grad=-0.4733), Var(v=0.1412, grad=0.3173), Var(v=0.0587, grad=0.0000), Var(v=0.0345, grad=0.0000), Var(v=-0.0768, grad=0.0000), Var(v=-0.0671, grad=-1.2133), Var(v=0.0185, grad=0.0000), Var(v=-0.0112, grad=-0.6355), Var(v=0.1600, grad=1.3820)], [Var(v=0.0466, grad=1.2582), Var(v=0.0326, grad=-2.2821), Var(v=-0.0634, grad=0.0000), Var(v=0.1765, grad=-0.6519), Var(v=0.1444, grad=-0.5348), Var(v=0.1302, grad=-3.6834), Var(v=0.0806, grad=-1.4510), Var(v=-0.0307, grad=0.0000), Var(v=-0.1686, grad=0.0000), Var(v=-0.1195, grad=0.0000), Var(v=-0.1304, grad=-2.5753), Var(v=-0.0451, grad=0.0000), Var(v=-0.0416, grad=0.0000), Var(v=0.1146, grad=1.4742), Var(v=-0.1114, grad=0.0000), Var(v=0.0535, grad=-0.2364), Var(v=-0.0893, grad=0.7210), Var(v=0.0058, grad=0.0000), Var(v=-0.0802, grad=0.0000), Var(v=-0.1381, grad=0.0000), Var(v=0.0677, grad=-0.6830), Var(v=-0.0146, grad=0.0000), Var(v=-0.0116, grad=0.0000), Var(v=-0.0015, grad=0.0000), Var(v=0.0531, grad=0.0000), Var(v=0.0527, grad=0.0000), Var(v=-0.2601, grad=0.0000), Var(v=-0.0791, grad=0.0000), Var(v=0.0347, grad=-1.0734), Var(v=0.1332, grad=2.5859), Var(v=-0.0729, grad=0.0000), Var(v=-0.2165, grad=0.0000), Var(v=-0.1701, grad=0.0000), Var(v=0.0028, grad=-0.5355), Var(v=-0.1594, grad=0.0000), Var(v=-0.0191, grad=0.0000), Var(v=0.0756, grad=0.0000), Var(v=0.1638, grad=-0.2148), Var(v=0.0175, grad=-0.5064), Var(v=0.0411, grad=-2.5052), Var(v=-0.1154, grad=0.0000), Var(v=-0.0004, grad=0.5753), Var(v=0.0459, grad=-0.3857), Var(v=0.0141, grad=0.7712), Var(v=-0.0986, grad=0.3678), Var(v=0.1027, grad=-1.7413), Var(v=-0.1248, grad=0.0000), Var(v=-0.0697, grad=0.0000), Var(v=0.0767, grad=0.7723), Var(v=0.0190, grad=-1.6797)], [Var(v=0.2976, grad=1.0973), Var(v=0.0458, grad=-1.9903), Var(v=-0.0831, grad=0.0000), Var(v=-0.0401, grad=-0.5685), Var(v=0.1600, grad=-0.4665), Var(v=0.0376, grad=-3.2125), Var(v=-0.0050, grad=-1.2654), Var(v=-0.0301, grad=0.0000), Var(v=-0.0035, grad=0.0000), Var(v=0.0389, grad=0.0000), Var(v=0.1494, grad=-2.2460), Var(v=-0.0480, grad=0.0000), Var(v=-0.0825, grad=0.0000), Var(v=0.1092, grad=1.2857), Var(v=-0.0013, grad=0.0000), Var(v=-0.0275, grad=-0.2062), Var(v=0.1481, grad=0.6288), Var(v=-0.1225, grad=0.0000), Var(v=-0.0160, grad=0.0000), Var(v=-0.0011, grad=0.0000), Var(v=0.0775, grad=-0.5957), Var(v=0.1212, grad=0.0000), Var(v=-0.1125, grad=0.0000), Var(v=0.0284, grad=0.0000), Var(v=-0.0999, grad=0.0000), Var(v=0.0220, grad=0.0000), Var(v=-0.1039, grad=0.0000), Var(v=0.0825, grad=0.0000), Var(v=-0.0074, grad=-0.9362), Var(v=-0.1182, grad=2.2553), Var(v=0.0150, grad=0.0000), Var(v=-0.0092, grad=0.0000), Var(v=0.1062, grad=0.0000), Var(v=0.0073, grad=-0.4670), Var(v=0.0129, grad=0.0000), Var(v=-0.1130, grad=0.0000), Var(v=-0.0427, grad=0.0000), Var(v=0.0897, grad=-0.1873), Var(v=-0.0343, grad=-0.4417), Var(v=0.0764, grad=-2.1849), Var(v=0.0402, grad=0.0000), Var(v=-0.0167, grad=0.5017), Var(v=0.0760, grad=-0.3364), Var(v=0.0478, grad=0.6726), Var(v=0.1235, grad=0.3208), Var(v=-0.0870, grad=-1.5187), Var(v=-0.0067, grad=0.0000), Var(v=0.0354, grad=0.0000), Var(v=-0.0107, grad=0.6736), Var(v=0.1036, grad=-1.4649)], [Var(v=0.0919, grad=0.2591), Var(v=-0.0142, grad=-0.4699), Var(v=0.1786, grad=0.0000), Var(v=0.0741, grad=-0.1342), Var(v=0.1357, grad=-0.1101), Var(v=0.0621, grad=-0.7584), Var(v=0.0585, grad=-0.2987), Var(v=-0.0390, grad=0.0000), Var(v=0.0463, grad=0.0000), Var(v=-0.0133, grad=0.0000), Var(v=-0.0894, grad=-0.5302), Var(v=-0.0101, grad=0.0000), Var(v=0.0449, grad=0.0000), Var(v=0.0757, grad=0.3035), Var(v=0.0881, grad=0.0000), Var(v=0.1076, grad=-0.0487), Var(v=-0.0346, grad=0.1484), Var(v=0.0059, grad=0.0000), Var(v=-0.0888, grad=0.0000), Var(v=0.0208, grad=0.0000), Var(v=0.0203, grad=-0.1406), Var(v=0.1701, grad=0.0000), Var(v=-0.0008, grad=0.0000), Var(v=-0.1052, grad=0.0000), Var(v=-0.0731, grad=0.0000), Var(v=-0.1579, grad=0.0000), Var(v=-0.0000, grad=0.0000), Var(v=-0.0660, grad=0.0000), Var(v=0.0151, grad=-0.2210), Var(v=-0.0488, grad=0.5324), Var(v=0.1587, grad=0.0000), Var(v=-0.1095, grad=0.0000), Var(v=0.0053, grad=0.0000), Var(v=0.0115, grad=-0.1103), Var(v=-0.1745, grad=0.0000), Var(v=-0.0687, grad=0.0000), Var(v=-0.0659, grad=0.0000), Var(v=0.0038, grad=-0.0442), Var(v=0.0929, grad=-0.1043), Var(v=-0.0085, grad=-0.5158), Var(v=-0.1069, grad=0.0000), Var(v=0.0336, grad=0.1184), Var(v=-0.1934, grad=-0.0794), Var(v=0.0356, grad=0.1588), Var(v=0.0684, grad=0.0757), Var(v=0.0408, grad=-0.3585), Var(v=0.0558, grad=0.0000), Var(v=-0.0961, grad=0.0000), Var(v=-0.0056, grad=0.1590), Var(v=-0.0704, grad=-0.3458)], [Var(v=0.1401, grad=-1.1313), Var(v=0.0310, grad=0.0000), Var(v=-0.1954, grad=0.0000), Var(v=0.1271, grad=0.5861), Var(v=0.1162, grad=0.4809), Var(v=-0.0305, grad=0.0000), Var(v=0.0821, grad=0.0000), Var(v=-0.1960, grad=0.0000), Var(v=0.0763, grad=0.6085), Var(v=-0.0682, grad=-1.1924), Var(v=0.0848, grad=2.3156), Var(v=-0.1473, grad=0.0000), Var(v=0.1613, grad=-1.7957), Var(v=0.0089, grad=0.0000), Var(v=-0.0036, grad=0.0000), Var(v=-0.0484, grad=0.2126), Var(v=-0.0699, grad=-0.6483), Var(v=-0.0618, grad=0.0000), Var(v=-0.0039, grad=2.6929), Var(v=-0.0188, grad=0.0000), Var(v=0.0396, grad=0.0000), Var(v=-0.0443, grad=0.0000), Var(v=-0.0339, grad=-2.7443), Var(v=-0.1546, grad=0.0000), Var(v=-0.0283, grad=0.6471), Var(v=0.0705, grad=0.0000), Var(v=-0.1205, grad=0.0000), Var(v=-0.0815, grad=1.5417), Var(v=-0.1689, grad=0.0000), Var(v=-0.0007, grad=-2.3252), Var(v=-0.1422, grad=0.0000), Var(v=-0.1027, grad=0.0000), Var(v=0.1107, grad=2.0098), Var(v=0.0213, grad=0.0000), Var(v=0.0934, grad=0.0000), Var(v=-0.0245, grad=0.0000), Var(v=-0.0779, grad=0.0000), Var(v=0.0286, grad=0.1932), Var(v=-0.1523, grad=0.0000), Var(v=-0.0288, grad=2.2526), Var(v=0.1392, grad=-2.7729), Var(v=0.0054, grad=-0.5173), Var(v=0.0268, grad=0.3468), Var(v=-0.0438, grad=0.0000), Var(v=0.1307, grad=0.0000), Var(v=-0.0058, grad=0.0000), Var(v=0.0262, grad=-1.3260), Var(v=0.0489, grad=0.0000), Var(v=0.0712, grad=-0.6945), Var(v=0.0034, grad=1.5103)], [Var(v=0.1282, grad=-0.5410), Var(v=0.0546, grad=0.0000), Var(v=0.1318, grad=0.0000), Var(v=-0.1076, grad=0.2803), Var(v=0.0952, grad=0.2300), Var(v=0.1101, grad=0.0000), Var(v=-0.1914, grad=0.0000), Var(v=0.1046, grad=0.0000), Var(v=-0.1614, grad=0.2910), Var(v=-0.0465, grad=-0.5702), Var(v=0.0552, grad=1.1073), Var(v=-0.1348, grad=0.0000), Var(v=0.0509, grad=-0.8587), Var(v=-0.1436, grad=0.0000), Var(v=-0.0653, grad=0.0000), Var(v=-0.0911, grad=0.1017), Var(v=-0.0982, grad=-0.3100), Var(v=0.0565, grad=0.0000), Var(v=0.0987, grad=1.2877), Var(v=-0.1522, grad=0.0000), Var(v=0.0433, grad=0.0000), Var(v=-0.0019, grad=0.0000), Var(v=-0.0406, grad=-1.3123), Var(v=0.0184, grad=0.0000), Var(v=0.0223, grad=0.3094), Var(v=0.0358, grad=0.0000), Var(v=-0.0417, grad=0.0000), Var(v=-0.0445, grad=0.7372), Var(v=0.0642, grad=0.0000), Var(v=-0.0236, grad=-1.1119), Var(v=0.1307, grad=0.0000), Var(v=0.0225, grad=0.0000), Var(v=0.1553, grad=0.9611), Var(v=0.0192, grad=0.0000), Var(v=0.0331, grad=0.0000), Var(v=0.0013, grad=0.0000), Var(v=0.0758, grad=0.0000), Var(v=-0.0596, grad=0.0924), Var(v=0.0277, grad=0.0000), Var(v=-0.0220, grad=1.0772), Var(v=0.0036, grad=-1.3260), Var(v=0.0464, grad=-0.2474), Var(v=-0.0605, grad=0.1658), Var(v=0.1666, grad=0.0000), Var(v=0.1027, grad=0.0000), Var(v=0.0361, grad=0.0000), Var(v=-0.0455, grad=-0.6341), Var(v=-0.1823, grad=0.0000), Var(v=0.0826, grad=-0.3321), Var(v=0.0860, grad=0.7222)], [Var(v=-0.0692, grad=0.4718), Var(v=-0.1334, grad=-0.8556), Var(v=0.1367, grad=0.0000), Var(v=-0.0664, grad=-0.2444), Var(v=-0.0246, grad=-0.2005), Var(v=0.0184, grad=-1.3811), Var(v=0.1637, grad=-0.5440), Var(v=-0.0147, grad=0.0000), Var(v=0.1418, grad=0.0000), Var(v=-0.1078, grad=0.0000), Var(v=0.2788, grad=-0.9656), Var(v=-0.0507, grad=0.0000), Var(v=-0.0516, grad=0.0000), Var(v=-0.0094, grad=0.5527), Var(v=-0.0267, grad=0.0000), Var(v=0.1143, grad=-0.0886), Var(v=-0.0763, grad=0.2703), Var(v=0.1109, grad=0.0000), Var(v=-0.0844, grad=0.0000), Var(v=0.0452, grad=0.0000), Var(v=-0.0325, grad=-0.2561), Var(v=-0.3247, grad=0.0000), Var(v=0.1172, grad=0.0000), Var(v=-0.1676, grad=0.0000), Var(v=-0.0725, grad=0.0000), Var(v=-0.2334, grad=0.0000), Var(v=-0.0180, grad=0.0000), Var(v=-0.1014, grad=0.0000), Var(v=0.0192, grad=-0.4025), Var(v=0.2244, grad=0.9696), Var(v=-0.0514, grad=0.0000), Var(v=0.1219, grad=0.0000), Var(v=-0.1838, grad=0.0000), Var(v=0.0752, grad=-0.2008), Var(v=-0.0294, grad=0.0000), Var(v=-0.1071, grad=0.0000), Var(v=-0.0440, grad=0.0000), Var(v=-0.1080, grad=-0.0805), Var(v=0.0166, grad=-0.1899), Var(v=-0.0693, grad=-0.9393), Var(v=0.1244, grad=0.0000), Var(v=0.2532, grad=0.2157), Var(v=0.0959, grad=-0.1446), Var(v=0.0759, grad=0.2892), Var(v=0.0193, grad=0.1379), Var(v=-0.1355, grad=-0.6529), Var(v=-0.0832, grad=0.0000), Var(v=0.0073, grad=0.0000), Var(v=-0.0943, grad=0.2896), Var(v=-0.0372, grad=-0.6298)], [Var(v=-0.0756, grad=-0.0291), Var(v=0.0612, grad=0.0000), Var(v=-0.0848, grad=0.0000), Var(v=0.1207, grad=0.0151), Var(v=-0.0659, grad=0.0124), Var(v=-0.0980, grad=0.0000), Var(v=0.0219, grad=0.0000), Var(v=0.1480, grad=0.0000), Var(v=-0.1109, grad=0.0157), Var(v=-0.0902, grad=-0.0307), Var(v=0.0192, grad=0.0596), Var(v=-0.0932, grad=0.0000), Var(v=0.0213, grad=-0.0462), Var(v=0.0425, grad=0.0000), Var(v=-0.1582, grad=0.0000), Var(v=0.0247, grad=0.0055), Var(v=-0.1532, grad=-0.0167), Var(v=0.0953, grad=0.0000), Var(v=-0.0970, grad=0.0693), Var(v=-0.1511, grad=0.0000), Var(v=0.0691, grad=0.0000), Var(v=-0.0251, grad=0.0000), Var(v=0.0068, grad=-0.0707), Var(v=0.0605, grad=0.0000), Var(v=-0.0564, grad=0.0167), Var(v=0.0829, grad=0.0000), Var(v=-0.2213, grad=0.0000), Var(v=-0.0472, grad=0.0397), Var(v=0.0257, grad=0.0000), Var(v=0.0028, grad=-0.0599), Var(v=0.1822, grad=0.0000), Var(v=-0.0758, grad=0.0000), Var(v=-0.1135, grad=0.0517), Var(v=0.1056, grad=0.0000), Var(v=-0.0428, grad=0.0000), Var(v=0.0764, grad=0.0000), Var(v=-0.0090, grad=0.0000), Var(v=-0.0839, grad=0.0050), Var(v=0.0824, grad=0.0000), Var(v=0.0882, grad=0.0580), Var(v=0.0039, grad=-0.0714), Var(v=-0.1278, grad=-0.0133), Var(v=-0.0737, grad=0.0089), Var(v=-0.0746, grad=0.0000), Var(v=0.0060, grad=0.0000), Var(v=-0.0008, grad=0.0000), Var(v=-0.2496, grad=-0.0341), Var(v=0.0599, grad=0.0000), Var(v=-0.0247, grad=-0.0179), Var(v=-0.1000, grad=0.0389)], [Var(v=0.0303, grad=0.1212), Var(v=-0.1811, grad=-0.2199), Var(v=0.1133, grad=0.0000), Var(v=-0.1270, grad=-0.0628), Var(v=0.0988, grad=-0.0515), Var(v=-0.1915, grad=-0.3549), Var(v=0.0185, grad=-0.1398), Var(v=0.1957, grad=0.0000), Var(v=-0.1261, grad=0.0000), Var(v=-0.0966, grad=0.0000), Var(v=0.1388, grad=-0.2482), Var(v=-0.0938, grad=0.0000), Var(v=-0.0697, grad=0.0000), Var(v=-0.0297, grad=0.1421), Var(v=-0.0267, grad=0.0000), Var(v=-0.1447, grad=-0.0228), Var(v=0.0400, grad=0.0695), Var(v=0.1466, grad=0.0000), Var(v=-0.0070, grad=0.0000), Var(v=0.0047, grad=0.0000), Var(v=0.0481, grad=-0.0658), Var(v=0.0359, grad=0.0000), Var(v=0.1247, grad=0.0000), Var(v=0.0388, grad=0.0000), Var(v=-0.0488, grad=0.0000), Var(v=-0.0555, grad=0.0000), Var(v=-0.0504, grad=0.0000), Var(v=0.0698, grad=0.0000), Var(v=-0.1219, grad=-0.1034), Var(v=-0.2606, grad=0.2492), Var(v=-0.2452, grad=0.0000), Var(v=0.0824, grad=0.0000), Var(v=-0.0804, grad=0.0000), Var(v=0.0700, grad=-0.0516), Var(v=-0.0314, grad=0.0000), Var(v=-0.0370, grad=0.0000), Var(v=-0.2915, grad=0.0000), Var(v=0.0484, grad=-0.0207), Var(v=0.0114, grad=-0.0488), Var(v=0.0529, grad=-0.2414), Var(v=-0.0350, grad=0.0000), Var(v=-0.0413, grad=0.0554), Var(v=-0.0133, grad=-0.0372), Var(v=0.0471, grad=0.0743), Var(v=-0.0091, grad=0.0354), Var(v=0.0804, grad=-0.1678), Var(v=0.0590, grad=0.0000), Var(v=-0.0279, grad=0.0000), Var(v=0.0400, grad=0.0744), Var(v=-0.0278, grad=-0.1619)]] Biases: [Var(v=0.0000, grad=0.0000), Var(v=0.0000, grad=0.0000), Var(v=0.0000, grad=0.0000), Var(v=0.0000, grad=0.0000), Var(v=0.0000, grad=0.0000), Var(v=0.0000, grad=0.0000), Var(v=0.0000, grad=0.0000), Var(v=0.0000, grad=0.0000), Var(v=0.0000, grad=0.0000), Var(v=0.0000, grad=0.0000), Var(v=0.0000, grad=0.0000), Var(v=0.0000, grad=0.0000), Var(v=0.0000, grad=0.0000), Var(v=0.0000, grad=0.0000), Var(v=0.0000, grad=0.0000), Var(v=0.0000, grad=0.0000), Var(v=0.0000, grad=0.0000), Var(v=0.0000, grad=0.0000), Var(v=0.0000, grad=0.0000), Var(v=0.0000, grad=0.0000), Var(v=0.0000, grad=0.0000), Var(v=0.0000, grad=0.0000), Var(v=0.0000, grad=0.0000), Var(v=0.0000, grad=0.0000), Var(v=0.0000, grad=0.0000), Var(v=0.0000, grad=0.0000), Var(v=0.0000, grad=0.0000), Var(v=0.0000, grad=0.0000), Var(v=0.0000, grad=0.0000), Var(v=0.0000, grad=0.0000), Var(v=0.0000, grad=0.0000), Var(v=0.0000, grad=0.0000), Var(v=0.0000, grad=0.0000), Var(v=0.0000, grad=0.0000), Var(v=0.0000, grad=0.0000), Var(v=0.0000, grad=0.0000), Var(v=0.0000, grad=0.0000), Var(v=0.0000, grad=0.0000), Var(v=0.0000, grad=0.0000), Var(v=0.0000, grad=0.0000), Var(v=0.0000, grad=0.0000), Var(v=0.0000, grad=0.0000), Var(v=0.0000, grad=0.0000), Var(v=0.0000, grad=0.0000), Var(v=0.0000, grad=0.0000), Var(v=0.0000, grad=0.0000), Var(v=0.0000, grad=0.0000), Var(v=0.0000, grad=0.0000), Var(v=0.0000, grad=0.0000), Var(v=0.0000, grad=0.0000)]\n",
            "Layer 2 \n",
            " Weights: [[Var(v=-0.0887, grad=-3.1371)], [Var(v=0.1609, grad=-0.0131)], [Var(v=0.1226, grad=0.0000)], [Var(v=0.0460, grad=4.0756)], [Var(v=0.0377, grad=2.8930)], [Var(v=0.2597, grad=-2.4967)], [Var(v=0.1023, grad=-2.2643)], [Var(v=-0.0115, grad=0.0000)], [Var(v=0.0477, grad=3.7722)], [Var(v=-0.0935, grad=0.0238)], [Var(v=0.1816, grad=6.3895)], [Var(v=-0.0389, grad=0.0000)], [Var(v=-0.1408, grad=4.5400)], [Var(v=-0.1040, grad=-2.9124)], [Var(v=-0.0493, grad=0.0000)], [Var(v=0.0167, grad=1.3144)], [Var(v=-0.0508, grad=2.1437)], [Var(v=0.0795, grad=0.0000)], [Var(v=0.2112, grad=2.8241)], [Var(v=0.0914, grad=0.0000)], [Var(v=0.0482, grad=-1.8694)], [Var(v=-0.1738, grad=0.0000)], [Var(v=-0.2152, grad=0.2736)], [Var(v=-0.0383, grad=0.0000)], [Var(v=0.0507, grad=0.9723)], [Var(v=0.1838, grad=0.0000)], [Var(v=0.1480, grad=0.0000)], [Var(v=0.1209, grad=2.6486)], [Var(v=0.0757, grad=-0.4836)], [Var(v=-0.1824, grad=2.6719)], [Var(v=0.1285, grad=0.0000)], [Var(v=-0.0050, grad=0.0000)], [Var(v=0.1576, grad=4.2658)], [Var(v=0.0378, grad=-0.7266)], [Var(v=0.0800, grad=0.0000)], [Var(v=0.0170, grad=0.0000)], [Var(v=0.0897, grad=0.0000)], [Var(v=0.0151, grad=-2.6516)], [Var(v=0.0357, grad=-0.3786)], [Var(v=0.1767, grad=-1.0192)], [Var(v=-0.2175, grad=0.8214)], [Var(v=-0.0406, grad=2.1229)], [Var(v=0.0272, grad=-1.5212)], [Var(v=-0.0544, grad=-1.3307)], [Var(v=-0.0259, grad=-0.3438)], [Var(v=0.1228, grad=-0.4989)], [Var(v=-0.1040, grad=1.0003)], [Var(v=0.0234, grad=0.0000)], [Var(v=-0.0545, grad=3.7785)], [Var(v=0.1184, grad=2.5283)]] Biases: [Var(v=0.0000, grad=0.0000)]\n",
            "\n",
            "Network after update:\n",
            "Layer 0 \n",
            " Weights: [[Var(v=0.0567, grad=-4.8603), Var(v=-0.1869, grad=-2.6075), Var(v=-0.0453, grad=-5.2694), Var(v=0.1046, grad=-7.2373), Var(v=-0.2149, grad=8.9486), Var(v=-0.0007, grad=-7.6019), Var(v=0.0187, grad=-13.7488), Var(v=0.1738, grad=-3.2532), Var(v=0.1633, grad=-4.0086), Var(v=0.0287, grad=0.0374), Var(v=-0.1540, grad=2.4181), Var(v=-0.0172, grad=-4.4874), Var(v=0.0328, grad=2.0140), Var(v=0.0014, grad=-0.4722), Var(v=0.0128, grad=0.0788)]] Biases: [Var(v=0.0000, grad=0.0000), Var(v=0.0000, grad=0.0000), Var(v=0.0000, grad=0.0000), Var(v=0.0000, grad=0.0000), Var(v=0.0000, grad=0.0000), Var(v=0.0000, grad=0.0000), Var(v=0.0000, grad=0.0000), Var(v=0.0000, grad=0.0000), Var(v=0.0000, grad=0.0000), Var(v=0.0000, grad=0.0000), Var(v=0.0000, grad=0.0000), Var(v=0.0000, grad=0.0000), Var(v=0.0000, grad=0.0000), Var(v=0.0000, grad=0.0000), Var(v=0.0000, grad=0.0000)]\n",
            "Layer 1 \n",
            " Weights: [[Var(v=-0.0056, grad=0.0724), Var(v=-0.0013, grad=-0.1314), Var(v=-0.0192, grad=0.0000), Var(v=-0.0188, grad=-0.0375), Var(v=-0.2505, grad=-0.0308), Var(v=0.0044, grad=-0.2121), Var(v=-0.0548, grad=-0.0835), Var(v=-0.0632, grad=0.0000), Var(v=-0.0762, grad=0.0000), Var(v=-0.0677, grad=0.0000), Var(v=0.0916, grad=-0.1483), Var(v=0.0658, grad=0.0000), Var(v=-0.2536, grad=0.0000), Var(v=-0.0036, grad=0.0849), Var(v=0.0704, grad=0.0000), Var(v=-0.0484, grad=-0.0136), Var(v=0.0377, grad=0.0415), Var(v=-0.1105, grad=0.0000), Var(v=0.1810, grad=0.0000), Var(v=-0.0908, grad=0.0000), Var(v=-0.1045, grad=-0.0393), Var(v=-0.0373, grad=0.0000), Var(v=0.1457, grad=0.0000), Var(v=0.0022, grad=0.0000), Var(v=0.0297, grad=0.0000), Var(v=0.0739, grad=0.0000), Var(v=0.1094, grad=0.0000), Var(v=0.0907, grad=0.0000), Var(v=0.1035, grad=-0.0618), Var(v=-0.0647, grad=0.1489), Var(v=-0.1387, grad=0.0000), Var(v=-0.1321, grad=0.0000), Var(v=0.0460, grad=0.0000), Var(v=0.0744, grad=-0.0308), Var(v=0.0881, grad=0.0000), Var(v=0.1574, grad=0.0000), Var(v=-0.0328, grad=0.0000), Var(v=0.1226, grad=-0.0124), Var(v=0.1987, grad=-0.0292), Var(v=0.1432, grad=-0.1442), Var(v=0.1591, grad=0.0000), Var(v=-0.1365, grad=0.0331), Var(v=-0.1752, grad=-0.0222), Var(v=0.0614, grad=0.0444), Var(v=-0.0560, grad=0.0212), Var(v=0.0899, grad=-0.1003), Var(v=-0.1603, grad=0.0000), Var(v=-0.2364, grad=0.0000), Var(v=-0.0787, grad=0.0445), Var(v=-0.1267, grad=-0.0967)], [Var(v=0.0873, grad=-1.8549), Var(v=0.0471, grad=0.0000), Var(v=-0.2623, grad=0.0000), Var(v=-0.0244, grad=0.9610), Var(v=0.1277, grad=0.7885), Var(v=-0.1360, grad=0.0000), Var(v=-0.4210, grad=0.0000), Var(v=0.1278, grad=0.0000), Var(v=0.0736, grad=0.9977), Var(v=0.0018, grad=-1.9551), Var(v=0.2908, grad=3.7966), Var(v=-0.1804, grad=0.0000), Var(v=0.0370, grad=-2.9442), Var(v=-0.1196, grad=0.0000), Var(v=-0.0160, grad=0.0000), Var(v=0.0139, grad=0.3485), Var(v=0.1567, grad=-1.0629), Var(v=-0.0687, grad=0.0000), Var(v=-0.0302, grad=4.4153), Var(v=-0.1046, grad=0.0000), Var(v=-0.0475, grad=0.0000), Var(v=-0.1374, grad=0.0000), Var(v=0.0826, grad=-4.4995), Var(v=-0.1933, grad=0.0000), Var(v=0.0382, grad=1.0609), Var(v=-0.0113, grad=0.0000), Var(v=-0.0351, grad=0.0000), Var(v=0.0069, grad=2.5277), Var(v=-0.1415, grad=0.0000), Var(v=0.2305, grad=-3.8124), Var(v=-0.1187, grad=0.0000), Var(v=0.0541, grad=0.0000), Var(v=0.0375, grad=3.2953), Var(v=0.0923, grad=0.0000), Var(v=0.0323, grad=0.0000), Var(v=-0.0282, grad=0.0000), Var(v=-0.1164, grad=0.0000), Var(v=0.0488, grad=0.3167), Var(v=-0.1795, grad=0.0000), Var(v=-0.0871, grad=3.6934), Var(v=0.0429, grad=-4.5465), Var(v=0.0661, grad=-0.8481), Var(v=-0.1491, grad=0.5686), Var(v=-0.0459, grad=0.0000), Var(v=-0.1133, grad=0.0000), Var(v=0.0555, grad=0.0000), Var(v=0.0340, grad=-2.1740), Var(v=-0.1975, grad=0.0000), Var(v=0.0961, grad=-1.1386), Var(v=0.0887, grad=2.4763)], [Var(v=-0.0774, grad=-0.8536), Var(v=-0.0988, grad=0.0000), Var(v=0.0816, grad=0.0000), Var(v=0.1602, grad=0.4422), Var(v=0.0999, grad=0.3628), Var(v=0.1578, grad=0.0000), Var(v=-0.0802, grad=0.0000), Var(v=-0.0388, grad=0.0000), Var(v=0.0348, grad=0.4591), Var(v=-0.0086, grad=-0.8997), Var(v=0.0970, grad=1.7471), Var(v=0.1749, grad=0.0000), Var(v=0.1031, grad=-1.3548), Var(v=0.0229, grad=0.0000), Var(v=-0.0169, grad=0.0000), Var(v=0.0755, grad=0.1604), Var(v=-0.0667, grad=-0.4891), Var(v=0.1115, grad=0.0000), Var(v=0.1602, grad=2.0318), Var(v=-0.0181, grad=0.0000), Var(v=-0.0703, grad=0.0000), Var(v=0.2188, grad=0.0000), Var(v=0.0084, grad=-2.0706), Var(v=-0.0439, grad=0.0000), Var(v=0.0116, grad=0.4882), Var(v=0.1411, grad=0.0000), Var(v=-0.0037, grad=0.0000), Var(v=-0.0233, grad=1.1632), Var(v=0.1793, grad=0.0000), Var(v=0.0572, grad=-1.7543), Var(v=0.0638, grad=0.0000), Var(v=0.0008, grad=0.0000), Var(v=-0.2073, grad=1.5164), Var(v=0.0035, grad=0.0000), Var(v=0.0703, grad=0.0000), Var(v=-0.1618, grad=0.0000), Var(v=0.0440, grad=0.0000), Var(v=-0.1376, grad=0.1457), Var(v=-0.0391, grad=0.0000), Var(v=-0.1129, grad=1.6996), Var(v=-0.1770, grad=-2.0922), Var(v=0.0517, grad=-0.3903), Var(v=-0.1778, grad=0.2616), Var(v=-0.2637, grad=0.0000), Var(v=0.0619, grad=0.0000), Var(v=-0.0988, grad=0.0000), Var(v=0.0321, grad=-1.0004), Var(v=0.0729, grad=0.0000), Var(v=0.0197, grad=-0.5240), Var(v=-0.0028, grad=1.1395)], [Var(v=0.0676, grad=0.2867), Var(v=0.0007, grad=-0.5199), Var(v=0.0056, grad=0.0000), Var(v=-0.0518, grad=-0.1485), Var(v=0.0706, grad=-0.1219), Var(v=0.0599, grad=-0.8392), Var(v=0.0535, grad=-0.3306), Var(v=-0.1290, grad=0.0000), Var(v=0.0230, grad=0.0000), Var(v=-0.1175, grad=0.0000), Var(v=-0.0318, grad=-0.5867), Var(v=0.0249, grad=0.0000), Var(v=-0.0360, grad=0.0000), Var(v=-0.0624, grad=0.3359), Var(v=0.0914, grad=0.0000), Var(v=-0.0145, grad=-0.0539), Var(v=-0.0413, grad=0.1643), Var(v=0.1054, grad=0.0000), Var(v=-0.0531, grad=0.0000), Var(v=0.1541, grad=0.0000), Var(v=0.0278, grad=-0.1556), Var(v=-0.0406, grad=0.0000), Var(v=0.1419, grad=0.0000), Var(v=0.0986, grad=0.0000), Var(v=-0.1359, grad=0.0000), Var(v=-0.0602, grad=0.0000), Var(v=0.0117, grad=0.0000), Var(v=0.1146, grad=0.0000), Var(v=0.0083, grad=-0.2446), Var(v=0.0007, grad=0.5892), Var(v=0.2175, grad=0.0000), Var(v=0.0983, grad=0.0000), Var(v=-0.1242, grad=0.0000), Var(v=0.0033, grad=-0.1220), Var(v=-0.0886, grad=0.0000), Var(v=-0.0500, grad=0.0000), Var(v=-0.0372, grad=0.0000), Var(v=0.0593, grad=-0.0489), Var(v=0.0065, grad=-0.1154), Var(v=0.0624, grad=-0.5708), Var(v=-0.0246, grad=0.0000), Var(v=-0.0661, grad=0.1311), Var(v=0.0567, grad=-0.0879), Var(v=-0.0271, grad=0.1757), Var(v=-0.0100, grad=0.0838), Var(v=0.1703, grad=-0.3967), Var(v=0.0178, grad=0.0000), Var(v=-0.0809, grad=0.0000), Var(v=-0.0457, grad=0.1760), Var(v=0.1649, grad=-0.3827)], [Var(v=-0.1443, grad=-1.0927), Var(v=-0.1405, grad=0.0000), Var(v=0.1070, grad=0.0000), Var(v=0.1012, grad=0.5661), Var(v=0.0329, grad=0.4645), Var(v=-0.0727, grad=0.0000), Var(v=-0.1690, grad=0.0000), Var(v=-0.0789, grad=0.0000), Var(v=0.0474, grad=0.5877), Var(v=0.1523, grad=-1.1517), Var(v=-0.2360, grad=2.2366), Var(v=-0.0425, grad=0.0000), Var(v=0.1616, grad=-1.7344), Var(v=-0.0609, grad=0.0000), Var(v=0.0857, grad=0.0000), Var(v=0.1949, grad=0.2053), Var(v=0.0770, grad=-0.6261), Var(v=-0.0648, grad=0.0000), Var(v=-0.0335, grad=2.6010), Var(v=0.0735, grad=0.0000), Var(v=-0.0207, grad=0.0000), Var(v=-0.0250, grad=0.0000), Var(v=0.0910, grad=-2.6506), Var(v=0.0972, grad=0.0000), Var(v=0.0149, grad=0.6250), Var(v=-0.0013, grad=0.0000), Var(v=-0.1140, grad=0.0000), Var(v=0.1050, grad=1.4891), Var(v=-0.0093, grad=0.0000), Var(v=0.0893, grad=-2.2458), Var(v=0.0155, grad=0.0000), Var(v=-0.1110, grad=0.0000), Var(v=0.1398, grad=1.9412), Var(v=-0.1855, grad=0.0000), Var(v=-0.0732, grad=0.0000), Var(v=-0.1667, grad=0.0000), Var(v=-0.0051, grad=0.0000), Var(v=-0.0019, grad=0.1866), Var(v=0.0027, grad=0.0000), Var(v=-0.0229, grad=2.1757), Var(v=0.2020, grad=-2.6783), Var(v=0.0447, grad=-0.4996), Var(v=0.1985, grad=0.3349), Var(v=0.1391, grad=0.0000), Var(v=-0.2490, grad=0.0000), Var(v=0.0246, grad=0.0000), Var(v=0.1009, grad=-1.2807), Var(v=-0.1129, grad=0.0000), Var(v=0.0768, grad=-0.6708), Var(v=-0.0719, grad=1.4588)], [Var(v=0.0813, grad=-0.6682), Var(v=-0.0711, grad=0.0000), Var(v=-0.0667, grad=0.0000), Var(v=0.2120, grad=0.3462), Var(v=0.0170, grad=0.2841), Var(v=-0.1247, grad=0.0000), Var(v=0.0730, grad=0.0000), Var(v=0.0224, grad=0.0000), Var(v=-0.0639, grad=0.3594), Var(v=0.0484, grad=-0.7043), Var(v=0.0822, grad=1.3677), Var(v=-0.0250, grad=0.0000), Var(v=0.0314, grad=-1.0606), Var(v=0.0908, grad=0.0000), Var(v=-0.0746, grad=0.0000), Var(v=-0.0510, grad=0.1256), Var(v=0.0127, grad=-0.3829), Var(v=-0.0280, grad=0.0000), Var(v=-0.1205, grad=1.5906), Var(v=0.0254, grad=0.0000), Var(v=-0.0805, grad=0.0000), Var(v=0.0591, grad=0.0000), Var(v=-0.1857, grad=-1.6209), Var(v=0.0824, grad=0.0000), Var(v=-0.1579, grad=0.3822), Var(v=-0.0593, grad=0.0000), Var(v=0.0066, grad=0.0000), Var(v=0.1599, grad=0.9106), Var(v=-0.2461, grad=0.0000), Var(v=-0.0848, grad=-1.3734), Var(v=-0.0180, grad=0.0000), Var(v=0.0749, grad=0.0000), Var(v=-0.0691, grad=1.1871), Var(v=-0.1980, grad=0.0000), Var(v=0.0181, grad=0.0000), Var(v=0.1082, grad=0.0000), Var(v=-0.1011, grad=0.0000), Var(v=-0.0412, grad=0.1141), Var(v=-0.1916, grad=0.0000), Var(v=0.1985, grad=1.3305), Var(v=0.0570, grad=-1.6378), Var(v=0.0294, grad=-0.3055), Var(v=0.0823, grad=0.2048), Var(v=0.0383, grad=0.0000), Var(v=0.0532, grad=0.0000), Var(v=-0.2183, grad=0.0000), Var(v=0.0419, grad=-0.7832), Var(v=0.0663, grad=0.0000), Var(v=0.0067, grad=-0.4102), Var(v=-0.0218, grad=0.8921)], [Var(v=-0.0269, grad=-1.0352), Var(v=-0.0401, grad=0.0000), Var(v=0.0626, grad=0.0000), Var(v=0.0260, grad=0.5363), Var(v=0.0691, grad=0.4401), Var(v=0.1133, grad=0.0000), Var(v=-0.1487, grad=0.0000), Var(v=-0.0946, grad=0.0000), Var(v=0.1222, grad=0.5568), Var(v=-0.0146, grad=-1.0911), Var(v=0.0013, grad=2.1189), Var(v=-0.0041, grad=0.0000), Var(v=-0.0510, grad=-1.6431), Var(v=-0.1049, grad=0.0000), Var(v=0.0010, grad=0.0000), Var(v=0.0304, grad=0.1945), Var(v=0.0400, grad=-0.5932), Var(v=-0.0369, grad=0.0000), Var(v=0.0743, grad=2.4642), Var(v=0.0892, grad=0.0000), Var(v=-0.0364, grad=0.0000), Var(v=-0.0375, grad=0.0000), Var(v=0.1117, grad=-2.5112), Var(v=0.0910, grad=0.0000), Var(v=0.0744, grad=0.5921), Var(v=-0.2286, grad=0.0000), Var(v=0.0629, grad=0.0000), Var(v=0.0430, grad=1.4107), Var(v=-0.0670, grad=0.0000), Var(v=-0.0276, grad=-2.1276), Var(v=0.0059, grad=0.0000), Var(v=-0.0366, grad=0.0000), Var(v=0.0492, grad=1.8391), Var(v=0.0191, grad=0.0000), Var(v=-0.1960, grad=0.0000), Var(v=-0.0823, grad=0.0000), Var(v=-0.1212, grad=0.0000), Var(v=0.0946, grad=0.1767), Var(v=-0.0816, grad=0.0000), Var(v=0.0952, grad=2.0612), Var(v=-0.1016, grad=-2.5373), Var(v=0.0318, grad=-0.4733), Var(v=0.1380, grad=0.3173), Var(v=0.0587, grad=0.0000), Var(v=0.0345, grad=0.0000), Var(v=-0.0768, grad=0.0000), Var(v=-0.0550, grad=-1.2133), Var(v=0.0185, grad=0.0000), Var(v=-0.0049, grad=-0.6355), Var(v=0.1462, grad=1.3820)], [Var(v=0.0340, grad=1.2582), Var(v=0.0554, grad=-2.2821), Var(v=-0.0634, grad=0.0000), Var(v=0.1830, grad=-0.6519), Var(v=0.1498, grad=-0.5348), Var(v=0.1670, grad=-3.6834), Var(v=0.0951, grad=-1.4510), Var(v=-0.0307, grad=0.0000), Var(v=-0.1686, grad=0.0000), Var(v=-0.1195, grad=0.0000), Var(v=-0.1046, grad=-2.5753), Var(v=-0.0451, grad=0.0000), Var(v=-0.0416, grad=0.0000), Var(v=0.0998, grad=1.4742), Var(v=-0.1114, grad=0.0000), Var(v=0.0558, grad=-0.2364), Var(v=-0.0965, grad=0.7210), Var(v=0.0058, grad=0.0000), Var(v=-0.0802, grad=0.0000), Var(v=-0.1381, grad=0.0000), Var(v=0.0745, grad=-0.6830), Var(v=-0.0146, grad=0.0000), Var(v=-0.0116, grad=0.0000), Var(v=-0.0015, grad=0.0000), Var(v=0.0531, grad=0.0000), Var(v=0.0527, grad=0.0000), Var(v=-0.2601, grad=0.0000), Var(v=-0.0791, grad=0.0000), Var(v=0.0455, grad=-1.0734), Var(v=0.1073, grad=2.5859), Var(v=-0.0729, grad=0.0000), Var(v=-0.2165, grad=0.0000), Var(v=-0.1701, grad=0.0000), Var(v=0.0082, grad=-0.5355), Var(v=-0.1594, grad=0.0000), Var(v=-0.0191, grad=0.0000), Var(v=0.0756, grad=0.0000), Var(v=0.1659, grad=-0.2148), Var(v=0.0226, grad=-0.5064), Var(v=0.0662, grad=-2.5052), Var(v=-0.1154, grad=0.0000), Var(v=-0.0062, grad=0.5753), Var(v=0.0498, grad=-0.3857), Var(v=0.0063, grad=0.7712), Var(v=-0.1023, grad=0.3678), Var(v=0.1202, grad=-1.7413), Var(v=-0.1248, grad=0.0000), Var(v=-0.0697, grad=0.0000), Var(v=0.0690, grad=0.7723), Var(v=0.0358, grad=-1.6797)], [Var(v=0.2866, grad=1.0973), Var(v=0.0657, grad=-1.9903), Var(v=-0.0831, grad=0.0000), Var(v=-0.0345, grad=-0.5685), Var(v=0.1647, grad=-0.4665), Var(v=0.0697, grad=-3.2125), Var(v=0.0076, grad=-1.2654), Var(v=-0.0301, grad=0.0000), Var(v=-0.0035, grad=0.0000), Var(v=0.0389, grad=0.0000), Var(v=0.1719, grad=-2.2460), Var(v=-0.0480, grad=0.0000), Var(v=-0.0825, grad=0.0000), Var(v=0.0963, grad=1.2857), Var(v=-0.0013, grad=0.0000), Var(v=-0.0254, grad=-0.2062), Var(v=0.1418, grad=0.6288), Var(v=-0.1225, grad=0.0000), Var(v=-0.0160, grad=0.0000), Var(v=-0.0011, grad=0.0000), Var(v=0.0834, grad=-0.5957), Var(v=0.1212, grad=0.0000), Var(v=-0.1125, grad=0.0000), Var(v=0.0284, grad=0.0000), Var(v=-0.0999, grad=0.0000), Var(v=0.0220, grad=0.0000), Var(v=-0.1039, grad=0.0000), Var(v=0.0825, grad=0.0000), Var(v=0.0019, grad=-0.9362), Var(v=-0.1407, grad=2.2553), Var(v=0.0150, grad=0.0000), Var(v=-0.0092, grad=0.0000), Var(v=0.1062, grad=0.0000), Var(v=0.0120, grad=-0.4670), Var(v=0.0129, grad=0.0000), Var(v=-0.1130, grad=0.0000), Var(v=-0.0427, grad=0.0000), Var(v=0.0915, grad=-0.1873), Var(v=-0.0299, grad=-0.4417), Var(v=0.0983, grad=-2.1849), Var(v=0.0402, grad=0.0000), Var(v=-0.0217, grad=0.5017), Var(v=0.0794, grad=-0.3364), Var(v=0.0411, grad=0.6726), Var(v=0.1203, grad=0.3208), Var(v=-0.0719, grad=-1.5187), Var(v=-0.0067, grad=0.0000), Var(v=0.0354, grad=0.0000), Var(v=-0.0174, grad=0.6736), Var(v=0.1183, grad=-1.4649)], [Var(v=0.0893, grad=0.2591), Var(v=-0.0095, grad=-0.4699), Var(v=0.1786, grad=0.0000), Var(v=0.0754, grad=-0.1342), Var(v=0.1368, grad=-0.1101), Var(v=0.0697, grad=-0.7584), Var(v=0.0615, grad=-0.2987), Var(v=-0.0390, grad=0.0000), Var(v=0.0463, grad=0.0000), Var(v=-0.0133, grad=0.0000), Var(v=-0.0841, grad=-0.5302), Var(v=-0.0101, grad=0.0000), Var(v=0.0449, grad=0.0000), Var(v=0.0726, grad=0.3035), Var(v=0.0881, grad=0.0000), Var(v=0.1081, grad=-0.0487), Var(v=-0.0361, grad=0.1484), Var(v=0.0059, grad=0.0000), Var(v=-0.0888, grad=0.0000), Var(v=0.0208, grad=0.0000), Var(v=0.0217, grad=-0.1406), Var(v=0.1701, grad=0.0000), Var(v=-0.0008, grad=0.0000), Var(v=-0.1052, grad=0.0000), Var(v=-0.0731, grad=0.0000), Var(v=-0.1579, grad=0.0000), Var(v=-0.0000, grad=0.0000), Var(v=-0.0660, grad=0.0000), Var(v=0.0173, grad=-0.2210), Var(v=-0.0541, grad=0.5324), Var(v=0.1587, grad=0.0000), Var(v=-0.1095, grad=0.0000), Var(v=0.0053, grad=0.0000), Var(v=0.0126, grad=-0.1103), Var(v=-0.1745, grad=0.0000), Var(v=-0.0687, grad=0.0000), Var(v=-0.0659, grad=0.0000), Var(v=0.0043, grad=-0.0442), Var(v=0.0940, grad=-0.1043), Var(v=-0.0034, grad=-0.5158), Var(v=-0.1069, grad=0.0000), Var(v=0.0325, grad=0.1184), Var(v=-0.1926, grad=-0.0794), Var(v=0.0340, grad=0.1588), Var(v=0.0676, grad=0.0757), Var(v=0.0444, grad=-0.3585), Var(v=0.0558, grad=0.0000), Var(v=-0.0961, grad=0.0000), Var(v=-0.0072, grad=0.1590), Var(v=-0.0670, grad=-0.3458)], [Var(v=0.1514, grad=-1.1313), Var(v=0.0310, grad=0.0000), Var(v=-0.1954, grad=0.0000), Var(v=0.1212, grad=0.5861), Var(v=0.1114, grad=0.4809), Var(v=-0.0305, grad=0.0000), Var(v=0.0821, grad=0.0000), Var(v=-0.1960, grad=0.0000), Var(v=0.0702, grad=0.6085), Var(v=-0.0563, grad=-1.1924), Var(v=0.0617, grad=2.3156), Var(v=-0.1473, grad=0.0000), Var(v=0.1792, grad=-1.7957), Var(v=0.0089, grad=0.0000), Var(v=-0.0036, grad=0.0000), Var(v=-0.0505, grad=0.2126), Var(v=-0.0634, grad=-0.6483), Var(v=-0.0618, grad=0.0000), Var(v=-0.0309, grad=2.6929), Var(v=-0.0188, grad=0.0000), Var(v=0.0396, grad=0.0000), Var(v=-0.0443, grad=0.0000), Var(v=-0.0064, grad=-2.7443), Var(v=-0.1546, grad=0.0000), Var(v=-0.0347, grad=0.6471), Var(v=0.0705, grad=0.0000), Var(v=-0.1205, grad=0.0000), Var(v=-0.0969, grad=1.5417), Var(v=-0.1689, grad=0.0000), Var(v=0.0226, grad=-2.3252), Var(v=-0.1422, grad=0.0000), Var(v=-0.1027, grad=0.0000), Var(v=0.0906, grad=2.0098), Var(v=0.0213, grad=0.0000), Var(v=0.0934, grad=0.0000), Var(v=-0.0245, grad=0.0000), Var(v=-0.0779, grad=0.0000), Var(v=0.0267, grad=0.1932), Var(v=-0.1523, grad=0.0000), Var(v=-0.0514, grad=2.2526), Var(v=0.1669, grad=-2.7729), Var(v=0.0106, grad=-0.5173), Var(v=0.0234, grad=0.3468), Var(v=-0.0438, grad=0.0000), Var(v=0.1307, grad=0.0000), Var(v=-0.0058, grad=0.0000), Var(v=0.0394, grad=-1.3260), Var(v=0.0489, grad=0.0000), Var(v=0.0782, grad=-0.6945), Var(v=-0.0117, grad=1.5103)], [Var(v=0.1336, grad=-0.5410), Var(v=0.0546, grad=0.0000), Var(v=0.1318, grad=0.0000), Var(v=-0.1104, grad=0.2803), Var(v=0.0929, grad=0.2300), Var(v=0.1101, grad=0.0000), Var(v=-0.1914, grad=0.0000), Var(v=0.1046, grad=0.0000), Var(v=-0.1643, grad=0.2910), Var(v=-0.0408, grad=-0.5702), Var(v=0.0442, grad=1.1073), Var(v=-0.1348, grad=0.0000), Var(v=0.0595, grad=-0.8587), Var(v=-0.1436, grad=0.0000), Var(v=-0.0653, grad=0.0000), Var(v=-0.0921, grad=0.1017), Var(v=-0.0951, grad=-0.3100), Var(v=0.0565, grad=0.0000), Var(v=0.0858, grad=1.2877), Var(v=-0.1522, grad=0.0000), Var(v=0.0433, grad=0.0000), Var(v=-0.0019, grad=0.0000), Var(v=-0.0274, grad=-1.3123), Var(v=0.0184, grad=0.0000), Var(v=0.0192, grad=0.3094), Var(v=0.0358, grad=0.0000), Var(v=-0.0417, grad=0.0000), Var(v=-0.0518, grad=0.7372), Var(v=0.0642, grad=0.0000), Var(v=-0.0125, grad=-1.1119), Var(v=0.1307, grad=0.0000), Var(v=0.0225, grad=0.0000), Var(v=0.1457, grad=0.9611), Var(v=0.0192, grad=0.0000), Var(v=0.0331, grad=0.0000), Var(v=0.0013, grad=0.0000), Var(v=0.0758, grad=0.0000), Var(v=-0.0606, grad=0.0924), Var(v=0.0277, grad=0.0000), Var(v=-0.0328, grad=1.0772), Var(v=0.0169, grad=-1.3260), Var(v=0.0489, grad=-0.2474), Var(v=-0.0621, grad=0.1658), Var(v=0.1666, grad=0.0000), Var(v=0.1027, grad=0.0000), Var(v=0.0361, grad=0.0000), Var(v=-0.0392, grad=-0.6341), Var(v=-0.1823, grad=0.0000), Var(v=0.0859, grad=-0.3321), Var(v=0.0788, grad=0.7222)], [Var(v=-0.0739, grad=0.4718), Var(v=-0.1249, grad=-0.8556), Var(v=0.1367, grad=0.0000), Var(v=-0.0640, grad=-0.2444), Var(v=-0.0226, grad=-0.2005), Var(v=0.0322, grad=-1.3811), Var(v=0.1691, grad=-0.5440), Var(v=-0.0147, grad=0.0000), Var(v=0.1418, grad=0.0000), Var(v=-0.1078, grad=0.0000), Var(v=0.2885, grad=-0.9656), Var(v=-0.0507, grad=0.0000), Var(v=-0.0516, grad=0.0000), Var(v=-0.0149, grad=0.5527), Var(v=-0.0267, grad=0.0000), Var(v=0.1152, grad=-0.0886), Var(v=-0.0790, grad=0.2703), Var(v=0.1109, grad=0.0000), Var(v=-0.0844, grad=0.0000), Var(v=0.0452, grad=0.0000), Var(v=-0.0299, grad=-0.2561), Var(v=-0.3247, grad=0.0000), Var(v=0.1172, grad=0.0000), Var(v=-0.1676, grad=0.0000), Var(v=-0.0725, grad=0.0000), Var(v=-0.2334, grad=0.0000), Var(v=-0.0180, grad=0.0000), Var(v=-0.1014, grad=0.0000), Var(v=0.0233, grad=-0.4025), Var(v=0.2147, grad=0.9696), Var(v=-0.0514, grad=0.0000), Var(v=0.1219, grad=0.0000), Var(v=-0.1838, grad=0.0000), Var(v=0.0772, grad=-0.2008), Var(v=-0.0294, grad=0.0000), Var(v=-0.1071, grad=0.0000), Var(v=-0.0440, grad=0.0000), Var(v=-0.1072, grad=-0.0805), Var(v=0.0185, grad=-0.1899), Var(v=-0.0599, grad=-0.9393), Var(v=0.1244, grad=0.0000), Var(v=0.2511, grad=0.2157), Var(v=0.0973, grad=-0.1446), Var(v=0.0730, grad=0.2892), Var(v=0.0179, grad=0.1379), Var(v=-0.1290, grad=-0.6529), Var(v=-0.0832, grad=0.0000), Var(v=0.0073, grad=0.0000), Var(v=-0.0972, grad=0.2896), Var(v=-0.0310, grad=-0.6298)], [Var(v=-0.0753, grad=-0.0291), Var(v=0.0612, grad=0.0000), Var(v=-0.0848, grad=0.0000), Var(v=0.1205, grad=0.0151), Var(v=-0.0660, grad=0.0124), Var(v=-0.0980, grad=0.0000), Var(v=0.0219, grad=0.0000), Var(v=0.1480, grad=0.0000), Var(v=-0.1111, grad=0.0157), Var(v=-0.0899, grad=-0.0307), Var(v=0.0186, grad=0.0596), Var(v=-0.0932, grad=0.0000), Var(v=0.0217, grad=-0.0462), Var(v=0.0425, grad=0.0000), Var(v=-0.1582, grad=0.0000), Var(v=0.0247, grad=0.0055), Var(v=-0.1530, grad=-0.0167), Var(v=0.0953, grad=0.0000), Var(v=-0.0977, grad=0.0693), Var(v=-0.1511, grad=0.0000), Var(v=0.0691, grad=0.0000), Var(v=-0.0251, grad=0.0000), Var(v=0.0075, grad=-0.0707), Var(v=0.0605, grad=0.0000), Var(v=-0.0566, grad=0.0167), Var(v=0.0829, grad=0.0000), Var(v=-0.2213, grad=0.0000), Var(v=-0.0476, grad=0.0397), Var(v=0.0257, grad=0.0000), Var(v=0.0034, grad=-0.0599), Var(v=0.1822, grad=0.0000), Var(v=-0.0758, grad=0.0000), Var(v=-0.1140, grad=0.0517), Var(v=0.1056, grad=0.0000), Var(v=-0.0428, grad=0.0000), Var(v=0.0764, grad=0.0000), Var(v=-0.0090, grad=0.0000), Var(v=-0.0839, grad=0.0050), Var(v=0.0824, grad=0.0000), Var(v=0.0876, grad=0.0580), Var(v=0.0046, grad=-0.0714), Var(v=-0.1277, grad=-0.0133), Var(v=-0.0738, grad=0.0089), Var(v=-0.0746, grad=0.0000), Var(v=0.0060, grad=0.0000), Var(v=-0.0008, grad=0.0000), Var(v=-0.2493, grad=-0.0341), Var(v=0.0599, grad=0.0000), Var(v=-0.0246, grad=-0.0179), Var(v=-0.1004, grad=0.0389)], [Var(v=0.0291, grad=0.1212), Var(v=-0.1789, grad=-0.2199), Var(v=0.1133, grad=0.0000), Var(v=-0.1263, grad=-0.0628), Var(v=0.0993, grad=-0.0515), Var(v=-0.1879, grad=-0.3549), Var(v=0.0199, grad=-0.1398), Var(v=0.1957, grad=0.0000), Var(v=-0.1261, grad=0.0000), Var(v=-0.0966, grad=0.0000), Var(v=0.1413, grad=-0.2482), Var(v=-0.0938, grad=0.0000), Var(v=-0.0697, grad=0.0000), Var(v=-0.0311, grad=0.1421), Var(v=-0.0267, grad=0.0000), Var(v=-0.1445, grad=-0.0228), Var(v=0.0393, grad=0.0695), Var(v=0.1466, grad=0.0000), Var(v=-0.0070, grad=0.0000), Var(v=0.0047, grad=0.0000), Var(v=0.0488, grad=-0.0658), Var(v=0.0359, grad=0.0000), Var(v=0.1247, grad=0.0000), Var(v=0.0388, grad=0.0000), Var(v=-0.0488, grad=0.0000), Var(v=-0.0555, grad=0.0000), Var(v=-0.0504, grad=0.0000), Var(v=0.0698, grad=0.0000), Var(v=-0.1209, grad=-0.1034), Var(v=-0.2631, grad=0.2492), Var(v=-0.2452, grad=0.0000), Var(v=0.0824, grad=0.0000), Var(v=-0.0804, grad=0.0000), Var(v=0.0706, grad=-0.0516), Var(v=-0.0314, grad=0.0000), Var(v=-0.0370, grad=0.0000), Var(v=-0.2915, grad=0.0000), Var(v=0.0486, grad=-0.0207), Var(v=0.0119, grad=-0.0488), Var(v=0.0553, grad=-0.2414), Var(v=-0.0350, grad=0.0000), Var(v=-0.0418, grad=0.0554), Var(v=-0.0130, grad=-0.0372), Var(v=0.0464, grad=0.0743), Var(v=-0.0094, grad=0.0354), Var(v=0.0821, grad=-0.1678), Var(v=0.0590, grad=0.0000), Var(v=-0.0279, grad=0.0000), Var(v=0.0393, grad=0.0744), Var(v=-0.0262, grad=-0.1619)]] Biases: [Var(v=0.0000, grad=0.0000), Var(v=0.0000, grad=0.0000), Var(v=0.0000, grad=0.0000), Var(v=0.0000, grad=0.0000), Var(v=0.0000, grad=0.0000), Var(v=0.0000, grad=0.0000), Var(v=0.0000, grad=0.0000), Var(v=0.0000, grad=0.0000), Var(v=0.0000, grad=0.0000), Var(v=0.0000, grad=0.0000), Var(v=0.0000, grad=0.0000), Var(v=0.0000, grad=0.0000), Var(v=0.0000, grad=0.0000), Var(v=0.0000, grad=0.0000), Var(v=0.0000, grad=0.0000), Var(v=0.0000, grad=0.0000), Var(v=0.0000, grad=0.0000), Var(v=0.0000, grad=0.0000), Var(v=0.0000, grad=0.0000), Var(v=0.0000, grad=0.0000), Var(v=0.0000, grad=0.0000), Var(v=0.0000, grad=0.0000), Var(v=0.0000, grad=0.0000), Var(v=0.0000, grad=0.0000), Var(v=0.0000, grad=0.0000), Var(v=0.0000, grad=0.0000), Var(v=0.0000, grad=0.0000), Var(v=0.0000, grad=0.0000), Var(v=0.0000, grad=0.0000), Var(v=0.0000, grad=0.0000), Var(v=0.0000, grad=0.0000), Var(v=0.0000, grad=0.0000), Var(v=0.0000, grad=0.0000), Var(v=0.0000, grad=0.0000), Var(v=0.0000, grad=0.0000), Var(v=0.0000, grad=0.0000), Var(v=0.0000, grad=0.0000), Var(v=0.0000, grad=0.0000), Var(v=0.0000, grad=0.0000), Var(v=0.0000, grad=0.0000), Var(v=0.0000, grad=0.0000), Var(v=0.0000, grad=0.0000), Var(v=0.0000, grad=0.0000), Var(v=0.0000, grad=0.0000), Var(v=0.0000, grad=0.0000), Var(v=0.0000, grad=0.0000), Var(v=0.0000, grad=0.0000), Var(v=0.0000, grad=0.0000), Var(v=0.0000, grad=0.0000), Var(v=0.0000, grad=0.0000)]\n",
            "Layer 2 \n",
            " Weights: [[Var(v=-0.0574, grad=-3.1371)], [Var(v=0.1611, grad=-0.0131)], [Var(v=0.1226, grad=0.0000)], [Var(v=0.0052, grad=4.0756)], [Var(v=0.0088, grad=2.8930)], [Var(v=0.2847, grad=-2.4967)], [Var(v=0.1250, grad=-2.2643)], [Var(v=-0.0115, grad=0.0000)], [Var(v=0.0100, grad=3.7722)], [Var(v=-0.0938, grad=0.0238)], [Var(v=0.1177, grad=6.3895)], [Var(v=-0.0389, grad=0.0000)], [Var(v=-0.1862, grad=4.5400)], [Var(v=-0.0748, grad=-2.9124)], [Var(v=-0.0493, grad=0.0000)], [Var(v=0.0035, grad=1.3144)], [Var(v=-0.0723, grad=2.1437)], [Var(v=0.0795, grad=0.0000)], [Var(v=0.1830, grad=2.8241)], [Var(v=0.0914, grad=0.0000)], [Var(v=0.0669, grad=-1.8694)], [Var(v=-0.1738, grad=0.0000)], [Var(v=-0.2180, grad=0.2736)], [Var(v=-0.0383, grad=0.0000)], [Var(v=0.0410, grad=0.9723)], [Var(v=0.1838, grad=0.0000)], [Var(v=0.1480, grad=0.0000)], [Var(v=0.0944, grad=2.6486)], [Var(v=0.0805, grad=-0.4836)], [Var(v=-0.2091, grad=2.6719)], [Var(v=0.1285, grad=0.0000)], [Var(v=-0.0050, grad=0.0000)], [Var(v=0.1150, grad=4.2658)], [Var(v=0.0450, grad=-0.7266)], [Var(v=0.0800, grad=0.0000)], [Var(v=0.0170, grad=0.0000)], [Var(v=0.0897, grad=0.0000)], [Var(v=0.0417, grad=-2.6516)], [Var(v=0.0395, grad=-0.3786)], [Var(v=0.1869, grad=-1.0192)], [Var(v=-0.2257, grad=0.8214)], [Var(v=-0.0618, grad=2.1229)], [Var(v=0.0424, grad=-1.5212)], [Var(v=-0.0411, grad=-1.3307)], [Var(v=-0.0225, grad=-0.3438)], [Var(v=0.1278, grad=-0.4989)], [Var(v=-0.1140, grad=1.0003)], [Var(v=0.0234, grad=0.0000)], [Var(v=-0.0922, grad=3.7785)], [Var(v=0.0932, grad=2.5283)]] Biases: [Var(v=0.0000, grad=0.0000)]\n",
            "\n",
            "Network after zeroing gradients:\n",
            "Layer 0 \n",
            " Weights: [[Var(v=0.0567, grad=0.0000), Var(v=-0.1869, grad=0.0000), Var(v=-0.0453, grad=0.0000), Var(v=0.1046, grad=0.0000), Var(v=-0.2149, grad=0.0000), Var(v=-0.0007, grad=0.0000), Var(v=0.0187, grad=0.0000), Var(v=0.1738, grad=0.0000), Var(v=0.1633, grad=0.0000), Var(v=0.0287, grad=0.0000), Var(v=-0.1540, grad=0.0000), Var(v=-0.0172, grad=0.0000), Var(v=0.0328, grad=0.0000), Var(v=0.0014, grad=0.0000), Var(v=0.0128, grad=0.0000)]] Biases: [Var(v=0.0000, grad=0.0000), Var(v=0.0000, grad=0.0000), Var(v=0.0000, grad=0.0000), Var(v=0.0000, grad=0.0000), Var(v=0.0000, grad=0.0000), Var(v=0.0000, grad=0.0000), Var(v=0.0000, grad=0.0000), Var(v=0.0000, grad=0.0000), Var(v=0.0000, grad=0.0000), Var(v=0.0000, grad=0.0000), Var(v=0.0000, grad=0.0000), Var(v=0.0000, grad=0.0000), Var(v=0.0000, grad=0.0000), Var(v=0.0000, grad=0.0000), Var(v=0.0000, grad=0.0000)]\n",
            "Layer 1 \n",
            " Weights: [[Var(v=-0.0056, grad=0.0000), Var(v=-0.0013, grad=0.0000), Var(v=-0.0192, grad=0.0000), Var(v=-0.0188, grad=0.0000), Var(v=-0.2505, grad=0.0000), Var(v=0.0044, grad=0.0000), Var(v=-0.0548, grad=0.0000), Var(v=-0.0632, grad=0.0000), Var(v=-0.0762, grad=0.0000), Var(v=-0.0677, grad=0.0000), Var(v=0.0916, grad=0.0000), Var(v=0.0658, grad=0.0000), Var(v=-0.2536, grad=0.0000), Var(v=-0.0036, grad=0.0000), Var(v=0.0704, grad=0.0000), Var(v=-0.0484, grad=0.0000), Var(v=0.0377, grad=0.0000), Var(v=-0.1105, grad=0.0000), Var(v=0.1810, grad=0.0000), Var(v=-0.0908, grad=0.0000), Var(v=-0.1045, grad=0.0000), Var(v=-0.0373, grad=0.0000), Var(v=0.1457, grad=0.0000), Var(v=0.0022, grad=0.0000), Var(v=0.0297, grad=0.0000), Var(v=0.0739, grad=0.0000), Var(v=0.1094, grad=0.0000), Var(v=0.0907, grad=0.0000), Var(v=0.1035, grad=0.0000), Var(v=-0.0647, grad=0.0000), Var(v=-0.1387, grad=0.0000), Var(v=-0.1321, grad=0.0000), Var(v=0.0460, grad=0.0000), Var(v=0.0744, grad=0.0000), Var(v=0.0881, grad=0.0000), Var(v=0.1574, grad=0.0000), Var(v=-0.0328, grad=0.0000), Var(v=0.1226, grad=0.0000), Var(v=0.1987, grad=0.0000), Var(v=0.1432, grad=0.0000), Var(v=0.1591, grad=0.0000), Var(v=-0.1365, grad=0.0000), Var(v=-0.1752, grad=0.0000), Var(v=0.0614, grad=0.0000), Var(v=-0.0560, grad=0.0000), Var(v=0.0899, grad=0.0000), Var(v=-0.1603, grad=0.0000), Var(v=-0.2364, grad=0.0000), Var(v=-0.0787, grad=0.0000), Var(v=-0.1267, grad=0.0000)], [Var(v=0.0873, grad=0.0000), Var(v=0.0471, grad=0.0000), Var(v=-0.2623, grad=0.0000), Var(v=-0.0244, grad=0.0000), Var(v=0.1277, grad=0.0000), Var(v=-0.1360, grad=0.0000), Var(v=-0.4210, grad=0.0000), Var(v=0.1278, grad=0.0000), Var(v=0.0736, grad=0.0000), Var(v=0.0018, grad=0.0000), Var(v=0.2908, grad=0.0000), Var(v=-0.1804, grad=0.0000), Var(v=0.0370, grad=0.0000), Var(v=-0.1196, grad=0.0000), Var(v=-0.0160, grad=0.0000), Var(v=0.0139, grad=0.0000), Var(v=0.1567, grad=0.0000), Var(v=-0.0687, grad=0.0000), Var(v=-0.0302, grad=0.0000), Var(v=-0.1046, grad=0.0000), Var(v=-0.0475, grad=0.0000), Var(v=-0.1374, grad=0.0000), Var(v=0.0826, grad=0.0000), Var(v=-0.1933, grad=0.0000), Var(v=0.0382, grad=0.0000), Var(v=-0.0113, grad=0.0000), Var(v=-0.0351, grad=0.0000), Var(v=0.0069, grad=0.0000), Var(v=-0.1415, grad=0.0000), Var(v=0.2305, grad=0.0000), Var(v=-0.1187, grad=0.0000), Var(v=0.0541, grad=0.0000), Var(v=0.0375, grad=0.0000), Var(v=0.0923, grad=0.0000), Var(v=0.0323, grad=0.0000), Var(v=-0.0282, grad=0.0000), Var(v=-0.1164, grad=0.0000), Var(v=0.0488, grad=0.0000), Var(v=-0.1795, grad=0.0000), Var(v=-0.0871, grad=0.0000), Var(v=0.0429, grad=0.0000), Var(v=0.0661, grad=0.0000), Var(v=-0.1491, grad=0.0000), Var(v=-0.0459, grad=0.0000), Var(v=-0.1133, grad=0.0000), Var(v=0.0555, grad=0.0000), Var(v=0.0340, grad=0.0000), Var(v=-0.1975, grad=0.0000), Var(v=0.0961, grad=0.0000), Var(v=0.0887, grad=0.0000)], [Var(v=-0.0774, grad=0.0000), Var(v=-0.0988, grad=0.0000), Var(v=0.0816, grad=0.0000), Var(v=0.1602, grad=0.0000), Var(v=0.0999, grad=0.0000), Var(v=0.1578, grad=0.0000), Var(v=-0.0802, grad=0.0000), Var(v=-0.0388, grad=0.0000), Var(v=0.0348, grad=0.0000), Var(v=-0.0086, grad=0.0000), Var(v=0.0970, grad=0.0000), Var(v=0.1749, grad=0.0000), Var(v=0.1031, grad=0.0000), Var(v=0.0229, grad=0.0000), Var(v=-0.0169, grad=0.0000), Var(v=0.0755, grad=0.0000), Var(v=-0.0667, grad=0.0000), Var(v=0.1115, grad=0.0000), Var(v=0.1602, grad=0.0000), Var(v=-0.0181, grad=0.0000), Var(v=-0.0703, grad=0.0000), Var(v=0.2188, grad=0.0000), Var(v=0.0084, grad=0.0000), Var(v=-0.0439, grad=0.0000), Var(v=0.0116, grad=0.0000), Var(v=0.1411, grad=0.0000), Var(v=-0.0037, grad=0.0000), Var(v=-0.0233, grad=0.0000), Var(v=0.1793, grad=0.0000), Var(v=0.0572, grad=0.0000), Var(v=0.0638, grad=0.0000), Var(v=0.0008, grad=0.0000), Var(v=-0.2073, grad=0.0000), Var(v=0.0035, grad=0.0000), Var(v=0.0703, grad=0.0000), Var(v=-0.1618, grad=0.0000), Var(v=0.0440, grad=0.0000), Var(v=-0.1376, grad=0.0000), Var(v=-0.0391, grad=0.0000), Var(v=-0.1129, grad=0.0000), Var(v=-0.1770, grad=0.0000), Var(v=0.0517, grad=0.0000), Var(v=-0.1778, grad=0.0000), Var(v=-0.2637, grad=0.0000), Var(v=0.0619, grad=0.0000), Var(v=-0.0988, grad=0.0000), Var(v=0.0321, grad=0.0000), Var(v=0.0729, grad=0.0000), Var(v=0.0197, grad=0.0000), Var(v=-0.0028, grad=0.0000)], [Var(v=0.0676, grad=0.0000), Var(v=0.0007, grad=0.0000), Var(v=0.0056, grad=0.0000), Var(v=-0.0518, grad=0.0000), Var(v=0.0706, grad=0.0000), Var(v=0.0599, grad=0.0000), Var(v=0.0535, grad=0.0000), Var(v=-0.1290, grad=0.0000), Var(v=0.0230, grad=0.0000), Var(v=-0.1175, grad=0.0000), Var(v=-0.0318, grad=0.0000), Var(v=0.0249, grad=0.0000), Var(v=-0.0360, grad=0.0000), Var(v=-0.0624, grad=0.0000), Var(v=0.0914, grad=0.0000), Var(v=-0.0145, grad=0.0000), Var(v=-0.0413, grad=0.0000), Var(v=0.1054, grad=0.0000), Var(v=-0.0531, grad=0.0000), Var(v=0.1541, grad=0.0000), Var(v=0.0278, grad=0.0000), Var(v=-0.0406, grad=0.0000), Var(v=0.1419, grad=0.0000), Var(v=0.0986, grad=0.0000), Var(v=-0.1359, grad=0.0000), Var(v=-0.0602, grad=0.0000), Var(v=0.0117, grad=0.0000), Var(v=0.1146, grad=0.0000), Var(v=0.0083, grad=0.0000), Var(v=0.0007, grad=0.0000), Var(v=0.2175, grad=0.0000), Var(v=0.0983, grad=0.0000), Var(v=-0.1242, grad=0.0000), Var(v=0.0033, grad=0.0000), Var(v=-0.0886, grad=0.0000), Var(v=-0.0500, grad=0.0000), Var(v=-0.0372, grad=0.0000), Var(v=0.0593, grad=0.0000), Var(v=0.0065, grad=0.0000), Var(v=0.0624, grad=0.0000), Var(v=-0.0246, grad=0.0000), Var(v=-0.0661, grad=0.0000), Var(v=0.0567, grad=0.0000), Var(v=-0.0271, grad=0.0000), Var(v=-0.0100, grad=0.0000), Var(v=0.1703, grad=0.0000), Var(v=0.0178, grad=0.0000), Var(v=-0.0809, grad=0.0000), Var(v=-0.0457, grad=0.0000), Var(v=0.1649, grad=0.0000)], [Var(v=-0.1443, grad=0.0000), Var(v=-0.1405, grad=0.0000), Var(v=0.1070, grad=0.0000), Var(v=0.1012, grad=0.0000), Var(v=0.0329, grad=0.0000), Var(v=-0.0727, grad=0.0000), Var(v=-0.1690, grad=0.0000), Var(v=-0.0789, grad=0.0000), Var(v=0.0474, grad=0.0000), Var(v=0.1523, grad=0.0000), Var(v=-0.2360, grad=0.0000), Var(v=-0.0425, grad=0.0000), Var(v=0.1616, grad=0.0000), Var(v=-0.0609, grad=0.0000), Var(v=0.0857, grad=0.0000), Var(v=0.1949, grad=0.0000), Var(v=0.0770, grad=0.0000), Var(v=-0.0648, grad=0.0000), Var(v=-0.0335, grad=0.0000), Var(v=0.0735, grad=0.0000), Var(v=-0.0207, grad=0.0000), Var(v=-0.0250, grad=0.0000), Var(v=0.0910, grad=0.0000), Var(v=0.0972, grad=0.0000), Var(v=0.0149, grad=0.0000), Var(v=-0.0013, grad=0.0000), Var(v=-0.1140, grad=0.0000), Var(v=0.1050, grad=0.0000), Var(v=-0.0093, grad=0.0000), Var(v=0.0893, grad=0.0000), Var(v=0.0155, grad=0.0000), Var(v=-0.1110, grad=0.0000), Var(v=0.1398, grad=0.0000), Var(v=-0.1855, grad=0.0000), Var(v=-0.0732, grad=0.0000), Var(v=-0.1667, grad=0.0000), Var(v=-0.0051, grad=0.0000), Var(v=-0.0019, grad=0.0000), Var(v=0.0027, grad=0.0000), Var(v=-0.0229, grad=0.0000), Var(v=0.2020, grad=0.0000), Var(v=0.0447, grad=0.0000), Var(v=0.1985, grad=0.0000), Var(v=0.1391, grad=0.0000), Var(v=-0.2490, grad=0.0000), Var(v=0.0246, grad=0.0000), Var(v=0.1009, grad=0.0000), Var(v=-0.1129, grad=0.0000), Var(v=0.0768, grad=0.0000), Var(v=-0.0719, grad=0.0000)], [Var(v=0.0813, grad=0.0000), Var(v=-0.0711, grad=0.0000), Var(v=-0.0667, grad=0.0000), Var(v=0.2120, grad=0.0000), Var(v=0.0170, grad=0.0000), Var(v=-0.1247, grad=0.0000), Var(v=0.0730, grad=0.0000), Var(v=0.0224, grad=0.0000), Var(v=-0.0639, grad=0.0000), Var(v=0.0484, grad=0.0000), Var(v=0.0822, grad=0.0000), Var(v=-0.0250, grad=0.0000), Var(v=0.0314, grad=0.0000), Var(v=0.0908, grad=0.0000), Var(v=-0.0746, grad=0.0000), Var(v=-0.0510, grad=0.0000), Var(v=0.0127, grad=0.0000), Var(v=-0.0280, grad=0.0000), Var(v=-0.1205, grad=0.0000), Var(v=0.0254, grad=0.0000), Var(v=-0.0805, grad=0.0000), Var(v=0.0591, grad=0.0000), Var(v=-0.1857, grad=0.0000), Var(v=0.0824, grad=0.0000), Var(v=-0.1579, grad=0.0000), Var(v=-0.0593, grad=0.0000), Var(v=0.0066, grad=0.0000), Var(v=0.1599, grad=0.0000), Var(v=-0.2461, grad=0.0000), Var(v=-0.0848, grad=0.0000), Var(v=-0.0180, grad=0.0000), Var(v=0.0749, grad=0.0000), Var(v=-0.0691, grad=0.0000), Var(v=-0.1980, grad=0.0000), Var(v=0.0181, grad=0.0000), Var(v=0.1082, grad=0.0000), Var(v=-0.1011, grad=0.0000), Var(v=-0.0412, grad=0.0000), Var(v=-0.1916, grad=0.0000), Var(v=0.1985, grad=0.0000), Var(v=0.0570, grad=0.0000), Var(v=0.0294, grad=0.0000), Var(v=0.0823, grad=0.0000), Var(v=0.0383, grad=0.0000), Var(v=0.0532, grad=0.0000), Var(v=-0.2183, grad=0.0000), Var(v=0.0419, grad=0.0000), Var(v=0.0663, grad=0.0000), Var(v=0.0067, grad=0.0000), Var(v=-0.0218, grad=0.0000)], [Var(v=-0.0269, grad=0.0000), Var(v=-0.0401, grad=0.0000), Var(v=0.0626, grad=0.0000), Var(v=0.0260, grad=0.0000), Var(v=0.0691, grad=0.0000), Var(v=0.1133, grad=0.0000), Var(v=-0.1487, grad=0.0000), Var(v=-0.0946, grad=0.0000), Var(v=0.1222, grad=0.0000), Var(v=-0.0146, grad=0.0000), Var(v=0.0013, grad=0.0000), Var(v=-0.0041, grad=0.0000), Var(v=-0.0510, grad=0.0000), Var(v=-0.1049, grad=0.0000), Var(v=0.0010, grad=0.0000), Var(v=0.0304, grad=0.0000), Var(v=0.0400, grad=0.0000), Var(v=-0.0369, grad=0.0000), Var(v=0.0743, grad=0.0000), Var(v=0.0892, grad=0.0000), Var(v=-0.0364, grad=0.0000), Var(v=-0.0375, grad=0.0000), Var(v=0.1117, grad=0.0000), Var(v=0.0910, grad=0.0000), Var(v=0.0744, grad=0.0000), Var(v=-0.2286, grad=0.0000), Var(v=0.0629, grad=0.0000), Var(v=0.0430, grad=0.0000), Var(v=-0.0670, grad=0.0000), Var(v=-0.0276, grad=0.0000), Var(v=0.0059, grad=0.0000), Var(v=-0.0366, grad=0.0000), Var(v=0.0492, grad=0.0000), Var(v=0.0191, grad=0.0000), Var(v=-0.1960, grad=0.0000), Var(v=-0.0823, grad=0.0000), Var(v=-0.1212, grad=0.0000), Var(v=0.0946, grad=0.0000), Var(v=-0.0816, grad=0.0000), Var(v=0.0952, grad=0.0000), Var(v=-0.1016, grad=0.0000), Var(v=0.0318, grad=0.0000), Var(v=0.1380, grad=0.0000), Var(v=0.0587, grad=0.0000), Var(v=0.0345, grad=0.0000), Var(v=-0.0768, grad=0.0000), Var(v=-0.0550, grad=0.0000), Var(v=0.0185, grad=0.0000), Var(v=-0.0049, grad=0.0000), Var(v=0.1462, grad=0.0000)], [Var(v=0.0340, grad=0.0000), Var(v=0.0554, grad=0.0000), Var(v=-0.0634, grad=0.0000), Var(v=0.1830, grad=0.0000), Var(v=0.1498, grad=0.0000), Var(v=0.1670, grad=0.0000), Var(v=0.0951, grad=0.0000), Var(v=-0.0307, grad=0.0000), Var(v=-0.1686, grad=0.0000), Var(v=-0.1195, grad=0.0000), Var(v=-0.1046, grad=0.0000), Var(v=-0.0451, grad=0.0000), Var(v=-0.0416, grad=0.0000), Var(v=0.0998, grad=0.0000), Var(v=-0.1114, grad=0.0000), Var(v=0.0558, grad=0.0000), Var(v=-0.0965, grad=0.0000), Var(v=0.0058, grad=0.0000), Var(v=-0.0802, grad=0.0000), Var(v=-0.1381, grad=0.0000), Var(v=0.0745, grad=0.0000), Var(v=-0.0146, grad=0.0000), Var(v=-0.0116, grad=0.0000), Var(v=-0.0015, grad=0.0000), Var(v=0.0531, grad=0.0000), Var(v=0.0527, grad=0.0000), Var(v=-0.2601, grad=0.0000), Var(v=-0.0791, grad=0.0000), Var(v=0.0455, grad=0.0000), Var(v=0.1073, grad=0.0000), Var(v=-0.0729, grad=0.0000), Var(v=-0.2165, grad=0.0000), Var(v=-0.1701, grad=0.0000), Var(v=0.0082, grad=0.0000), Var(v=-0.1594, grad=0.0000), Var(v=-0.0191, grad=0.0000), Var(v=0.0756, grad=0.0000), Var(v=0.1659, grad=0.0000), Var(v=0.0226, grad=0.0000), Var(v=0.0662, grad=0.0000), Var(v=-0.1154, grad=0.0000), Var(v=-0.0062, grad=0.0000), Var(v=0.0498, grad=0.0000), Var(v=0.0063, grad=0.0000), Var(v=-0.1023, grad=0.0000), Var(v=0.1202, grad=0.0000), Var(v=-0.1248, grad=0.0000), Var(v=-0.0697, grad=0.0000), Var(v=0.0690, grad=0.0000), Var(v=0.0358, grad=0.0000)], [Var(v=0.2866, grad=0.0000), Var(v=0.0657, grad=0.0000), Var(v=-0.0831, grad=0.0000), Var(v=-0.0345, grad=0.0000), Var(v=0.1647, grad=0.0000), Var(v=0.0697, grad=0.0000), Var(v=0.0076, grad=0.0000), Var(v=-0.0301, grad=0.0000), Var(v=-0.0035, grad=0.0000), Var(v=0.0389, grad=0.0000), Var(v=0.1719, grad=0.0000), Var(v=-0.0480, grad=0.0000), Var(v=-0.0825, grad=0.0000), Var(v=0.0963, grad=0.0000), Var(v=-0.0013, grad=0.0000), Var(v=-0.0254, grad=0.0000), Var(v=0.1418, grad=0.0000), Var(v=-0.1225, grad=0.0000), Var(v=-0.0160, grad=0.0000), Var(v=-0.0011, grad=0.0000), Var(v=0.0834, grad=0.0000), Var(v=0.1212, grad=0.0000), Var(v=-0.1125, grad=0.0000), Var(v=0.0284, grad=0.0000), Var(v=-0.0999, grad=0.0000), Var(v=0.0220, grad=0.0000), Var(v=-0.1039, grad=0.0000), Var(v=0.0825, grad=0.0000), Var(v=0.0019, grad=0.0000), Var(v=-0.1407, grad=0.0000), Var(v=0.0150, grad=0.0000), Var(v=-0.0092, grad=0.0000), Var(v=0.1062, grad=0.0000), Var(v=0.0120, grad=0.0000), Var(v=0.0129, grad=0.0000), Var(v=-0.1130, grad=0.0000), Var(v=-0.0427, grad=0.0000), Var(v=0.0915, grad=0.0000), Var(v=-0.0299, grad=0.0000), Var(v=0.0983, grad=0.0000), Var(v=0.0402, grad=0.0000), Var(v=-0.0217, grad=0.0000), Var(v=0.0794, grad=0.0000), Var(v=0.0411, grad=0.0000), Var(v=0.1203, grad=0.0000), Var(v=-0.0719, grad=0.0000), Var(v=-0.0067, grad=0.0000), Var(v=0.0354, grad=0.0000), Var(v=-0.0174, grad=0.0000), Var(v=0.1183, grad=0.0000)], [Var(v=0.0893, grad=0.0000), Var(v=-0.0095, grad=0.0000), Var(v=0.1786, grad=0.0000), Var(v=0.0754, grad=0.0000), Var(v=0.1368, grad=0.0000), Var(v=0.0697, grad=0.0000), Var(v=0.0615, grad=0.0000), Var(v=-0.0390, grad=0.0000), Var(v=0.0463, grad=0.0000), Var(v=-0.0133, grad=0.0000), Var(v=-0.0841, grad=0.0000), Var(v=-0.0101, grad=0.0000), Var(v=0.0449, grad=0.0000), Var(v=0.0726, grad=0.0000), Var(v=0.0881, grad=0.0000), Var(v=0.1081, grad=0.0000), Var(v=-0.0361, grad=0.0000), Var(v=0.0059, grad=0.0000), Var(v=-0.0888, grad=0.0000), Var(v=0.0208, grad=0.0000), Var(v=0.0217, grad=0.0000), Var(v=0.1701, grad=0.0000), Var(v=-0.0008, grad=0.0000), Var(v=-0.1052, grad=0.0000), Var(v=-0.0731, grad=0.0000), Var(v=-0.1579, grad=0.0000), Var(v=-0.0000, grad=0.0000), Var(v=-0.0660, grad=0.0000), Var(v=0.0173, grad=0.0000), Var(v=-0.0541, grad=0.0000), Var(v=0.1587, grad=0.0000), Var(v=-0.1095, grad=0.0000), Var(v=0.0053, grad=0.0000), Var(v=0.0126, grad=0.0000), Var(v=-0.1745, grad=0.0000), Var(v=-0.0687, grad=0.0000), Var(v=-0.0659, grad=0.0000), Var(v=0.0043, grad=0.0000), Var(v=0.0940, grad=0.0000), Var(v=-0.0034, grad=0.0000), Var(v=-0.1069, grad=0.0000), Var(v=0.0325, grad=0.0000), Var(v=-0.1926, grad=0.0000), Var(v=0.0340, grad=0.0000), Var(v=0.0676, grad=0.0000), Var(v=0.0444, grad=0.0000), Var(v=0.0558, grad=0.0000), Var(v=-0.0961, grad=0.0000), Var(v=-0.0072, grad=0.0000), Var(v=-0.0670, grad=0.0000)], [Var(v=0.1514, grad=0.0000), Var(v=0.0310, grad=0.0000), Var(v=-0.1954, grad=0.0000), Var(v=0.1212, grad=0.0000), Var(v=0.1114, grad=0.0000), Var(v=-0.0305, grad=0.0000), Var(v=0.0821, grad=0.0000), Var(v=-0.1960, grad=0.0000), Var(v=0.0702, grad=0.0000), Var(v=-0.0563, grad=0.0000), Var(v=0.0617, grad=0.0000), Var(v=-0.1473, grad=0.0000), Var(v=0.1792, grad=0.0000), Var(v=0.0089, grad=0.0000), Var(v=-0.0036, grad=0.0000), Var(v=-0.0505, grad=0.0000), Var(v=-0.0634, grad=0.0000), Var(v=-0.0618, grad=0.0000), Var(v=-0.0309, grad=0.0000), Var(v=-0.0188, grad=0.0000), Var(v=0.0396, grad=0.0000), Var(v=-0.0443, grad=0.0000), Var(v=-0.0064, grad=0.0000), Var(v=-0.1546, grad=0.0000), Var(v=-0.0347, grad=0.0000), Var(v=0.0705, grad=0.0000), Var(v=-0.1205, grad=0.0000), Var(v=-0.0969, grad=0.0000), Var(v=-0.1689, grad=0.0000), Var(v=0.0226, grad=0.0000), Var(v=-0.1422, grad=0.0000), Var(v=-0.1027, grad=0.0000), Var(v=0.0906, grad=0.0000), Var(v=0.0213, grad=0.0000), Var(v=0.0934, grad=0.0000), Var(v=-0.0245, grad=0.0000), Var(v=-0.0779, grad=0.0000), Var(v=0.0267, grad=0.0000), Var(v=-0.1523, grad=0.0000), Var(v=-0.0514, grad=0.0000), Var(v=0.1669, grad=0.0000), Var(v=0.0106, grad=0.0000), Var(v=0.0234, grad=0.0000), Var(v=-0.0438, grad=0.0000), Var(v=0.1307, grad=0.0000), Var(v=-0.0058, grad=0.0000), Var(v=0.0394, grad=0.0000), Var(v=0.0489, grad=0.0000), Var(v=0.0782, grad=0.0000), Var(v=-0.0117, grad=0.0000)], [Var(v=0.1336, grad=0.0000), Var(v=0.0546, grad=0.0000), Var(v=0.1318, grad=0.0000), Var(v=-0.1104, grad=0.0000), Var(v=0.0929, grad=0.0000), Var(v=0.1101, grad=0.0000), Var(v=-0.1914, grad=0.0000), Var(v=0.1046, grad=0.0000), Var(v=-0.1643, grad=0.0000), Var(v=-0.0408, grad=0.0000), Var(v=0.0442, grad=0.0000), Var(v=-0.1348, grad=0.0000), Var(v=0.0595, grad=0.0000), Var(v=-0.1436, grad=0.0000), Var(v=-0.0653, grad=0.0000), Var(v=-0.0921, grad=0.0000), Var(v=-0.0951, grad=0.0000), Var(v=0.0565, grad=0.0000), Var(v=0.0858, grad=0.0000), Var(v=-0.1522, grad=0.0000), Var(v=0.0433, grad=0.0000), Var(v=-0.0019, grad=0.0000), Var(v=-0.0274, grad=0.0000), Var(v=0.0184, grad=0.0000), Var(v=0.0192, grad=0.0000), Var(v=0.0358, grad=0.0000), Var(v=-0.0417, grad=0.0000), Var(v=-0.0518, grad=0.0000), Var(v=0.0642, grad=0.0000), Var(v=-0.0125, grad=0.0000), Var(v=0.1307, grad=0.0000), Var(v=0.0225, grad=0.0000), Var(v=0.1457, grad=0.0000), Var(v=0.0192, grad=0.0000), Var(v=0.0331, grad=0.0000), Var(v=0.0013, grad=0.0000), Var(v=0.0758, grad=0.0000), Var(v=-0.0606, grad=0.0000), Var(v=0.0277, grad=0.0000), Var(v=-0.0328, grad=0.0000), Var(v=0.0169, grad=0.0000), Var(v=0.0489, grad=0.0000), Var(v=-0.0621, grad=0.0000), Var(v=0.1666, grad=0.0000), Var(v=0.1027, grad=0.0000), Var(v=0.0361, grad=0.0000), Var(v=-0.0392, grad=0.0000), Var(v=-0.1823, grad=0.0000), Var(v=0.0859, grad=0.0000), Var(v=0.0788, grad=0.0000)], [Var(v=-0.0739, grad=0.0000), Var(v=-0.1249, grad=0.0000), Var(v=0.1367, grad=0.0000), Var(v=-0.0640, grad=0.0000), Var(v=-0.0226, grad=0.0000), Var(v=0.0322, grad=0.0000), Var(v=0.1691, grad=0.0000), Var(v=-0.0147, grad=0.0000), Var(v=0.1418, grad=0.0000), Var(v=-0.1078, grad=0.0000), Var(v=0.2885, grad=0.0000), Var(v=-0.0507, grad=0.0000), Var(v=-0.0516, grad=0.0000), Var(v=-0.0149, grad=0.0000), Var(v=-0.0267, grad=0.0000), Var(v=0.1152, grad=0.0000), Var(v=-0.0790, grad=0.0000), Var(v=0.1109, grad=0.0000), Var(v=-0.0844, grad=0.0000), Var(v=0.0452, grad=0.0000), Var(v=-0.0299, grad=0.0000), Var(v=-0.3247, grad=0.0000), Var(v=0.1172, grad=0.0000), Var(v=-0.1676, grad=0.0000), Var(v=-0.0725, grad=0.0000), Var(v=-0.2334, grad=0.0000), Var(v=-0.0180, grad=0.0000), Var(v=-0.1014, grad=0.0000), Var(v=0.0233, grad=0.0000), Var(v=0.2147, grad=0.0000), Var(v=-0.0514, grad=0.0000), Var(v=0.1219, grad=0.0000), Var(v=-0.1838, grad=0.0000), Var(v=0.0772, grad=0.0000), Var(v=-0.0294, grad=0.0000), Var(v=-0.1071, grad=0.0000), Var(v=-0.0440, grad=0.0000), Var(v=-0.1072, grad=0.0000), Var(v=0.0185, grad=0.0000), Var(v=-0.0599, grad=0.0000), Var(v=0.1244, grad=0.0000), Var(v=0.2511, grad=0.0000), Var(v=0.0973, grad=0.0000), Var(v=0.0730, grad=0.0000), Var(v=0.0179, grad=0.0000), Var(v=-0.1290, grad=0.0000), Var(v=-0.0832, grad=0.0000), Var(v=0.0073, grad=0.0000), Var(v=-0.0972, grad=0.0000), Var(v=-0.0310, grad=0.0000)], [Var(v=-0.0753, grad=0.0000), Var(v=0.0612, grad=0.0000), Var(v=-0.0848, grad=0.0000), Var(v=0.1205, grad=0.0000), Var(v=-0.0660, grad=0.0000), Var(v=-0.0980, grad=0.0000), Var(v=0.0219, grad=0.0000), Var(v=0.1480, grad=0.0000), Var(v=-0.1111, grad=0.0000), Var(v=-0.0899, grad=0.0000), Var(v=0.0186, grad=0.0000), Var(v=-0.0932, grad=0.0000), Var(v=0.0217, grad=0.0000), Var(v=0.0425, grad=0.0000), Var(v=-0.1582, grad=0.0000), Var(v=0.0247, grad=0.0000), Var(v=-0.1530, grad=0.0000), Var(v=0.0953, grad=0.0000), Var(v=-0.0977, grad=0.0000), Var(v=-0.1511, grad=0.0000), Var(v=0.0691, grad=0.0000), Var(v=-0.0251, grad=0.0000), Var(v=0.0075, grad=0.0000), Var(v=0.0605, grad=0.0000), Var(v=-0.0566, grad=0.0000), Var(v=0.0829, grad=0.0000), Var(v=-0.2213, grad=0.0000), Var(v=-0.0476, grad=0.0000), Var(v=0.0257, grad=0.0000), Var(v=0.0034, grad=0.0000), Var(v=0.1822, grad=0.0000), Var(v=-0.0758, grad=0.0000), Var(v=-0.1140, grad=0.0000), Var(v=0.1056, grad=0.0000), Var(v=-0.0428, grad=0.0000), Var(v=0.0764, grad=0.0000), Var(v=-0.0090, grad=0.0000), Var(v=-0.0839, grad=0.0000), Var(v=0.0824, grad=0.0000), Var(v=0.0876, grad=0.0000), Var(v=0.0046, grad=0.0000), Var(v=-0.1277, grad=0.0000), Var(v=-0.0738, grad=0.0000), Var(v=-0.0746, grad=0.0000), Var(v=0.0060, grad=0.0000), Var(v=-0.0008, grad=0.0000), Var(v=-0.2493, grad=0.0000), Var(v=0.0599, grad=0.0000), Var(v=-0.0246, grad=0.0000), Var(v=-0.1004, grad=0.0000)], [Var(v=0.0291, grad=0.0000), Var(v=-0.1789, grad=0.0000), Var(v=0.1133, grad=0.0000), Var(v=-0.1263, grad=0.0000), Var(v=0.0993, grad=0.0000), Var(v=-0.1879, grad=0.0000), Var(v=0.0199, grad=0.0000), Var(v=0.1957, grad=0.0000), Var(v=-0.1261, grad=0.0000), Var(v=-0.0966, grad=0.0000), Var(v=0.1413, grad=0.0000), Var(v=-0.0938, grad=0.0000), Var(v=-0.0697, grad=0.0000), Var(v=-0.0311, grad=0.0000), Var(v=-0.0267, grad=0.0000), Var(v=-0.1445, grad=0.0000), Var(v=0.0393, grad=0.0000), Var(v=0.1466, grad=0.0000), Var(v=-0.0070, grad=0.0000), Var(v=0.0047, grad=0.0000), Var(v=0.0488, grad=0.0000), Var(v=0.0359, grad=0.0000), Var(v=0.1247, grad=0.0000), Var(v=0.0388, grad=0.0000), Var(v=-0.0488, grad=0.0000), Var(v=-0.0555, grad=0.0000), Var(v=-0.0504, grad=0.0000), Var(v=0.0698, grad=0.0000), Var(v=-0.1209, grad=0.0000), Var(v=-0.2631, grad=0.0000), Var(v=-0.2452, grad=0.0000), Var(v=0.0824, grad=0.0000), Var(v=-0.0804, grad=0.0000), Var(v=0.0706, grad=0.0000), Var(v=-0.0314, grad=0.0000), Var(v=-0.0370, grad=0.0000), Var(v=-0.2915, grad=0.0000), Var(v=0.0486, grad=0.0000), Var(v=0.0119, grad=0.0000), Var(v=0.0553, grad=0.0000), Var(v=-0.0350, grad=0.0000), Var(v=-0.0418, grad=0.0000), Var(v=-0.0130, grad=0.0000), Var(v=0.0464, grad=0.0000), Var(v=-0.0094, grad=0.0000), Var(v=0.0821, grad=0.0000), Var(v=0.0590, grad=0.0000), Var(v=-0.0279, grad=0.0000), Var(v=0.0393, grad=0.0000), Var(v=-0.0262, grad=0.0000)]] Biases: [Var(v=0.0000, grad=0.0000), Var(v=0.0000, grad=0.0000), Var(v=0.0000, grad=0.0000), Var(v=0.0000, grad=0.0000), Var(v=0.0000, grad=0.0000), Var(v=0.0000, grad=0.0000), Var(v=0.0000, grad=0.0000), Var(v=0.0000, grad=0.0000), Var(v=0.0000, grad=0.0000), Var(v=0.0000, grad=0.0000), Var(v=0.0000, grad=0.0000), Var(v=0.0000, grad=0.0000), Var(v=0.0000, grad=0.0000), Var(v=0.0000, grad=0.0000), Var(v=0.0000, grad=0.0000), Var(v=0.0000, grad=0.0000), Var(v=0.0000, grad=0.0000), Var(v=0.0000, grad=0.0000), Var(v=0.0000, grad=0.0000), Var(v=0.0000, grad=0.0000), Var(v=0.0000, grad=0.0000), Var(v=0.0000, grad=0.0000), Var(v=0.0000, grad=0.0000), Var(v=0.0000, grad=0.0000), Var(v=0.0000, grad=0.0000), Var(v=0.0000, grad=0.0000), Var(v=0.0000, grad=0.0000), Var(v=0.0000, grad=0.0000), Var(v=0.0000, grad=0.0000), Var(v=0.0000, grad=0.0000), Var(v=0.0000, grad=0.0000), Var(v=0.0000, grad=0.0000), Var(v=0.0000, grad=0.0000), Var(v=0.0000, grad=0.0000), Var(v=0.0000, grad=0.0000), Var(v=0.0000, grad=0.0000), Var(v=0.0000, grad=0.0000), Var(v=0.0000, grad=0.0000), Var(v=0.0000, grad=0.0000), Var(v=0.0000, grad=0.0000), Var(v=0.0000, grad=0.0000), Var(v=0.0000, grad=0.0000), Var(v=0.0000, grad=0.0000), Var(v=0.0000, grad=0.0000), Var(v=0.0000, grad=0.0000), Var(v=0.0000, grad=0.0000), Var(v=0.0000, grad=0.0000), Var(v=0.0000, grad=0.0000), Var(v=0.0000, grad=0.0000), Var(v=0.0000, grad=0.0000)]\n",
            "Layer 2 \n",
            " Weights: [[Var(v=-0.0574, grad=0.0000)], [Var(v=0.1611, grad=0.0000)], [Var(v=0.1226, grad=0.0000)], [Var(v=0.0052, grad=0.0000)], [Var(v=0.0088, grad=0.0000)], [Var(v=0.2847, grad=0.0000)], [Var(v=0.1250, grad=0.0000)], [Var(v=-0.0115, grad=0.0000)], [Var(v=0.0100, grad=0.0000)], [Var(v=-0.0938, grad=0.0000)], [Var(v=0.1177, grad=0.0000)], [Var(v=-0.0389, grad=0.0000)], [Var(v=-0.1862, grad=0.0000)], [Var(v=-0.0748, grad=0.0000)], [Var(v=-0.0493, grad=0.0000)], [Var(v=0.0035, grad=0.0000)], [Var(v=-0.0723, grad=0.0000)], [Var(v=0.0795, grad=0.0000)], [Var(v=0.1830, grad=0.0000)], [Var(v=0.0914, grad=0.0000)], [Var(v=0.0669, grad=0.0000)], [Var(v=-0.1738, grad=0.0000)], [Var(v=-0.2180, grad=0.0000)], [Var(v=-0.0383, grad=0.0000)], [Var(v=0.0410, grad=0.0000)], [Var(v=0.1838, grad=0.0000)], [Var(v=0.1480, grad=0.0000)], [Var(v=0.0944, grad=0.0000)], [Var(v=0.0805, grad=0.0000)], [Var(v=-0.2091, grad=0.0000)], [Var(v=0.1285, grad=0.0000)], [Var(v=-0.0050, grad=0.0000)], [Var(v=0.1150, grad=0.0000)], [Var(v=0.0450, grad=0.0000)], [Var(v=0.0800, grad=0.0000)], [Var(v=0.0170, grad=0.0000)], [Var(v=0.0897, grad=0.0000)], [Var(v=0.0417, grad=0.0000)], [Var(v=0.0395, grad=0.0000)], [Var(v=0.1869, grad=0.0000)], [Var(v=-0.2257, grad=0.0000)], [Var(v=-0.0618, grad=0.0000)], [Var(v=0.0424, grad=0.0000)], [Var(v=-0.0411, grad=0.0000)], [Var(v=-0.0225, grad=0.0000)], [Var(v=0.1278, grad=0.0000)], [Var(v=-0.1140, grad=0.0000)], [Var(v=0.0234, grad=0.0000)], [Var(v=-0.0922, grad=0.0000)], [Var(v=0.0932, grad=0.0000)]] Biases: [Var(v=0.0000, grad=0.0000)]\n"
          ]
        },
        {
          "output_type": "execute_result",
          "data": {
            "text/plain": [
              "[None, None, None]"
            ]
          },
          "metadata": {},
          "execution_count": 195
        }
      ],
      "source": [
        "print('Network before update:')\n",
        "[print('Layer', i, '\\n', NN[i]) for i in range(len(NN))]\n",
        "\n",
        "def parameters(network):\n",
        "  params = []\n",
        "  for layer in range(len(network)):\n",
        "    params += network[layer].parameters()\n",
        "  return params\n",
        "\n",
        "def update_parameters(params, learning_rate=0.01):\n",
        "  for p in params:\n",
        "    p.v -= learning_rate*p.grad\n",
        "\n",
        "def zero_gradients(params):\n",
        "  for p in params:\n",
        "    p.grad = 0.0\n",
        "\n",
        "update_parameters(parameters(NN))\n",
        "\n",
        "print('\\nNetwork after update:')\n",
        "[print('Layer', i, '\\n', NN[i]) for i in range(len(NN))]\n",
        "\n",
        "zero_gradients(parameters(NN))\n",
        "\n",
        "print('\\nNetwork after zeroing gradients:')\n",
        "[print('Layer', i, '\\n', NN[i]) for i in range(len(NN))]"
      ]
    },
    {
      "cell_type": "code",
      "execution_count": 196,
      "metadata": {
        "id": "woWYpdw6FtIO"
      },
      "outputs": [],
      "source": [
        "# Initialize an arbitrary neural network\n",
        "NN = [\n",
        "    DenseLayer(1, 8, lambda x: x.relu()),\n",
        "    DenseLayer(8, 1, lambda x: x.identity())\n",
        "]\n",
        "\n",
        "# Recommended hyper-parameters for 3-D:\n",
        "#NN = [\n",
        "#    DenseLayer(3, 16, lambda x: x.relu()),\n",
        "#    DenseLayer(16, 1, lambda x: x.identity())\n",
        "#]\n",
        "\n",
        "\n",
        "### Notice that, when we switch from tanh to relu activation, we decrease the learning rate. This is due the stability of the gradients\n",
        "## of the activation functions."
      ]
    },
    {
      "cell_type": "code",
      "execution_count": 197,
      "metadata": {
        "id": "mdqaqYBVFtIR"
      },
      "outputs": [],
      "source": [
        "# Initialize training hyperparameters\n",
        "EPOCHS = 200\n",
        "LEARN_R = 2e-3"
      ]
    },
    {
      "cell_type": "code",
      "execution_count": 198,
      "metadata": {
        "colab": {
          "base_uri": "https://localhost:8080/"
        },
        "id": "5kfg76GMFtIW",
        "outputId": "ff0d783d-f350-485a-ec24-dd3f0f531866",
        "scrolled": true
      },
      "outputs": [
        {
          "output_type": "stream",
          "name": "stdout",
          "text": [
            "   0 ( 0.00%) Train loss: 104.879 \t Validation loss: 106.683\n",
            "  10 ( 5.00%) Train loss: 71.324 \t Validation loss: 69.122\n",
            "  20 (10.00%) Train loss: 12.736 \t Validation loss: 9.687\n",
            "  30 (15.00%) Train loss: 12.001 \t Validation loss: 8.940\n",
            "  40 (20.00%) Train loss: 12.001 \t Validation loss: 8.938\n",
            "  50 (25.00%) Train loss: 12.001 \t Validation loss: 8.938\n",
            "  60 (30.00%) Train loss: 12.001 \t Validation loss: 8.938\n",
            "  70 (35.00%) Train loss: 12.001 \t Validation loss: 8.938\n",
            "  80 (40.00%) Train loss: 12.001 \t Validation loss: 8.938\n",
            "  90 (45.00%) Train loss: 12.001 \t Validation loss: 8.938\n",
            " 100 (50.00%) Train loss: 12.001 \t Validation loss: 8.938\n",
            " 110 (55.00%) Train loss: 12.001 \t Validation loss: 8.938\n",
            " 120 (60.00%) Train loss: 12.001 \t Validation loss: 8.938\n",
            " 130 (65.00%) Train loss: 12.001 \t Validation loss: 8.938\n",
            " 140 (70.00%) Train loss: 12.001 \t Validation loss: 8.938\n",
            " 150 (75.00%) Train loss: 12.001 \t Validation loss: 8.938\n",
            " 160 (80.00%) Train loss: 12.001 \t Validation loss: 8.938\n",
            " 170 (85.00%) Train loss: 12.001 \t Validation loss: 8.938\n",
            " 180 (90.00%) Train loss: 12.001 \t Validation loss: 8.938\n",
            " 190 (95.00%) Train loss: 12.001 \t Validation loss: 8.938\n"
          ]
        }
      ],
      "source": [
        "train_loss = []\n",
        "val_loss = []\n",
        "\n",
        "for e in range(EPOCHS):\n",
        "\n",
        "    # Forward pass and loss computation\n",
        "    Loss = squared_loss(y_train, forward(x_train, NN))\n",
        "\n",
        "    # Backward pass\n",
        "    Loss.backward()\n",
        "\n",
        "    # gradient descent update\n",
        "    update_parameters(parameters(NN), LEARN_R)\n",
        "    zero_gradients(parameters(NN))\n",
        "\n",
        "    # Training loss\n",
        "    train_loss.append(Loss.v)\n",
        "\n",
        "    # Validation\n",
        "    Loss_validation = squared_loss(y_validation, forward(x_validation, NN))\n",
        "    val_loss.append(Loss_validation.v)\n",
        "\n",
        "    if e%10==0:\n",
        "        print(\"{:4d}\".format(e),\n",
        "              \"({:5.2f}%)\".format(e/EPOCHS*100),\n",
        "              \"Train loss: {:4.3f} \\t Validation loss: {:4.3f}\".format(train_loss[-1], val_loss[-1]))\n",
        "\n"
      ]
    },
    {
      "cell_type": "code",
      "execution_count": 199,
      "metadata": {
        "colab": {
          "base_uri": "https://localhost:8080/",
          "height": 430
        },
        "id": "VetyRWFwFtIY",
        "outputId": "ad021d7f-3fc4-40ce-88af-c4d0cde0ba03"
      },
      "outputs": [
        {
          "output_type": "display_data",
          "data": {
            "text/plain": [
              "<Figure size 640x480 with 1 Axes>"
            ],
            "image/png": "[encoded data removed]"
          },
          "metadata": {}
        }
      ],
      "source": [
        "plt.plot(range(len(train_loss)), train_loss);\n",
        "plt.plot(range(len(val_loss)), val_loss);"
      ]
    },
    {
      "cell_type": "markdown",
      "metadata": {
        "id": "8OgmIrM9FtIb"
      },
      "source": [
        "# Testing\n",
        "\n",
        "We have kept the calculation of the test error separate in order to emphasize that you should not use the test set in optimization."
      ]
    },
    {
      "cell_type": "code",
      "execution_count": 200,
      "metadata": {
        "id": "HmNi7S-vFtIc"
      },
      "outputs": [],
      "source": [
        "output_test = forward(x_test, NN)"
      ]
    },
    {
      "cell_type": "code",
      "execution_count": 201,
      "metadata": {
        "colab": {
          "base_uri": "https://localhost:8080/",
          "height": 504
        },
        "id": "7mmJOTSEFtIf",
        "outputId": "f8873fcd-ae39-4f5a-f615-792598d51fe8"
      },
      "outputs": [
        {
          "output_type": "stream",
          "name": "stdout",
          "text": [
            "Test loss:  9.305\n"
          ]
        },
        {
          "output_type": "display_data",
          "data": {
            "text/plain": [
              "<Figure size 640x480 with 1 Axes>"
            ],
            "image/png": "[encoded data removed]"
          },
          "metadata": {}
        }
      ],
      "source": [
        "y_test_np = Var_to_nparray(y_test)\n",
        "plt.scatter(y_test_np, Var_to_nparray(output_test));\n",
        "plt.plot([np.min(y_test_np), np.max(y_test_np)], [np.min(y_test_np), np.max(y_test_np)], color='k');\n",
        "plt.xlabel(\"y\");\n",
        "plt.ylabel(\"$\\hat{y}$\");\n",
        "plt.title(\"Model prediction vs real in the test set, the close to the line the better\")\n",
        "plt.grid(True);\n",
        "plt.axis('equal');\n",
        "plt.tight_layout();\n",
        "\n",
        "Loss_test = squared_loss(y_test, forward(x_test, NN))\n",
        "\n",
        "print(\"Test loss:  {:4.3f}\".format(Loss_test.v))"
      ]
    },
    {
      "cell_type": "code",
      "execution_count": 202,
      "metadata": {
        "colab": {
          "base_uri": "https://localhost:8080/",
          "height": 449
        },
        "id": "ODi0WlmQFtIh",
        "outputId": "1526edc9-bcb8-41af-e675-708cd1d94fad"
      },
      "outputs": [
        {
          "output_type": "display_data",
          "data": {
            "text/plain": [
              "<Figure size 640x480 with 1 Axes>"
            ],
            "image/png": "[encoded data removed]"
          },
          "metadata": {}
        }
      ],
      "source": [
        "x_test_np = Var_to_nparray(x_test)\n",
        "x_train_np = Var_to_nparray(x_train)\n",
        "y_train_np = Var_to_nparray(y_train)\n",
        "if D1:\n",
        "    plt.scatter(x_train_np, y_train_np, label=\"train data\");\n",
        "    plt.scatter(x_test_np, Var_to_nparray(output_test), label=\"test prediction\");\n",
        "    plt.scatter(x_test_np, y_test_np, label=\"test data\");\n",
        "    plt.legend();\n",
        "    plt.xlabel(\"x\");\n",
        "    plt.ylabel(\"y\");\n",
        "else:\n",
        "    plt.scatter(x_train_np[:,1], y_train, label=\"train data\");\n",
        "    plt.scatter(x_test_np[:,1], Var_to_nparray(output_test), label=\"test data prediction\");\n",
        "    plt.scatter(x_test_np[:,1], y_test_np, label=\"test data\");\n",
        "    plt.legend();\n",
        "    plt.xlabel(\"x\");\n",
        "    plt.ylabel(\"y\");"
      ]
    },
    {
      "cell_type": "markdown",
      "metadata": {
        "id": "zTBAmjsAFtIk"
      },
      "source": [
        "## Exercise l) Show overfitting, underfitting and just right fitting\n",
        "\n",
        "Vary the architecture and other things to show clear signs of overfitting (=training loss significantly lower than test loss) and underfitting (=not fitting enoung to training data so that test performance is also hurt).\n",
        "\n",
        "See also if you can get a good compromise which leads to a low validation loss.\n",
        "\n",
        "For this problem do you see any big difference between validation and test loss? The answer here will probably be no. Discuss cases where it is important to keep the two separate.\n",
        "\n",
        "_Insert written answer here._\n",
        "\n",
        "### Answer\n",
        "If the validation loss starts to increase while training loss decreases, it means the model is overfitting to the training data."
      ]
    },
    {
      "cell_type": "code",
      "execution_count": null,
      "metadata": {
        "id": "tQZCn2dxFtIl"
      },
      "outputs": [],
      "source": [
        "# Insert your code for getting overfitting, underfitting and just right fitting"
      ]
    },
    {
      "cell_type": "markdown",
      "metadata": {
        "id": "fYPZP-eTFtIo"
      },
      "source": [
        "# Next steps - classification\n",
        "\n",
        "It is straight forward to extend what we have done to classification.\n",
        "\n",
        "For numerical stability it is better to make softmax and cross-entropy as one function so we write the cross entropy loss as a function of the logits we talked about last week.\n",
        "\n",
        "Next week we will see how to perform classification in PyTorch."
      ]
    },
    {
      "cell_type": "markdown",
      "metadata": {
        "id": "qsVPul3QFtIo"
      },
      "source": [
        "## Exercise m) optional - Implement backpropagation for classification\n",
        "\n",
        "Should be possible with very few lines of code. :-)"
      ]
    },
    {
      "cell_type": "code",
      "execution_count": null,
      "metadata": {
        "id": "oC8QrI2tFtIp"
      },
      "outputs": [],
      "source": [
        "# Just add code."
      ]
    },
    {
      "cell_type": "markdown",
      "metadata": {
        "id": "APqhJv3tta1O"
      },
      "source": [
        "## Exercise n) optional - Introduce a NeuralNetwork class\n",
        "\n",
        "The functions we applied on the neural network (parameters, update_parameters and zero_gradients) can more naturally be included as methods in a NeuralNetwork class. Make such a class and modify the code to use it."
      ]
    },
    {
      "cell_type": "code",
      "execution_count": null,
      "metadata": {
        "id": "Dqfnor1ouMLq"
      },
      "outputs": [],
      "source": [
        "# just add some code"
      ]
    }
  ],
  "metadata": {
    "anaconda-cloud": {},
    "colab": {
      "collapsed_sections": [
        "U4057_ljNvWB",
        "p_8n_SKnIW2F",
        "oLrGJytZFtGm",
        "jpIZPBpNI0pO",
        "_79HOAXrFtHK",
        "mqeyab9qFtGs",
        "-XyXBD37FtHk",
        "SrwSJ2UWFtHu",
        "zTBAmjsAFtIk",
        "qsVPul3QFtIo",
        "APqhJv3tta1O"
      ],
      "name": "2.1-EXE-FNN-AutoDif-Nanograd.ipynb",
      "provenance": [],
      "toc_visible": true
    },
    "kernelspec": {
      "display_name": "Python 3",
      "language": "python",
      "name": "python3"
    },
    "language_info": {
      "codemirror_mode": {
        "name": "ipython",
        "version": 3
      },
      "file_extension": ".py",
      "mimetype": "text/x-python",
      "name": "python",
      "nbconvert_exporter": "python",
      "pygments_lexer": "ipython3",
      "version": "3.9.12"
    }
  },
  "nbformat": 4,
  "nbformat_minor": 0
}